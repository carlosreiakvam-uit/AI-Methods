{
 "cells": [
  {
   "cell_type": "code",
   "execution_count": 17,
   "outputs": [],
   "source": [
    "import math as m\n",
    "import random\n",
    "import numpy as np"
   ],
   "metadata": {
    "collapsed": false,
    "pycharm": {
     "name": "#%%\n"
    }
   }
  },
  {
   "cell_type": "code",
   "execution_count": 2,
   "metadata": {
    "collapsed": true,
    "pycharm": {
     "name": "#%%\n"
    }
   },
   "outputs": [],
   "source": [
    "def obj(x):\n",
    "    return x * m.sin(x)"
   ]
  },
  {
   "cell_type": "code",
   "execution_count": 3,
   "outputs": [],
   "source": [
    "def derv(x):\n",
    "    return m.sin(x) + x * m.cos(x)"
   ],
   "metadata": {
    "collapsed": false,
    "pycharm": {
     "name": "#%%\n"
    }
   }
  },
  {
   "cell_type": "code",
   "execution_count": 39,
   "outputs": [],
   "source": [
    "def gradient_descent(objective,derivative,bounds,n_iter,step_size):\n",
    "    solution = bounds[random.randint(0,len(bound))]\n",
    "    for i in range(n_iter):\n",
    "        gradient = derivative(solution)\n",
    "        solution = solution - step_size * gradient\n",
    "        print('solution', solution)\n",
    "    solution_eval = objective(solution)\n",
    "    return [solution,solution_eval]\n",
    "\n"
   ],
   "metadata": {
    "collapsed": false,
    "pycharm": {
     "name": "#%%\n"
    }
   }
  },
  {
   "cell_type": "code",
   "execution_count": 40,
   "outputs": [],
   "source": [
    "bound = np.array([i for i in range(-8,8)])\n",
    "n = 30\n",
    "h = 0.1\n"
   ],
   "metadata": {
    "collapsed": false,
    "pycharm": {
     "name": "#%%\n"
    }
   }
  },
  {
   "cell_type": "code",
   "execution_count": 41,
   "outputs": [
    {
     "name": "stdout",
     "output_type": "stream",
     "text": [
      "solution -1.9922996246268603\n",
      "solution -1.9825636120833685\n",
      "solution -1.9702701666708498\n",
      "solution -1.954774029655416\n",
      "solution -1.9352839202207257\n",
      "solution -1.910840447391892\n",
      "solution -1.8802984627898047\n",
      "solution -1.8423209001635306\n",
      "solution -1.7953957199979904\n",
      "solution -1.7378936850313202\n",
      "solution -1.668191309931376\n",
      "solution -1.5848868964334923\n",
      "solution -1.4871299454979658\n",
      "solution -1.3750519774800622\n",
      "solution -1.2502173502910086\n",
      "solution -1.1159156763906866\n",
      "solution -0.9770560044883094\n",
      "solution -0.8395077397993552\n",
      "solution -0.7090115064773957\n",
      "solution -0.5900887374670444\n",
      "solution -0.48541530167884184\n",
      "solution -0.39582365549950016\n",
      "solution -0.3207449971459874\n",
      "solution -0.2587789060519866\n",
      "solution -0.2081726362307746\n",
      "solution -0.16713757942894836\n",
      "solution -0.13402067753789698\n",
      "solution -0.10737680716877834\n",
      "solution -0.08598390977843873\n",
      "solution -0.06882948426604063\n"
     ]
    },
    {
     "data": {
      "text/plain": "[-0.06882948426604063, 0.004733758142562481]"
     },
     "execution_count": 41,
     "metadata": {},
     "output_type": "execute_result"
    }
   ],
   "source": [
    "sol, sol_eval = gradient_descent(obj,derv,bound,n,h)\n",
    "print(f\"solution: {sol}\\nsol_eval: {sol_eval}\")"
   ],
   "metadata": {
    "collapsed": false,
    "pycharm": {
     "name": "#%%\n"
    }
   }
  },
  {
   "cell_type": "code",
   "execution_count": null,
   "outputs": [],
   "source": [],
   "metadata": {
    "collapsed": false,
    "pycharm": {
     "name": "#%%\n"
    }
   }
  }
 ],
 "metadata": {
  "kernelspec": {
   "display_name": "Python 3",
   "language": "python",
   "name": "python3"
  },
  "language_info": {
   "codemirror_mode": {
    "name": "ipython",
    "version": 2
   },
   "file_extension": ".py",
   "mimetype": "text/x-python",
   "name": "python",
   "nbconvert_exporter": "python",
   "pygments_lexer": "ipython2",
   "version": "2.7.6"
  }
 },
 "nbformat": 4,
 "nbformat_minor": 0
}