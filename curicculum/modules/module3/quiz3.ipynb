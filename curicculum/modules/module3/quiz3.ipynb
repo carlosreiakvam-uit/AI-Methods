{
 "cells": [
  {
   "cell_type": "markdown",
   "source": [
    "Importing and declaring functions"
   ],
   "metadata": {
    "collapsed": false,
    "pycharm": {
     "name": "#%% md\n"
    }
   }
  },
  {
   "cell_type": "code",
   "execution_count": 49,
   "metadata": {
    "collapsed": true,
    "pycharm": {
     "name": "#%%\n"
    }
   },
   "outputs": [],
   "source": [
    "import matplotlib.pyplot as plt\n",
    "import numpy as np\n",
    "import math as m\n",
    "import pandas"
   ]
  },
  {
   "cell_type": "code",
   "execution_count": 50,
   "outputs": [],
   "source": [
    "def q(x):\n",
    "    return ((x + 3) ** 2) * (1 - x)"
   ],
   "metadata": {
    "collapsed": false,
    "pycharm": {
     "name": "#%%\n"
    }
   }
  },
  {
   "cell_type": "code",
   "execution_count": 51,
   "outputs": [],
   "source": [
    "def q_prime(x):\n",
    "    return -m.pow((3 * x), 2) - (10 * x) - 3"
   ],
   "metadata": {
    "collapsed": false,
    "pycharm": {
     "name": "#%%\n"
    }
   }
  },
  {
   "cell_type": "code",
   "execution_count": 52,
   "outputs": [],
   "source": [
    "def gradient_descent(start, learning_rate: float, n_iter: int):\n",
    "    x = start  # starting point for x values\n",
    "    # rows = [[start, None, None, None]]\n",
    "    rows = []\n",
    "    for i in range(n_iter):\n",
    "        # Inspecting slope of x\n",
    "        prime = q_prime(x)\n",
    "        # if prime < -1000 or prime > 1000:\n",
    "        #     break\n",
    "        y = q(x)\n",
    "\n",
    "        # Getting new step to decrease in x values\n",
    "        decrease_step = learning_rate * prime\n",
    "\n",
    "        # Appending values to row\n",
    "        rows.append([prime, decrease_step, x, y])\n",
    "\n",
    "        # Set new step for next iteration of x\n",
    "        x += decrease_step\n",
    "    return rows"
   ],
   "metadata": {
    "collapsed": false,
    "pycharm": {
     "name": "#%%\n"
    }
   }
  },
  {
   "cell_type": "markdown",
   "source": [
    "Initializing Values"
   ],
   "metadata": {
    "collapsed": false,
    "pycharm": {
     "name": "#%% md\n"
    }
   }
  },
  {
   "cell_type": "code",
   "execution_count": 53,
   "outputs": [],
   "source": [
    "start = -1\n",
    "learning_rate = 0.1\n",
    "n_iter = 3"
   ],
   "metadata": {
    "collapsed": false,
    "pycharm": {
     "name": "#%%\n"
    }
   }
  },
  {
   "cell_type": "markdown",
   "source": [
    "Calculating gradient descent"
   ],
   "metadata": {
    "collapsed": false,
    "pycharm": {
     "name": "#%% md\n"
    }
   }
  },
  {
   "cell_type": "code",
   "execution_count": 54,
   "outputs": [],
   "source": [
    "data = gradient_descent(start=start, learning_rate=learning_rate, n_iter=n_iter)"
   ],
   "metadata": {
    "collapsed": false,
    "pycharm": {
     "name": "#%%\n"
    }
   }
  },
  {
   "cell_type": "markdown",
   "source": [
    "Creating and printing Pandas Dataframe"
   ],
   "metadata": {
    "collapsed": false,
    "pycharm": {
     "name": "#%% md\n"
    }
   }
  },
  {
   "cell_type": "code",
   "execution_count": 55,
   "outputs": [
    {
     "name": "stdout",
     "output_type": "stream",
     "text": [
      "      Slope  Decrease      x         y\n",
      "0 -2.000000 -0.200000 -1.000  8.000000\n",
      "1 -3.960000 -0.396000 -1.200  7.128000\n",
      "2 -9.964944 -0.996494 -1.596  5.117277\n"
     ]
    }
   ],
   "source": [
    "frame = np.array(data)\n",
    "pandaview = pandas.DataFrame(frame, columns=[\"Slope\", \"Decrease\", \"x\", \"y\"])\n",
    "print(pandaview)"
   ],
   "metadata": {
    "collapsed": false,
    "pycharm": {
     "name": "#%%\n"
    }
   }
  },
  {
   "cell_type": "markdown",
   "source": [
    "Plotting graph using pyplot"
   ],
   "metadata": {
    "collapsed": false,
    "pycharm": {
     "name": "#%% md\n"
    }
   }
  },
  {
   "cell_type": "code",
   "execution_count": 56,
   "outputs": [
    {
     "data": {
      "text/plain": "<Figure size 640x480 with 1 Axes>",
      "image/png": "[encoded data removed]"
     },
     "metadata": {},
     "output_type": "display_data"
    }
   ],
   "source": [
    "plt.clf()\n",
    "plt.close()\n",
    "frm, to = -6, 1\n",
    "parabola_x = np.arange(frm, to, step=0.1)\n",
    "plt.plot(parabola_x, [q(i) for i in parabola_x])\n",
    "\n",
    "plt.scatter(frame[:, 2], list(map(q, frame[:, 2])))  # gradient descent plot\n",
    "plt.xticks(np.arange(frm, to, step=1))\n",
    "plt.show()"
   ],
   "metadata": {
    "collapsed": false,
    "pycharm": {
     "name": "#%%\n"
    }
   }
  },
  {
   "cell_type": "code",
   "execution_count": 56,
   "outputs": [],
   "source": [],
   "metadata": {
    "collapsed": false,
    "pycharm": {
     "name": "#%%\n"
    }
   }
  }
 ],
 "metadata": {
  "kernelspec": {
   "display_name": "Python 3",
   "language": "python",
   "name": "python3"
  },
  "language_info": {
   "codemirror_mode": {
    "name": "ipython",
    "version": 2
   },
   "file_extension": ".py",
   "mimetype": "text/x-python",
   "name": "python",
   "nbconvert_exporter": "python",
   "pygments_lexer": "ipython2",
   "version": "2.7.6"
  }
 },
 "nbformat": 4,
 "nbformat_minor": 0
}