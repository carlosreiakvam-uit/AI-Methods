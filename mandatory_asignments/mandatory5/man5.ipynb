{
 "cells": [
  {
   "cell_type": "code",
   "execution_count": 30,
   "metadata": {
    "collapsed": true,
    "pycharm": {
     "name": "#%%\n"
    }
   },
   "outputs": [],
   "source": [
    "import numpy as np\n",
    "import pandas as pd"
   ]
  },
  {
   "cell_type": "code",
   "execution_count": 31,
   "outputs": [
    {
     "data": {
      "text/plain": "matrix([[-inf,   0., -inf,   0.],\n        [-inf,   0.,   0., -10.],\n        [-inf, 100.,   0., -inf],\n        [  0., -inf, -inf,   0.],\n        [  0., -inf,   0., 100.],\n        [-10., -inf,   0., -inf]])"
     },
     "execution_count": 31,
     "metadata": {},
     "output_type": "execute_result"
    }
   ],
   "source": [
    "wp = float('-inf')  # wall punish\n",
    "# columns: up, down, left, right\n",
    "# rows: states\n",
    "r = np.matrix([\n",
    "    [wp, 0, wp, 0],  # 1\n",
    "    [wp, 0, 0, -10],  # 2\n",
    "    [wp, 100, 0, wp],  # 3\n",
    "    [0, wp, wp, 0],  # 4\n",
    "    [0, wp, 0, 100],  # 5\n",
    "    [-10, wp, 0, wp],  # 6\n",
    "])\n",
    "r"
   ],
   "metadata": {
    "collapsed": false,
    "pycharm": {
     "name": "#%%\n"
    }
   }
  },
  {
   "cell_type": "code",
   "execution_count": 43,
   "outputs": [
    {
     "data": {
      "text/plain": "array([[0., 0., 0., 0.],\n       [0., 0., 0., 0.],\n       [0., 0., 0., 0.],\n       [0., 0., 0., 0.],\n       [0., 0., 0., 0.],\n       [0., 0., 0., 0.]])"
     },
     "execution_count": 43,
     "metadata": {},
     "output_type": "execute_result"
    }
   ],
   "source": [
    "# columns: up, down, left, right\n",
    "# rows: states\n",
    "q_table = np.zeros((6, 4))\n",
    "q_table"
   ],
   "metadata": {
    "collapsed": false,
    "pycharm": {
     "name": "#%%\n"
    }
   }
  },
  {
   "cell_type": "code",
   "execution_count": 33,
   "outputs": [],
   "source": [
    "df = 0.9\n",
    "lr = 1"
   ],
   "metadata": {
    "collapsed": false,
    "pycharm": {
     "name": "#%%\n"
    }
   }
  },
  {
   "cell_type": "code",
   "execution_count": 34,
   "outputs": [],
   "source": [
    "s1, s2, s3, s4, s5, s6 = 0, 1, 2, 3, 4, 5\n",
    "up, down, left, right = 0, 1, 2, 3"
   ],
   "metadata": {
    "collapsed": false,
    "pycharm": {
     "name": "#%%\n"
    }
   }
  },
  {
   "cell_type": "code",
   "execution_count": 35,
   "outputs": [],
   "source": [
    "def get_new_q(state,action,next_state):\n",
    "    reward = r[state, action] # reward for current state\n",
    "    max_next = np.max(q_table[next_state, :]) # max for all actions of next state\n",
    "    new_q = reward + df * max_next # new q for q-table\n",
    "    print('reward: ', reward)\n",
    "    print('max_next: ', max_next)\n",
    "    print('new_q: ', new_q)\n",
    "    return new_q"
   ],
   "metadata": {
    "collapsed": false,
    "pycharm": {
     "name": "#%%\n"
    }
   }
  },
  {
   "cell_type": "markdown",
   "source": [
    "The robot is placed in state 4 first and consider a move to 5. Calculate the new Q-value for this state-action pair and update the Q matrix.\n"
   ],
   "metadata": {
    "collapsed": false,
    "pycharm": {
     "name": "#%% md\n"
    }
   }
  },
  {
   "cell_type": "code",
   "execution_count": 36,
   "outputs": [
    {
     "name": "stdout",
     "output_type": "stream",
     "text": [
      "reward:  0.0\n",
      "max_next:  0.0\n",
      "new_q:  0.0\n",
      "q table:\n",
      " [[0. 0. 0. 0.]\n",
      " [0. 0. 0. 0.]\n",
      " [0. 0. 0. 0.]\n",
      " [0. 0. 0. 0.]\n",
      " [0. 0. 0. 0.]\n",
      " [0. 0. 0. 0.]]\n"
     ]
    }
   ],
   "source": [
    "state = s4\n",
    "action = right\n",
    "next_state = s5\n",
    "\n",
    "q_table[state, action] = get_new_q(state,action,next_state)\n",
    "print('q table:\\n',q_table)"
   ],
   "metadata": {
    "collapsed": false,
    "pycharm": {
     "name": "#%%\n"
    }
   }
  },
  {
   "cell_type": "markdown",
   "source": [
    "The robot is placed in state 5 and consider the move to 6. Calculate the new Q-value for this state-action pair and update the Q matrix."
   ],
   "metadata": {
    "collapsed": false,
    "pycharm": {
     "name": "#%% md\n"
    }
   }
  },
  {
   "cell_type": "code",
   "execution_count": 37,
   "outputs": [
    {
     "name": "stdout",
     "output_type": "stream",
     "text": [
      "reward:  100.0\n",
      "max_next:  0.0\n",
      "new_q:  100.0\n",
      "q table:\n",
      " [[  0.   0.   0.   0.]\n",
      " [  0.   0.   0.   0.]\n",
      " [  0.   0.   0.   0.]\n",
      " [  0.   0.   0.   0.]\n",
      " [  0.   0.   0. 100.]\n",
      " [  0.   0.   0.   0.]]\n"
     ]
    }
   ],
   "source": [
    "state = s5\n",
    "action = right\n",
    "next_state = s6\n",
    "\n",
    "q_table[state, action] = get_new_q(state,action,next_state)\n",
    "print('q table:\\n', q_table)"
   ],
   "metadata": {
    "collapsed": false,
    "pycharm": {
     "name": "#%%\n"
    }
   }
  },
  {
   "cell_type": "markdown",
   "source": [
    "The robot is placed in state 4 again and considers the move to 5. Calculate the new Q-value for this state-action pair and update the Q matrix.\n"
   ],
   "metadata": {
    "collapsed": false,
    "pycharm": {
     "name": "#%% md\n"
    }
   }
  },
  {
   "cell_type": "code",
   "execution_count": 38,
   "outputs": [
    {
     "name": "stdout",
     "output_type": "stream",
     "text": [
      "reward:  0.0\n",
      "max_next:  100.0\n",
      "new_q:  90.0\n",
      "q table:\n",
      " [[  0.   0.   0.   0.]\n",
      " [  0.   0.   0.   0.]\n",
      " [  0.   0.   0.   0.]\n",
      " [  0.   0.   0.  90.]\n",
      " [  0.   0.   0. 100.]\n",
      " [  0.   0.   0.   0.]]\n"
     ]
    }
   ],
   "source": [
    "state = s4\n",
    "action = right\n",
    "next_state = s5\n",
    "\n",
    "q_table[state, action] = get_new_q(state,action,next_state)\n",
    "print('q table:\\n', q_table)"
   ],
   "metadata": {
    "collapsed": false,
    "pycharm": {
     "name": "#%%\n"
    }
   }
  },
  {
   "cell_type": "markdown",
   "source": [
    "The robot is placed in state 1 and consider the move to 4. Calculate the new Q-value for this state-action pair and update the Q matrix."
   ],
   "metadata": {
    "collapsed": false,
    "pycharm": {
     "name": "#%% md\n"
    }
   }
  },
  {
   "cell_type": "code",
   "execution_count": 39,
   "outputs": [
    {
     "name": "stdout",
     "output_type": "stream",
     "text": [
      "reward:  0.0\n",
      "max_next:  90.0\n",
      "new_q:  81.0\n",
      "q table:\n",
      " [[  0.  81.   0.   0.]\n",
      " [  0.   0.   0.   0.]\n",
      " [  0.   0.   0.   0.]\n",
      " [  0.   0.   0.  90.]\n",
      " [  0.   0.   0. 100.]\n",
      " [  0.   0.   0.   0.]]\n"
     ]
    }
   ],
   "source": [
    "state = s1\n",
    "action = down\n",
    "next_state = s4\n",
    "\n",
    "q_table[state, action] = get_new_q(state,action,next_state)\n",
    "print('q table:\\n', q_table)"
   ],
   "metadata": {
    "collapsed": false,
    "pycharm": {
     "name": "#%%\n"
    }
   }
  },
  {
   "cell_type": "markdown",
   "source": [
    "Based on the information entered, which path is the most likely choice of the robot at this stage when dropped in zone 2?\n",
    "\n",
    "Checking new q's for different actions"
   ],
   "metadata": {
    "collapsed": false,
    "pycharm": {
     "name": "#%% md\n"
    }
   }
  },
  {
   "cell_type": "code",
   "execution_count": 40,
   "outputs": [
    {
     "name": "stdout",
     "output_type": "stream",
     "text": [
      "reward:  0.0\n",
      "max_next:  81.0\n",
      "new_q:  72.9\n",
      "new_q: 72.9\n"
     ]
    }
   ],
   "source": [
    "state = s2\n",
    "action = left\n",
    "next_state = s1\n",
    "\n",
    "new_q = get_new_q(state,action,next_state)\n",
    "print('new_q:', new_q)"
   ],
   "metadata": {
    "collapsed": false,
    "pycharm": {
     "name": "#%%\n"
    }
   }
  },
  {
   "cell_type": "code",
   "execution_count": 41,
   "outputs": [
    {
     "name": "stdout",
     "output_type": "stream",
     "text": [
      "reward:  -10.0\n",
      "max_next:  0.0\n",
      "new_q:  -10.0\n",
      "new_q: -10.0\n"
     ]
    }
   ],
   "source": [
    "state = s2\n",
    "action = right\n",
    "next_state = s3\n",
    "\n",
    "new_q = get_new_q(state,action,next_state)\n",
    "print('new_q:', new_q)"
   ],
   "metadata": {
    "collapsed": false,
    "pycharm": {
     "name": "#%%\n"
    }
   }
  },
  {
   "cell_type": "code",
   "execution_count": 42,
   "outputs": [
    {
     "name": "stdout",
     "output_type": "stream",
     "text": [
      "reward:  0.0\n",
      "max_next:  100.0\n",
      "new_q:  90.0\n",
      "new_q: 90.0\n"
     ]
    }
   ],
   "source": [
    "state = s2\n",
    "action = down\n",
    "next_state = s5\n",
    "\n",
    "new_q = get_new_q(state,action,next_state)\n",
    "print('new_q:', new_q)"
   ],
   "metadata": {
    "collapsed": false,
    "pycharm": {
     "name": "#%%\n"
    }
   }
  },
  {
   "cell_type": "markdown",
   "source": [
    "The highest q is action down so that is the most likely choice"
   ],
   "metadata": {
    "collapsed": false,
    "pycharm": {
     "name": "#%% md\n"
    }
   }
  }
 ],
 "metadata": {
  "kernelspec": {
   "display_name": "Python 3",
   "language": "python",
   "name": "python3"
  },
  "language_info": {
   "codemirror_mode": {
    "name": "ipython",
    "version": 2
   },
   "file_extension": ".py",
   "mimetype": "text/x-python",
   "name": "python",
   "nbconvert_exporter": "python",
   "pygments_lexer": "ipython2",
   "version": "2.7.6"
  }
 },
 "nbformat": 4,
 "nbformat_minor": 0
}