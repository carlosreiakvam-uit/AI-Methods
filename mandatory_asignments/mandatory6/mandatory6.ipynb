{
 "cells": [
  {
   "cell_type": "code",
   "execution_count": 23,
   "outputs": [],
   "source": [
    "import numpy as np\n",
    "import pandas as pd"
   ],
   "metadata": {
    "collapsed": false,
    "pycharm": {
     "name": "#%%\n"
    }
   }
  },
  {
   "cell_type": "markdown",
   "source": [
    "# Setting up and preprocessing data"
   ],
   "metadata": {
    "collapsed": false,
    "pycharm": {
     "name": "#%% md\n"
    }
   }
  },
  {
   "cell_type": "code",
   "execution_count": 41,
   "outputs": [
    {
     "data": {
      "text/plain": "    Vikings  Breaking Bad  The Sopranos  Westworld  Game of Thrones  \\\nu1      5.0           5.0           NaN        3.0              4.0   \nu2      4.0           3.0           3.0        4.0              5.0   \nu3      1.0           3.0           3.0        2.0              2.0   \nu4      NaN           3.0           NaN        NaN              NaN   \nu5      3.0           4.0           NaN        4.0              5.0   \nu6      4.0           5.0           2.0        5.0              3.0   \nu7      1.0           1.0           NaN        NaN              2.0   \n\n    The Witcher  Skam  Les bureau  \nu1          NaN   NaN         NaN  \nu2          2.0   3.0         3.0  \nu3          3.0   4.0         1.0  \nu4          5.0   NaN         NaN  \nu5          5.0   1.0         NaN  \nu6          2.0   2.0         3.0  \nu7          1.0   NaN         NaN  ",
      "text/html": "<div>\n<style scoped>\n    .dataframe tbody tr th:only-of-type {\n        vertical-align: middle;\n    }\n\n    .dataframe tbody tr th {\n        vertical-align: top;\n    }\n\n    .dataframe thead th {\n        text-align: right;\n    }\n</style>\n<table border=\"1\" class=\"dataframe\">\n  <thead>\n    <tr style=\"text-align: right;\">\n      <th></th>\n      <th>Vikings</th>\n      <th>Breaking Bad</th>\n      <th>The Sopranos</th>\n      <th>Westworld</th>\n      <th>Game of Thrones</th>\n      <th>The Witcher</th>\n      <th>Skam</th>\n      <th>Les bureau</th>\n    </tr>\n  </thead>\n  <tbody>\n    <tr>\n      <th>u1</th>\n      <td>5.0</td>\n      <td>5.0</td>\n      <td>NaN</td>\n      <td>3.0</td>\n      <td>4.0</td>\n      <td>NaN</td>\n      <td>NaN</td>\n      <td>NaN</td>\n    </tr>\n    <tr>\n      <th>u2</th>\n      <td>4.0</td>\n      <td>3.0</td>\n      <td>3.0</td>\n      <td>4.0</td>\n      <td>5.0</td>\n      <td>2.0</td>\n      <td>3.0</td>\n      <td>3.0</td>\n    </tr>\n    <tr>\n      <th>u3</th>\n      <td>1.0</td>\n      <td>3.0</td>\n      <td>3.0</td>\n      <td>2.0</td>\n      <td>2.0</td>\n      <td>3.0</td>\n      <td>4.0</td>\n      <td>1.0</td>\n    </tr>\n    <tr>\n      <th>u4</th>\n      <td>NaN</td>\n      <td>3.0</td>\n      <td>NaN</td>\n      <td>NaN</td>\n      <td>NaN</td>\n      <td>5.0</td>\n      <td>NaN</td>\n      <td>NaN</td>\n    </tr>\n    <tr>\n      <th>u5</th>\n      <td>3.0</td>\n      <td>4.0</td>\n      <td>NaN</td>\n      <td>4.0</td>\n      <td>5.0</td>\n      <td>5.0</td>\n      <td>1.0</td>\n      <td>NaN</td>\n    </tr>\n    <tr>\n      <th>u6</th>\n      <td>4.0</td>\n      <td>5.0</td>\n      <td>2.0</td>\n      <td>5.0</td>\n      <td>3.0</td>\n      <td>2.0</td>\n      <td>2.0</td>\n      <td>3.0</td>\n    </tr>\n    <tr>\n      <th>u7</th>\n      <td>1.0</td>\n      <td>1.0</td>\n      <td>NaN</td>\n      <td>NaN</td>\n      <td>2.0</td>\n      <td>1.0</td>\n      <td>NaN</td>\n      <td>NaN</td>\n    </tr>\n  </tbody>\n</table>\n</div>"
     },
     "execution_count": 41,
     "metadata": {},
     "output_type": "execute_result"
    }
   ],
   "source": [
    "n = np.NaN  # setting non scores to np.Nan for better integration with numpy\n",
    "rows_users_ = ['u1', 'u2', 'u3', 'u4', 'u5', 'u6', 'u7']\n",
    "columns_series = ['Vikings', 'Breaking Bad', 'The Sopranos', 'Westworld',\n",
    "                  'Game of Thrones', 'The Witcher', 'Skam', 'Les bureau']\n",
    "all_users = np.array([\n",
    "    [5, 4, 1, n, 3, 4, 1],\n",
    "    [5, 3, 3, 3, 4, 5, 1],\n",
    "    [n, 3, 3, n, n, 2, n],\n",
    "    [3, 4, 2, n, 4, 5, n],\n",
    "    [4, 5, 2, n, 5, 3, 2],\n",
    "    [n, 2, 3, 5, 5, 2, 1],\n",
    "    [n, 3, 4, n, 1, 2, n],\n",
    "    [n, 3, 1, n, n, 3, n],\n",
    "])\n",
    "all_users = all_users.T  # transform to get users as rows and series as columns\n",
    "df = pd.DataFrame(all_users, columns=columns_series, index=rows_users_)\n",
    "df"
   ],
   "metadata": {
    "collapsed": false,
    "pycharm": {
     "name": "#%%\n"
    }
   }
  },
  {
   "cell_type": "code",
   "execution_count": 42,
   "outputs": [
    {
     "data": {
      "text/plain": "     0         1         2    3    4    5    6         7\n0  3.0  3.428571  2.666667  3.6  3.5  3.0  2.5  2.333333",
      "text/html": "<div>\n<style scoped>\n    .dataframe tbody tr th:only-of-type {\n        vertical-align: middle;\n    }\n\n    .dataframe tbody tr th {\n        vertical-align: top;\n    }\n\n    .dataframe thead th {\n        text-align: right;\n    }\n</style>\n<table border=\"1\" class=\"dataframe\">\n  <thead>\n    <tr style=\"text-align: right;\">\n      <th></th>\n      <th>0</th>\n      <th>1</th>\n      <th>2</th>\n      <th>3</th>\n      <th>4</th>\n      <th>5</th>\n      <th>6</th>\n      <th>7</th>\n    </tr>\n  </thead>\n  <tbody>\n    <tr>\n      <th>0</th>\n      <td>3.0</td>\n      <td>3.428571</td>\n      <td>2.666667</td>\n      <td>3.6</td>\n      <td>3.5</td>\n      <td>3.0</td>\n      <td>2.5</td>\n      <td>2.333333</td>\n    </tr>\n  </tbody>\n</table>\n</div>"
     },
     "execution_count": 42,
     "metadata": {},
     "output_type": "execute_result"
    }
   ],
   "source": [
    "# calculating means for all users\n",
    "users_mean = np.nanmean(all_users, axis=0).reshape(1, 8)\n",
    "df = pd.DataFrame(users_mean)\n",
    "df"
   ],
   "metadata": {
    "collapsed": false,
    "pycharm": {
     "name": "#%%\n"
    }
   }
  },
  {
   "cell_type": "code",
   "execution_count": 47,
   "outputs": [
    {
     "data": {
      "text/plain": "     Vikings  Breaking Bad  The Sopranos  Westworld  Game of Thrones  \\\nu1  2.000000      2.000000           NaN   0.000000         1.000000   \nu2  0.571429     -0.428571     -0.428571   0.571429         1.571429   \nu3 -1.666667      0.333333      0.333333  -0.666667        -0.666667   \nu4       NaN     -0.600000           NaN        NaN              NaN   \nu5 -0.500000      0.500000           NaN   0.500000         1.500000   \nu6  1.000000      2.000000     -1.000000   2.000000         0.000000   \nu7 -1.500000     -1.500000           NaN        NaN        -0.500000   \n\n    The Witcher      Skam  Les bureau  \nu1          NaN       NaN         NaN  \nu2    -1.428571 -0.428571   -0.428571  \nu3     0.333333  1.333333   -1.666667  \nu4     1.400000       NaN         NaN  \nu5     1.500000 -2.500000         NaN  \nu6    -1.000000 -1.000000    0.000000  \nu7    -1.500000       NaN         NaN  ",
      "text/html": "<div>\n<style scoped>\n    .dataframe tbody tr th:only-of-type {\n        vertical-align: middle;\n    }\n\n    .dataframe tbody tr th {\n        vertical-align: top;\n    }\n\n    .dataframe thead th {\n        text-align: right;\n    }\n</style>\n<table border=\"1\" class=\"dataframe\">\n  <thead>\n    <tr style=\"text-align: right;\">\n      <th></th>\n      <th>Vikings</th>\n      <th>Breaking Bad</th>\n      <th>The Sopranos</th>\n      <th>Westworld</th>\n      <th>Game of Thrones</th>\n      <th>The Witcher</th>\n      <th>Skam</th>\n      <th>Les bureau</th>\n    </tr>\n  </thead>\n  <tbody>\n    <tr>\n      <th>u1</th>\n      <td>2.000000</td>\n      <td>2.000000</td>\n      <td>NaN</td>\n      <td>0.000000</td>\n      <td>1.000000</td>\n      <td>NaN</td>\n      <td>NaN</td>\n      <td>NaN</td>\n    </tr>\n    <tr>\n      <th>u2</th>\n      <td>0.571429</td>\n      <td>-0.428571</td>\n      <td>-0.428571</td>\n      <td>0.571429</td>\n      <td>1.571429</td>\n      <td>-1.428571</td>\n      <td>-0.428571</td>\n      <td>-0.428571</td>\n    </tr>\n    <tr>\n      <th>u3</th>\n      <td>-1.666667</td>\n      <td>0.333333</td>\n      <td>0.333333</td>\n      <td>-0.666667</td>\n      <td>-0.666667</td>\n      <td>0.333333</td>\n      <td>1.333333</td>\n      <td>-1.666667</td>\n    </tr>\n    <tr>\n      <th>u4</th>\n      <td>NaN</td>\n      <td>-0.600000</td>\n      <td>NaN</td>\n      <td>NaN</td>\n      <td>NaN</td>\n      <td>1.400000</td>\n      <td>NaN</td>\n      <td>NaN</td>\n    </tr>\n    <tr>\n      <th>u5</th>\n      <td>-0.500000</td>\n      <td>0.500000</td>\n      <td>NaN</td>\n      <td>0.500000</td>\n      <td>1.500000</td>\n      <td>1.500000</td>\n      <td>-2.500000</td>\n      <td>NaN</td>\n    </tr>\n    <tr>\n      <th>u6</th>\n      <td>1.000000</td>\n      <td>2.000000</td>\n      <td>-1.000000</td>\n      <td>2.000000</td>\n      <td>0.000000</td>\n      <td>-1.000000</td>\n      <td>-1.000000</td>\n      <td>0.000000</td>\n    </tr>\n    <tr>\n      <th>u7</th>\n      <td>-1.500000</td>\n      <td>-1.500000</td>\n      <td>NaN</td>\n      <td>NaN</td>\n      <td>-0.500000</td>\n      <td>-1.500000</td>\n      <td>NaN</td>\n      <td>NaN</td>\n    </tr>\n  </tbody>\n</table>\n</div>"
     },
     "execution_count": 47,
     "metadata": {},
     "output_type": "execute_result"
    }
   ],
   "source": [
    "# calculating variance for all users\n",
    "all_users_variance = np.empty(all_users.shape)\n",
    "for i, user_scores in enumerate(all_users):\n",
    "    all_users_variance[i] = user_scores - users_mean[0, i]\n",
    "df = pd.DataFrame(all_users_variance, columns=columns_series, index=rows_users_)\n",
    "df"
   ],
   "metadata": {
    "collapsed": false,
    "pycharm": {
     "name": "#%%\n"
    }
   }
  },
  {
   "cell_type": "code",
   "execution_count": 48,
   "outputs": [
    {
     "data": {
      "text/plain": "array([3, 2, 3, 0, 4, 1, 0, 5])"
     },
     "execution_count": 48,
     "metadata": {},
     "output_type": "execute_result"
    }
   ],
   "source": [
    "# initializing active user\n",
    "active_user = np.array([3, 2, 3, 0, 4, 1, 0, 5])\n",
    "active_user"
   ],
   "metadata": {
    "collapsed": false,
    "pycharm": {
     "name": "#%%\n"
    }
   }
  },
  {
   "cell_type": "code",
   "execution_count": 49,
   "outputs": [
    {
     "data": {
      "text/plain": "2.25"
     },
     "execution_count": 49,
     "metadata": {},
     "output_type": "execute_result"
    }
   ],
   "source": [
    "# calculating mean for active user\n",
    "active_user_mean = np.nanmean(active_user)\n",
    "active_user_mean"
   ],
   "metadata": {
    "collapsed": false,
    "pycharm": {
     "name": "#%%\n"
    }
   }
  },
  {
   "cell_type": "code",
   "execution_count": 64,
   "outputs": [
    {
     "data": {
      "text/plain": "      0     1     2     3     4     5     6     7\n0  0.75 -0.25  0.75 -2.25  1.75 -1.25 -2.25  2.75",
      "text/html": "<div>\n<style scoped>\n    .dataframe tbody tr th:only-of-type {\n        vertical-align: middle;\n    }\n\n    .dataframe tbody tr th {\n        vertical-align: top;\n    }\n\n    .dataframe thead th {\n        text-align: right;\n    }\n</style>\n<table border=\"1\" class=\"dataframe\">\n  <thead>\n    <tr style=\"text-align: right;\">\n      <th></th>\n      <th>0</th>\n      <th>1</th>\n      <th>2</th>\n      <th>3</th>\n      <th>4</th>\n      <th>5</th>\n      <th>6</th>\n      <th>7</th>\n    </tr>\n  </thead>\n  <tbody>\n    <tr>\n      <th>0</th>\n      <td>0.75</td>\n      <td>-0.25</td>\n      <td>0.75</td>\n      <td>-2.25</td>\n      <td>1.75</td>\n      <td>-1.25</td>\n      <td>-2.25</td>\n      <td>2.75</td>\n    </tr>\n  </tbody>\n</table>\n</div>"
     },
     "execution_count": 64,
     "metadata": {},
     "output_type": "execute_result"
    }
   ],
   "source": [
    "# calculating variance for active user\n",
    "active_users_variance = np.zeros((1, 8))\n",
    "for i, score in enumerate(active_user):\n",
    "    active_users_variance[0, i] = score - active_user_mean\n",
    "df = pd.DataFrame(active_users_variance)\n",
    "df"
   ],
   "metadata": {
    "collapsed": false,
    "pycharm": {
     "name": "#%%\n"
    }
   }
  },
  {
   "cell_type": "markdown",
   "source": [
    "# Solving assignment\n",
    "- Estimate the score this person is likely to give Westworld and Skam\n",
    "- Solve the problem using Python and the corrcoef-function from Numpy"
   ],
   "metadata": {
    "collapsed": false,
    "pycharm": {
     "name": "#%% md\n"
    }
   }
  },
  {
   "cell_type": "code",
   "execution_count": 59,
   "outputs": [
    {
     "data": {
      "text/plain": "          0\n0  0.560612\n1  0.276596\n2 -0.643204\n3 -1.000000\n4  0.433861\n5 -0.091245\n6  0.774597",
      "text/html": "<div>\n<style scoped>\n    .dataframe tbody tr th:only-of-type {\n        vertical-align: middle;\n    }\n\n    .dataframe tbody tr th {\n        vertical-align: top;\n    }\n\n    .dataframe thead th {\n        text-align: right;\n    }\n</style>\n<table border=\"1\" class=\"dataframe\">\n  <thead>\n    <tr style=\"text-align: right;\">\n      <th></th>\n      <th>0</th>\n    </tr>\n  </thead>\n  <tbody>\n    <tr>\n      <th>0</th>\n      <td>0.560612</td>\n    </tr>\n    <tr>\n      <th>1</th>\n      <td>0.276596</td>\n    </tr>\n    <tr>\n      <th>2</th>\n      <td>-0.643204</td>\n    </tr>\n    <tr>\n      <th>3</th>\n      <td>-1.000000</td>\n    </tr>\n    <tr>\n      <th>4</th>\n      <td>0.433861</td>\n    </tr>\n    <tr>\n      <th>5</th>\n      <td>-0.091245</td>\n    </tr>\n    <tr>\n      <th>6</th>\n      <td>0.774597</td>\n    </tr>\n  </tbody>\n</table>\n</div>"
     },
     "execution_count": 59,
     "metadata": {},
     "output_type": "execute_result"
    }
   ],
   "source": [
    "# calculating correlations between active user and all users\n",
    "correlations = []\n",
    "for other_users_variance in all_users_variance:\n",
    "    temp_active = []\n",
    "    temp_other = []\n",
    "    for i in range(len(active_users_variance[0])):\n",
    "        if not np.isnan(active_users_variance[0, i]) and not np.isnan(other_users_variance[i]):\n",
    "            temp_active.append(active_users_variance[0, i])\n",
    "            temp_other.append(other_users_variance[i])\n",
    "    correlations_matrix = np.corrcoef(np.array(temp_active), np.array(temp_other))\n",
    "    correlation = correlations_matrix[0][1]\n",
    "    correlations.append(correlation)\n",
    "df = pd.DataFrame(correlations)\n",
    "df"
   ],
   "metadata": {
    "collapsed": false,
    "pycharm": {
     "name": "#%%\n"
    }
   }
  },
  {
   "cell_type": "code",
   "execution_count": 61,
   "outputs": [],
   "source": [
    "# function for estimating score of series for active user\n",
    "def estimate_score(kappa,average_vote_for_a, product_index):\n",
    "    sum_correlation_variance = 0\n",
    "    j = product_index  # index of product we want to predict the vote for\n",
    "    for i in range(len(all_users_variance)):\n",
    "        if not np.isnan(all_users_variance[i][j]):\n",
    "            sum_correlation_variance += all_users_variance[i][j] * correlations[i]\n",
    "    p_a_j = average_vote_for_a + kappa * sum_correlation_variance\n",
    "    return p_a_j"
   ],
   "metadata": {
    "collapsed": false,
    "pycharm": {
     "name": "#%%\n"
    }
   }
  },
  {
   "cell_type": "code",
   "execution_count": 62,
   "outputs": [
    {
     "data": {
      "text/plain": "2.8712982191008702"
     },
     "execution_count": 62,
     "metadata": {},
     "output_type": "execute_result"
    }
   ],
   "source": [
    "westworld = 3\n",
    "estimate_score(1,active_user_mean,westworld)"
   ],
   "metadata": {
    "collapsed": false,
    "pycharm": {
     "name": "#%%\n"
    }
   }
  },
  {
   "cell_type": "code",
   "execution_count": 63,
   "outputs": [
    {
     "data": {
      "text/plain": "0.280445998297429"
     },
     "execution_count": 63,
     "metadata": {},
     "output_type": "execute_result"
    }
   ],
   "source": [
    "skam = 6\n",
    "estimate_score(1,active_user_mean,skam)"
   ],
   "metadata": {
    "collapsed": false,
    "pycharm": {
     "name": "#%%\n"
    }
   }
  }
 ],
 "metadata": {
  "kernelspec": {
   "display_name": "Python 3",
   "language": "python",
   "name": "python3"
  },
  "language_info": {
   "codemirror_mode": {
    "name": "ipython",
    "version": 2
   },
   "file_extension": ".py",
   "mimetype": "text/x-python",
   "name": "python",
   "nbconvert_exporter": "python",
   "pygments_lexer": "ipython2",
   "version": "2.7.6"
  }
 },
 "nbformat": 4,
 "nbformat_minor": 0
}