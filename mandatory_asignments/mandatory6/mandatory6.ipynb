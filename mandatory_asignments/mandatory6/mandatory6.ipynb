{
 "cells": [
  {
   "cell_type": "code",
   "execution_count": 23,
   "outputs": [],
   "source": [
    "import numpy as np\n",
    "import pandas as pd"
   ],
   "metadata": {
    "collapsed": false,
    "pycharm": {
     "name": "#%%\n"
    }
   }
  },
  {
   "cell_type": "markdown",
   "source": [
    "# Setting up and preprocessing data"
   ],
   "metadata": {
    "collapsed": false,
    "pycharm": {
     "name": "#%% md\n"
    }
   }
  },
  {
   "cell_type": "code",
   "execution_count": 24,
   "outputs": [],
   "source": [
    "n = np.NaN  # setting non scores to np.Nan for better integration with numpy\n",
    "rows_users_ = ['u1', 'u2', 'u3', 'u4', 'u5', 'u6', 'u7']\n",
    "columns_series = ['Vikings', 'Breaking Bad', 'The Sopranos', 'Westworld',\n",
    "                  'Game of Thrones', 'The Witcher', 'Skam', 'Les bureau']\n",
    "all_users = np.array([\n",
    "    [5, 4, 1, n, 3, 4, 1],\n",
    "    [5, 3, 3, 3, 4, 5, 1],\n",
    "    [n, 3, 3, n, n, 2, n],\n",
    "    [3, 4, 2, n, 4, 5, n],\n",
    "    [4, 5, 2, n, 5, 3, 2],\n",
    "    [n, 2, 3, 5, 5, 2, 1],\n",
    "    [n, 3, 4, n, 1, 2, n],\n",
    "    [n, 3, 1, n, n, 3, n],\n",
    "])\n",
    "all_users = all_users.T  # transform to get users as rows and series as columns"
   ],
   "metadata": {
    "collapsed": false,
    "pycharm": {
     "name": "#%%\n"
    }
   }
  },
  {
   "cell_type": "code",
   "execution_count": 25,
   "outputs": [
    {
     "data": {
      "text/plain": "    Vikings  Breaking Bad  The Sopranos  Westworld  Game of Thrones  \\\nu1      5.0           5.0           NaN        3.0              4.0   \nu2      4.0           3.0           3.0        4.0              5.0   \nu3      1.0           3.0           3.0        2.0              2.0   \nu4      NaN           3.0           NaN        NaN              NaN   \nu5      3.0           4.0           NaN        4.0              5.0   \nu6      4.0           5.0           2.0        5.0              3.0   \nu7      1.0           1.0           NaN        NaN              2.0   \n\n    The Witcher  Skam  Les bureau  \nu1          NaN   NaN         NaN  \nu2          2.0   3.0         3.0  \nu3          3.0   4.0         1.0  \nu4          5.0   NaN         NaN  \nu5          5.0   1.0         NaN  \nu6          2.0   2.0         3.0  \nu7          1.0   NaN         NaN  ",
      "text/html": "<div>\n<style scoped>\n    .dataframe tbody tr th:only-of-type {\n        vertical-align: middle;\n    }\n\n    .dataframe tbody tr th {\n        vertical-align: top;\n    }\n\n    .dataframe thead th {\n        text-align: right;\n    }\n</style>\n<table border=\"1\" class=\"dataframe\">\n  <thead>\n    <tr style=\"text-align: right;\">\n      <th></th>\n      <th>Vikings</th>\n      <th>Breaking Bad</th>\n      <th>The Sopranos</th>\n      <th>Westworld</th>\n      <th>Game of Thrones</th>\n      <th>The Witcher</th>\n      <th>Skam</th>\n      <th>Les bureau</th>\n    </tr>\n  </thead>\n  <tbody>\n    <tr>\n      <th>u1</th>\n      <td>5.0</td>\n      <td>5.0</td>\n      <td>NaN</td>\n      <td>3.0</td>\n      <td>4.0</td>\n      <td>NaN</td>\n      <td>NaN</td>\n      <td>NaN</td>\n    </tr>\n    <tr>\n      <th>u2</th>\n      <td>4.0</td>\n      <td>3.0</td>\n      <td>3.0</td>\n      <td>4.0</td>\n      <td>5.0</td>\n      <td>2.0</td>\n      <td>3.0</td>\n      <td>3.0</td>\n    </tr>\n    <tr>\n      <th>u3</th>\n      <td>1.0</td>\n      <td>3.0</td>\n      <td>3.0</td>\n      <td>2.0</td>\n      <td>2.0</td>\n      <td>3.0</td>\n      <td>4.0</td>\n      <td>1.0</td>\n    </tr>\n    <tr>\n      <th>u4</th>\n      <td>NaN</td>\n      <td>3.0</td>\n      <td>NaN</td>\n      <td>NaN</td>\n      <td>NaN</td>\n      <td>5.0</td>\n      <td>NaN</td>\n      <td>NaN</td>\n    </tr>\n    <tr>\n      <th>u5</th>\n      <td>3.0</td>\n      <td>4.0</td>\n      <td>NaN</td>\n      <td>4.0</td>\n      <td>5.0</td>\n      <td>5.0</td>\n      <td>1.0</td>\n      <td>NaN</td>\n    </tr>\n    <tr>\n      <th>u6</th>\n      <td>4.0</td>\n      <td>5.0</td>\n      <td>2.0</td>\n      <td>5.0</td>\n      <td>3.0</td>\n      <td>2.0</td>\n      <td>2.0</td>\n      <td>3.0</td>\n    </tr>\n    <tr>\n      <th>u7</th>\n      <td>1.0</td>\n      <td>1.0</td>\n      <td>NaN</td>\n      <td>NaN</td>\n      <td>2.0</td>\n      <td>1.0</td>\n      <td>NaN</td>\n      <td>NaN</td>\n    </tr>\n  </tbody>\n</table>\n</div>"
     },
     "execution_count": 25,
     "metadata": {},
     "output_type": "execute_result"
    }
   ],
   "source": [
    "# using pandas df for visualization\n",
    "df_all_users = pd.DataFrame(all_users, columns=columns_series, index=rows_users_)\n",
    "df_all_users"
   ],
   "metadata": {
    "collapsed": false,
    "pycharm": {
     "name": "#%%\n"
    }
   }
  },
  {
   "cell_type": "code",
   "execution_count": 26,
   "outputs": [
    {
     "data": {
      "text/plain": "array([[3.        , 3.42857143, 2.66666667, 3.6       , 3.5       ,\n        3.        , 2.5       , 2.33333333]])"
     },
     "execution_count": 26,
     "metadata": {},
     "output_type": "execute_result"
    }
   ],
   "source": [
    "# calculating means for all users\n",
    "users_mean = np.nanmean(all_users, axis=0).reshape(1, 8)\n",
    "users_mean"
   ],
   "metadata": {
    "collapsed": false,
    "pycharm": {
     "name": "#%%\n"
    }
   }
  },
  {
   "cell_type": "code",
   "execution_count": 27,
   "outputs": [
    {
     "data": {
      "text/plain": "array([[ 2.        ,  2.        ,         nan,  0.        ,  1.        ,\n                nan,         nan,         nan],\n       [ 0.57142857, -0.42857143, -0.42857143,  0.57142857,  1.57142857,\n        -1.42857143, -0.42857143, -0.42857143],\n       [-1.66666667,  0.33333333,  0.33333333, -0.66666667, -0.66666667,\n         0.33333333,  1.33333333, -1.66666667],\n       [        nan, -0.6       ,         nan,         nan,         nan,\n         1.4       ,         nan,         nan],\n       [-0.5       ,  0.5       ,         nan,  0.5       ,  1.5       ,\n         1.5       , -2.5       ,         nan],\n       [ 1.        ,  2.        , -1.        ,  2.        ,  0.        ,\n        -1.        , -1.        ,  0.        ],\n       [-1.5       , -1.5       ,         nan,         nan, -0.5       ,\n        -1.5       ,         nan,         nan]])"
     },
     "execution_count": 27,
     "metadata": {},
     "output_type": "execute_result"
    }
   ],
   "source": [
    "# calculating variance for all users\n",
    "all_users_variance = np.empty(all_users.shape)\n",
    "for i, user_scores in enumerate(all_users):\n",
    "    all_users_variance[i] = user_scores - users_mean[0, i]\n",
    "all_users_variance"
   ],
   "metadata": {
    "collapsed": false,
    "pycharm": {
     "name": "#%%\n"
    }
   }
  },
  {
   "cell_type": "code",
   "execution_count": 28,
   "outputs": [
    {
     "data": {
      "text/plain": "array([3, 2, 3, 0, 4, 1, 0, 5])"
     },
     "execution_count": 28,
     "metadata": {},
     "output_type": "execute_result"
    }
   ],
   "source": [
    "# initializing active user\n",
    "active_user = np.array([3, 2, 3, 0, 4, 1, 0, 5])\n",
    "active_user"
   ],
   "metadata": {
    "collapsed": false,
    "pycharm": {
     "name": "#%%\n"
    }
   }
  },
  {
   "cell_type": "code",
   "execution_count": 29,
   "outputs": [
    {
     "data": {
      "text/plain": "2.25"
     },
     "execution_count": 29,
     "metadata": {},
     "output_type": "execute_result"
    }
   ],
   "source": [
    "active_user_mean = np.nanmean(active_user)\n",
    "active_user_mean"
   ],
   "metadata": {
    "collapsed": false,
    "pycharm": {
     "name": "#%%\n"
    }
   }
  },
  {
   "cell_type": "code",
   "execution_count": 30,
   "outputs": [
    {
     "data": {
      "text/plain": "array([[ 0.75, -0.25,  0.75, -2.25,  1.75, -1.25, -2.25,  2.75]])"
     },
     "execution_count": 30,
     "metadata": {},
     "output_type": "execute_result"
    }
   ],
   "source": [
    "active_users_variance = np.zeros((1, 8))\n",
    "for i, score in enumerate(active_user):\n",
    "    active_users_variance[0, i] = score - active_user_mean\n",
    "active_users_variance"
   ],
   "metadata": {
    "collapsed": false,
    "pycharm": {
     "name": "#%%\n"
    }
   }
  },
  {
   "cell_type": "markdown",
   "source": [
    "# Solving assignment\n",
    "- Estimate the score this person is likely to give Westworld and Skam\n",
    "- Solve the problem using Python and the corrcoef-function from Numpy"
   ],
   "metadata": {
    "collapsed": false,
    "pycharm": {
     "name": "#%% md\n"
    }
   }
  },
  {
   "cell_type": "code",
   "execution_count": 31,
   "outputs": [
    {
     "data": {
      "text/plain": "[0.560611910581388,\n 0.2765957446808511,\n -0.6432041541566332,\n -0.9999999999999999,\n 0.43386091563731227,\n -0.09124485970087104,\n 0.7745966692414834]"
     },
     "execution_count": 31,
     "metadata": {},
     "output_type": "execute_result"
    }
   ],
   "source": [
    "correlations = []\n",
    "for other_users_variance in all_users_variance:\n",
    "    temp_active = []\n",
    "    temp_other = []\n",
    "    for i in range(len(active_users_variance[0])):\n",
    "        if not np.isnan(active_users_variance[0, i]) and not np.isnan(other_users_variance[i]):\n",
    "            temp_active.append(active_users_variance[0, i])\n",
    "            temp_other.append(other_users_variance[i])\n",
    "    correlations_matrix = np.corrcoef(np.array(temp_active), np.array(temp_other))\n",
    "    correlation = correlations_matrix[0][1]\n",
    "    correlations.append(correlation)\n",
    "correlations"
   ],
   "metadata": {
    "collapsed": false,
    "pycharm": {
     "name": "#%%\n"
    }
   }
  },
  {
   "cell_type": "code",
   "execution_count": 37,
   "outputs": [],
   "source": [
    "def estimate_score(kappa,average_vote_for_a, product_index):\n",
    "    sum_correlation_variance = 0\n",
    "    j = product_index  # index of product we want to predict the vote for\n",
    "    for i in range(len(all_users_variance)):\n",
    "        if not np.isnan(all_users_variance[i][j]):\n",
    "            sum_correlation_variance += all_users_variance[i][j] * correlations[i]\n",
    "    p_a_j = average_vote_for_a + kappa * sum_correlation_variance\n",
    "    return p_a_j"
   ],
   "metadata": {
    "collapsed": false,
    "pycharm": {
     "name": "#%%\n"
    }
   }
  },
  {
   "cell_type": "code",
   "execution_count": 38,
   "outputs": [
    {
     "data": {
      "text/plain": "2.8712982191008702"
     },
     "execution_count": 38,
     "metadata": {},
     "output_type": "execute_result"
    }
   ],
   "source": [
    "westworld = 3\n",
    "estimate_score(1,active_user_mean,westworld)"
   ],
   "metadata": {
    "collapsed": false,
    "pycharm": {
     "name": "#%%\n"
    }
   }
  },
  {
   "cell_type": "code",
   "execution_count": 39,
   "outputs": [
    {
     "data": {
      "text/plain": "0.280445998297429"
     },
     "execution_count": 39,
     "metadata": {},
     "output_type": "execute_result"
    }
   ],
   "source": [
    "skam = 6\n",
    "estimate_score(1,active_user_mean,skam)"
   ],
   "metadata": {
    "collapsed": false,
    "pycharm": {
     "name": "#%%\n"
    }
   }
  }
 ],
 "metadata": {
  "kernelspec": {
   "display_name": "Python 3",
   "language": "python",
   "name": "python3"
  },
  "language_info": {
   "codemirror_mode": {
    "name": "ipython",
    "version": 2
   },
   "file_extension": ".py",
   "mimetype": "text/x-python",
   "name": "python",
   "nbconvert_exporter": "python",
   "pygments_lexer": "ipython2",
   "version": "2.7.6"
  }
 },
 "nbformat": 4,
 "nbformat_minor": 0
}