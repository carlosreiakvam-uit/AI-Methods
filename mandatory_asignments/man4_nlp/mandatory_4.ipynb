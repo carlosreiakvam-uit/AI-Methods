{
 "cells": [
  {
   "cell_type": "code",
   "execution_count": 29,
   "metadata": {
    "collapsed": true,
    "pycharm": {
     "name": "#%%\n"
    }
   },
   "outputs": [],
   "source": [
    "import pandas as pd\n",
    "import os, re"
   ]
  },
  {
   "cell_type": "code",
   "execution_count": 30,
   "outputs": [
    {
     "name": "stdout",
     "output_type": "stream",
     "text": [
      "Requirement already satisfied: nltk in c:\\uit_repos\\methods\\ai_methods\\venv\\lib\\site-packages (3.7)\n",
      "Requirement already satisfied: regex>=2021.8.3 in c:\\uit_repos\\methods\\ai_methods\\venv\\lib\\site-packages (from nltk) (2022.9.13)\n",
      "Requirement already satisfied: tqdm in c:\\uit_repos\\methods\\ai_methods\\venv\\lib\\site-packages (from nltk) (4.64.1)\n",
      "Requirement already satisfied: click in c:\\uit_repos\\methods\\ai_methods\\venv\\lib\\site-packages (from nltk) (8.1.3)\n",
      "Requirement already satisfied: joblib in c:\\uit_repos\\methods\\ai_methods\\venv\\lib\\site-packages (from nltk) (1.1.0)\n",
      "Requirement already satisfied: colorama in c:\\uit_repos\\methods\\ai_methods\\venv\\lib\\site-packages (from click->nltk) (0.4.5)\n"
     ]
    },
    {
     "name": "stderr",
     "output_type": "stream",
     "text": [
      "[nltk_data] Downloading package stopwords to\n",
      "[nltk_data]     C:\\Users\\carlo\\AppData\\Roaming\\nltk_data...WARNING: You are using pip version 21.3.1; however, version 22.3 is available.\n",
      "You should consider upgrading via the 'C:\\UIT_repos\\methods\\ai_methods\\venv\\Scripts\\python.exe -m pip install --upgrade pip' command.\n",
      "\n",
      "[nltk_data]   Package stopwords is already up-to-date!\n"
     ]
    },
    {
     "data": {
      "text/plain": "True"
     },
     "execution_count": 30,
     "metadata": {},
     "output_type": "execute_result"
    }
   ],
   "source": [
    "!pip install nltk\n",
    "import nltk\n",
    "nltk.download('stopwords')"
   ],
   "metadata": {
    "collapsed": false,
    "pycharm": {
     "name": "#%%\n"
    }
   }
  },
  {
   "cell_type": "markdown",
   "source": [
    "# Load data from file"
   ],
   "metadata": {
    "collapsed": false,
    "pycharm": {
     "name": "#%% md\n"
    }
   }
  },
  {
   "cell_type": "code",
   "execution_count": 31,
   "outputs": [],
   "source": [
    "# checks if file is relevant for dataset\n",
    "def is_relevant_file(name, root):\n",
    "    return name[-3:] == 'txt' and root[-3:] == 'pos' or root[-3:] == 'neg'\n",
    "\n",
    "# returns the dataset type for a given root\n",
    "def get_dataset_type(root):\n",
    "    if 'test' in root:\n",
    "        return 'test'\n",
    "    elif 'train' in root:\n",
    "        return 'train'\n",
    "    else:\n",
    "        print(\"na\")"
   ],
   "metadata": {
    "collapsed": false,
    "pycharm": {
     "name": "#%%\n"
    }
   }
  },
  {
   "cell_type": "code",
   "execution_count": 32,
   "outputs": [],
   "source": [
    "data = []\n",
    "path = 'aclImdb' # insert correct path for folder aclImdb"
   ],
   "metadata": {
    "collapsed": false,
    "pycharm": {
     "name": "#%%\n"
    }
   }
  },
  {
   "cell_type": "code",
   "execution_count": 33,
   "outputs": [],
   "source": [
    "for root, dirs, files in os.walk(path):\n",
    "    for i,name in enumerate(files):\n",
    "        row = {'name': None, 'text': None, 'dataset': None, 'label': None}\n",
    "        if is_relevant_file(name, root):\n",
    "            with open(os.path.join(root, name), encoding='utf8') as f:\n",
    "                row['name'] = name\n",
    "                row['text'] = f.read()\n",
    "                row['dataset'] = get_dataset_type(root)\n",
    "                row['label'] = root[-3:]\n",
    "                data.append(row)"
   ],
   "metadata": {
    "collapsed": false,
    "pycharm": {
     "name": "#%%\n"
    }
   }
  },
  {
   "cell_type": "markdown",
   "source": [
    "# Create pd DataFrame with data"
   ],
   "metadata": {
    "collapsed": false,
    "pycharm": {
     "name": "#%% md\n"
    }
   }
  },
  {
   "cell_type": "code",
   "execution_count": 34,
   "outputs": [
    {
     "data": {
      "text/plain": "          name                                               text dataset  \\\n0      0_2.txt  Once again Mr. Costner has dragged out a movie...    test   \n1  10000_4.txt  This is an example of why the majority of acti...    test   \n2  10001_1.txt  First of all I hate those moronic rappers, who...    test   \n3  10002_3.txt  Not even the Beatles could write songs everyon...    test   \n4  10003_3.txt  Brass pictures (movies is not a fitting word f...    test   \n\n  label  \n0   neg  \n1   neg  \n2   neg  \n3   neg  \n4   neg  ",
      "text/html": "<div>\n<style scoped>\n    .dataframe tbody tr th:only-of-type {\n        vertical-align: middle;\n    }\n\n    .dataframe tbody tr th {\n        vertical-align: top;\n    }\n\n    .dataframe thead th {\n        text-align: right;\n    }\n</style>\n<table border=\"1\" class=\"dataframe\">\n  <thead>\n    <tr style=\"text-align: right;\">\n      <th></th>\n      <th>name</th>\n      <th>text</th>\n      <th>dataset</th>\n      <th>label</th>\n    </tr>\n  </thead>\n  <tbody>\n    <tr>\n      <th>0</th>\n      <td>0_2.txt</td>\n      <td>Once again Mr. Costner has dragged out a movie...</td>\n      <td>test</td>\n      <td>neg</td>\n    </tr>\n    <tr>\n      <th>1</th>\n      <td>10000_4.txt</td>\n      <td>This is an example of why the majority of acti...</td>\n      <td>test</td>\n      <td>neg</td>\n    </tr>\n    <tr>\n      <th>2</th>\n      <td>10001_1.txt</td>\n      <td>First of all I hate those moronic rappers, who...</td>\n      <td>test</td>\n      <td>neg</td>\n    </tr>\n    <tr>\n      <th>3</th>\n      <td>10002_3.txt</td>\n      <td>Not even the Beatles could write songs everyon...</td>\n      <td>test</td>\n      <td>neg</td>\n    </tr>\n    <tr>\n      <th>4</th>\n      <td>10003_3.txt</td>\n      <td>Brass pictures (movies is not a fitting word f...</td>\n      <td>test</td>\n      <td>neg</td>\n    </tr>\n  </tbody>\n</table>\n</div>"
     },
     "execution_count": 34,
     "metadata": {},
     "output_type": "execute_result"
    }
   ],
   "source": [
    "df = pd.DataFrame.from_records(data)\n",
    "df.head()"
   ],
   "metadata": {
    "collapsed": false,
    "pycharm": {
     "name": "#%%\n"
    }
   }
  },
  {
   "cell_type": "markdown",
   "source": [
    "# Perform Pre-processing on data\n",
    "**Note:** The following operations are made using methods from the 'text_preproecssing.ipynb' file provided by the course. I have decided to process the text without storing intermediate columns in order to make a simple dataframe that is tailored for a specific imaginative purpose.\n",
    "\n",
    "**Preprocessing steps include**\n",
    "- lower casing\n",
    "- removing punctuation\n",
    "- removing stopwords\n",
    "- removing most frequent words\n",
    "- removing most rare words\n",
    "- removing emojis\n",
    "- translating emoticons to words\n",
    "- removing url's"
   ],
   "metadata": {
    "collapsed": false,
    "pycharm": {
     "name": "#%% md\n"
    }
   }
  },
  {
   "cell_type": "markdown",
   "source": [
    "#### Lower Casing"
   ],
   "metadata": {
    "collapsed": false,
    "pycharm": {
     "name": "#%% md\n"
    }
   }
  },
  {
   "cell_type": "code",
   "execution_count": 46,
   "outputs": [
    {
     "data": {
      "text/plain": "          name                                               text dataset  \\\n0      0_2.txt  mr costner dragged far longer necessary aside ...    test   \n1  10000_4.txt  example majority action films generic boring t...    test   \n2  10001_1.txt  first hate moronic rappers couldnt act gun pre...    test   \n3  10002_3.txt  beatles could write songs everyone liked altho...    test   \n4  10003_3.txt  brass pictures movies fitting word somewhat br...    test   \n\n  label  \n0   neg  \n1   neg  \n2   neg  \n3   neg  \n4   neg  ",
      "text/html": "<div>\n<style scoped>\n    .dataframe tbody tr th:only-of-type {\n        vertical-align: middle;\n    }\n\n    .dataframe tbody tr th {\n        vertical-align: top;\n    }\n\n    .dataframe thead th {\n        text-align: right;\n    }\n</style>\n<table border=\"1\" class=\"dataframe\">\n  <thead>\n    <tr style=\"text-align: right;\">\n      <th></th>\n      <th>name</th>\n      <th>text</th>\n      <th>dataset</th>\n      <th>label</th>\n    </tr>\n  </thead>\n  <tbody>\n    <tr>\n      <th>0</th>\n      <td>0_2.txt</td>\n      <td>mr costner dragged far longer necessary aside ...</td>\n      <td>test</td>\n      <td>neg</td>\n    </tr>\n    <tr>\n      <th>1</th>\n      <td>10000_4.txt</td>\n      <td>example majority action films generic boring t...</td>\n      <td>test</td>\n      <td>neg</td>\n    </tr>\n    <tr>\n      <th>2</th>\n      <td>10001_1.txt</td>\n      <td>first hate moronic rappers couldnt act gun pre...</td>\n      <td>test</td>\n      <td>neg</td>\n    </tr>\n    <tr>\n      <th>3</th>\n      <td>10002_3.txt</td>\n      <td>beatles could write songs everyone liked altho...</td>\n      <td>test</td>\n      <td>neg</td>\n    </tr>\n    <tr>\n      <th>4</th>\n      <td>10003_3.txt</td>\n      <td>brass pictures movies fitting word somewhat br...</td>\n      <td>test</td>\n      <td>neg</td>\n    </tr>\n  </tbody>\n</table>\n</div>"
     },
     "execution_count": 46,
     "metadata": {},
     "output_type": "execute_result"
    }
   ],
   "source": [
    "df[\"text\"] = df[\"text\"].str.lower()\n",
    "df.head()"
   ],
   "metadata": {
    "collapsed": false,
    "pycharm": {
     "name": "#%%\n"
    }
   }
  },
  {
   "cell_type": "markdown",
   "source": [
    "#### Removing punctuation"
   ],
   "metadata": {
    "collapsed": false,
    "pycharm": {
     "name": "#%% md\n"
    }
   }
  },
  {
   "cell_type": "code",
   "execution_count": 47,
   "outputs": [
    {
     "data": {
      "text/plain": "          name                                               text dataset  \\\n0      0_2.txt  mr costner dragged far longer necessary aside ...    test   \n1  10000_4.txt  example majority action films generic boring t...    test   \n2  10001_1.txt  first hate moronic rappers couldnt act gun pre...    test   \n3  10002_3.txt  beatles could write songs everyone liked altho...    test   \n4  10003_3.txt  brass pictures movies fitting word somewhat br...    test   \n\n  label  \n0   neg  \n1   neg  \n2   neg  \n3   neg  \n4   neg  ",
      "text/html": "<div>\n<style scoped>\n    .dataframe tbody tr th:only-of-type {\n        vertical-align: middle;\n    }\n\n    .dataframe tbody tr th {\n        vertical-align: top;\n    }\n\n    .dataframe thead th {\n        text-align: right;\n    }\n</style>\n<table border=\"1\" class=\"dataframe\">\n  <thead>\n    <tr style=\"text-align: right;\">\n      <th></th>\n      <th>name</th>\n      <th>text</th>\n      <th>dataset</th>\n      <th>label</th>\n    </tr>\n  </thead>\n  <tbody>\n    <tr>\n      <th>0</th>\n      <td>0_2.txt</td>\n      <td>mr costner dragged far longer necessary aside ...</td>\n      <td>test</td>\n      <td>neg</td>\n    </tr>\n    <tr>\n      <th>1</th>\n      <td>10000_4.txt</td>\n      <td>example majority action films generic boring t...</td>\n      <td>test</td>\n      <td>neg</td>\n    </tr>\n    <tr>\n      <th>2</th>\n      <td>10001_1.txt</td>\n      <td>first hate moronic rappers couldnt act gun pre...</td>\n      <td>test</td>\n      <td>neg</td>\n    </tr>\n    <tr>\n      <th>3</th>\n      <td>10002_3.txt</td>\n      <td>beatles could write songs everyone liked altho...</td>\n      <td>test</td>\n      <td>neg</td>\n    </tr>\n    <tr>\n      <th>4</th>\n      <td>10003_3.txt</td>\n      <td>brass pictures movies fitting word somewhat br...</td>\n      <td>test</td>\n      <td>neg</td>\n    </tr>\n  </tbody>\n</table>\n</div>"
     },
     "execution_count": 47,
     "metadata": {},
     "output_type": "execute_result"
    }
   ],
   "source": [
    "import string\n",
    "\n",
    "PUNCT_TO_REMOVE = string.punctuation\n",
    "def remove_punctuation(text):\n",
    "    \"\"\"custom function to remove the punctuation\"\"\"\n",
    "    return text.translate(str.maketrans('', '', PUNCT_TO_REMOVE))\n",
    "\n",
    "df[\"text\"] = df[\"text\"].apply(lambda text: remove_punctuation(text))\n",
    "df.head()"
   ],
   "metadata": {
    "collapsed": false,
    "pycharm": {
     "name": "#%%\n"
    }
   }
  },
  {
   "cell_type": "markdown",
   "source": [
    "#### Stopwords Removal"
   ],
   "metadata": {
    "collapsed": false,
    "pycharm": {
     "name": "#%% md\n"
    }
   }
  },
  {
   "cell_type": "code",
   "execution_count": 48,
   "outputs": [
    {
     "data": {
      "text/plain": "          name                                               text dataset  \\\n0      0_2.txt  mr costner dragged far longer necessary aside ...    test   \n1  10000_4.txt  example majority action films generic boring t...    test   \n2  10001_1.txt  first hate moronic rappers couldnt act gun pre...    test   \n3  10002_3.txt  beatles could write songs everyone liked altho...    test   \n4  10003_3.txt  brass pictures movies fitting word somewhat br...    test   \n\n  label  \n0   neg  \n1   neg  \n2   neg  \n3   neg  \n4   neg  ",
      "text/html": "<div>\n<style scoped>\n    .dataframe tbody tr th:only-of-type {\n        vertical-align: middle;\n    }\n\n    .dataframe tbody tr th {\n        vertical-align: top;\n    }\n\n    .dataframe thead th {\n        text-align: right;\n    }\n</style>\n<table border=\"1\" class=\"dataframe\">\n  <thead>\n    <tr style=\"text-align: right;\">\n      <th></th>\n      <th>name</th>\n      <th>text</th>\n      <th>dataset</th>\n      <th>label</th>\n    </tr>\n  </thead>\n  <tbody>\n    <tr>\n      <th>0</th>\n      <td>0_2.txt</td>\n      <td>mr costner dragged far longer necessary aside ...</td>\n      <td>test</td>\n      <td>neg</td>\n    </tr>\n    <tr>\n      <th>1</th>\n      <td>10000_4.txt</td>\n      <td>example majority action films generic boring t...</td>\n      <td>test</td>\n      <td>neg</td>\n    </tr>\n    <tr>\n      <th>2</th>\n      <td>10001_1.txt</td>\n      <td>first hate moronic rappers couldnt act gun pre...</td>\n      <td>test</td>\n      <td>neg</td>\n    </tr>\n    <tr>\n      <th>3</th>\n      <td>10002_3.txt</td>\n      <td>beatles could write songs everyone liked altho...</td>\n      <td>test</td>\n      <td>neg</td>\n    </tr>\n    <tr>\n      <th>4</th>\n      <td>10003_3.txt</td>\n      <td>brass pictures movies fitting word somewhat br...</td>\n      <td>test</td>\n      <td>neg</td>\n    </tr>\n  </tbody>\n</table>\n</div>"
     },
     "execution_count": 48,
     "metadata": {},
     "output_type": "execute_result"
    }
   ],
   "source": [
    "\n",
    "from nltk.corpus import stopwords\n",
    "\", \".join(stopwords.words('english'))\n",
    "\n",
    "STOPWORDS = set(stopwords.words('english'))\n",
    "def remove_stopwords(text):\n",
    "    \"\"\"custom function to remove the stopwords\"\"\"\n",
    "    return \" \".join([word for word in str(text).split() if word not in STOPWORDS])\n",
    "\n",
    "df[\"text\"] = df[\"text\"].apply(lambda text: remove_stopwords(text))\n",
    "df.head()"
   ],
   "metadata": {
    "collapsed": false,
    "pycharm": {
     "name": "#%%\n"
    }
   }
  },
  {
   "cell_type": "markdown",
   "source": [
    "#### Remove Frequent Words"
   ],
   "metadata": {
    "collapsed": false,
    "pycharm": {
     "name": "#%% md\n"
    }
   }
  },
  {
   "cell_type": "code",
   "execution_count": 49,
   "outputs": [
    {
     "data": {
      "text/plain": "[('see', 22534),\n ('story', 22090),\n ('much', 18947),\n ('well', 18791),\n ('get', 18204),\n ('great', 17819),\n ('also', 17816),\n ('bad', 17704),\n ('people', 17538),\n ('first', 17154)]"
     },
     "execution_count": 49,
     "metadata": {},
     "output_type": "execute_result"
    }
   ],
   "source": [
    "from collections import Counter\n",
    "cnt = Counter()\n",
    "for text in df[\"text\"].values:\n",
    "    for word in text.split():\n",
    "        cnt[word] += 1\n",
    "\n",
    "cnt.most_common(10)"
   ],
   "metadata": {
    "collapsed": false,
    "pycharm": {
     "name": "#%%\n"
    }
   }
  },
  {
   "cell_type": "code",
   "execution_count": 50,
   "outputs": [
    {
     "data": {
      "text/plain": "          name                                               text dataset  \\\n0      0_2.txt  mr costner dragged far longer necessary aside ...    test   \n1  10000_4.txt  example majority action films generic boring t...    test   \n2  10001_1.txt  hate moronic rappers couldnt act gun pressed f...    test   \n3  10002_3.txt  beatles could write songs everyone liked altho...    test   \n4  10003_3.txt  brass pictures movies fitting word somewhat br...    test   \n\n  label  \n0   neg  \n1   neg  \n2   neg  \n3   neg  \n4   neg  ",
      "text/html": "<div>\n<style scoped>\n    .dataframe tbody tr th:only-of-type {\n        vertical-align: middle;\n    }\n\n    .dataframe tbody tr th {\n        vertical-align: top;\n    }\n\n    .dataframe thead th {\n        text-align: right;\n    }\n</style>\n<table border=\"1\" class=\"dataframe\">\n  <thead>\n    <tr style=\"text-align: right;\">\n      <th></th>\n      <th>name</th>\n      <th>text</th>\n      <th>dataset</th>\n      <th>label</th>\n    </tr>\n  </thead>\n  <tbody>\n    <tr>\n      <th>0</th>\n      <td>0_2.txt</td>\n      <td>mr costner dragged far longer necessary aside ...</td>\n      <td>test</td>\n      <td>neg</td>\n    </tr>\n    <tr>\n      <th>1</th>\n      <td>10000_4.txt</td>\n      <td>example majority action films generic boring t...</td>\n      <td>test</td>\n      <td>neg</td>\n    </tr>\n    <tr>\n      <th>2</th>\n      <td>10001_1.txt</td>\n      <td>hate moronic rappers couldnt act gun pressed f...</td>\n      <td>test</td>\n      <td>neg</td>\n    </tr>\n    <tr>\n      <th>3</th>\n      <td>10002_3.txt</td>\n      <td>beatles could write songs everyone liked altho...</td>\n      <td>test</td>\n      <td>neg</td>\n    </tr>\n    <tr>\n      <th>4</th>\n      <td>10003_3.txt</td>\n      <td>brass pictures movies fitting word somewhat br...</td>\n      <td>test</td>\n      <td>neg</td>\n    </tr>\n  </tbody>\n</table>\n</div>"
     },
     "execution_count": 50,
     "metadata": {},
     "output_type": "execute_result"
    }
   ],
   "source": [
    "FREQWORDS = set([w for (w, wc) in cnt.most_common(10)])\n",
    "def remove_freqwords(text):\n",
    "    \"\"\"custom function to remove the frequent words\"\"\"\n",
    "    return \" \".join([word for word in str(text).split() if word not in FREQWORDS])\n",
    "\n",
    "df[\"text\"] = df[\"text\"].apply(lambda text: remove_freqwords(text))\n",
    "df.head()"
   ],
   "metadata": {
    "collapsed": false,
    "pycharm": {
     "name": "#%%\n"
    }
   }
  },
  {
   "cell_type": "markdown",
   "source": [
    "#### Rare Words Removal"
   ],
   "metadata": {
    "collapsed": false,
    "pycharm": {
     "name": "#%% md\n"
    }
   }
  },
  {
   "cell_type": "code",
   "execution_count": 51,
   "outputs": [
    {
     "data": {
      "text/plain": "          name                                               text dataset  \\\n0      0_2.txt  mr costner dragged far longer necessary aside ...    test   \n1  10000_4.txt  example majority action films generic boring t...    test   \n2  10001_1.txt  hate moronic rappers couldnt act gun pressed f...    test   \n3  10002_3.txt  beatles could write songs everyone liked altho...    test   \n4  10003_3.txt  brass pictures movies fitting word somewhat br...    test   \n\n  label  \n0   neg  \n1   neg  \n2   neg  \n3   neg  \n4   neg  ",
      "text/html": "<div>\n<style scoped>\n    .dataframe tbody tr th:only-of-type {\n        vertical-align: middle;\n    }\n\n    .dataframe tbody tr th {\n        vertical-align: top;\n    }\n\n    .dataframe thead th {\n        text-align: right;\n    }\n</style>\n<table border=\"1\" class=\"dataframe\">\n  <thead>\n    <tr style=\"text-align: right;\">\n      <th></th>\n      <th>name</th>\n      <th>text</th>\n      <th>dataset</th>\n      <th>label</th>\n    </tr>\n  </thead>\n  <tbody>\n    <tr>\n      <th>0</th>\n      <td>0_2.txt</td>\n      <td>mr costner dragged far longer necessary aside ...</td>\n      <td>test</td>\n      <td>neg</td>\n    </tr>\n    <tr>\n      <th>1</th>\n      <td>10000_4.txt</td>\n      <td>example majority action films generic boring t...</td>\n      <td>test</td>\n      <td>neg</td>\n    </tr>\n    <tr>\n      <th>2</th>\n      <td>10001_1.txt</td>\n      <td>hate moronic rappers couldnt act gun pressed f...</td>\n      <td>test</td>\n      <td>neg</td>\n    </tr>\n    <tr>\n      <th>3</th>\n      <td>10002_3.txt</td>\n      <td>beatles could write songs everyone liked altho...</td>\n      <td>test</td>\n      <td>neg</td>\n    </tr>\n    <tr>\n      <th>4</th>\n      <td>10003_3.txt</td>\n      <td>brass pictures movies fitting word somewhat br...</td>\n      <td>test</td>\n      <td>neg</td>\n    </tr>\n  </tbody>\n</table>\n</div>"
     },
     "execution_count": 51,
     "metadata": {},
     "output_type": "execute_result"
    }
   ],
   "source": [
    "n_rare_words = 10\n",
    "RAREWORDS = set([w for (w, wc) in cnt.most_common()[:-n_rare_words-1:-1]])\n",
    "def remove_rarewords(text):\n",
    "    \"\"\"custom function to remove the rare words\"\"\"\n",
    "    return \" \".join([word for word in str(text).split() if word not in RAREWORDS])\n",
    "\n",
    "df[\"text\"] = df[\"text\"].apply(lambda text: remove_rarewords(text))\n",
    "df.head()"
   ],
   "metadata": {
    "collapsed": false,
    "pycharm": {
     "name": "#%%\n"
    }
   }
  },
  {
   "cell_type": "markdown",
   "source": [
    "#### Emojis Removal"
   ],
   "metadata": {
    "collapsed": false,
    "pycharm": {
     "name": "#%% md\n"
    }
   }
  },
  {
   "cell_type": "code",
   "execution_count": 52,
   "outputs": [
    {
     "data": {
      "text/plain": "          name                                               text dataset  \\\n0      0_2.txt  mr costner dragged far longer necessary aside ...    test   \n1  10000_4.txt  example majority action films generic boring t...    test   \n2  10001_1.txt  hate moronic rappers couldnt act gun pressed f...    test   \n3  10002_3.txt  beatles could write songs everyone liked altho...    test   \n4  10003_3.txt  brass pictures movies fitting word somewhat br...    test   \n\n  label  \n0   neg  \n1   neg  \n2   neg  \n3   neg  \n4   neg  ",
      "text/html": "<div>\n<style scoped>\n    .dataframe tbody tr th:only-of-type {\n        vertical-align: middle;\n    }\n\n    .dataframe tbody tr th {\n        vertical-align: top;\n    }\n\n    .dataframe thead th {\n        text-align: right;\n    }\n</style>\n<table border=\"1\" class=\"dataframe\">\n  <thead>\n    <tr style=\"text-align: right;\">\n      <th></th>\n      <th>name</th>\n      <th>text</th>\n      <th>dataset</th>\n      <th>label</th>\n    </tr>\n  </thead>\n  <tbody>\n    <tr>\n      <th>0</th>\n      <td>0_2.txt</td>\n      <td>mr costner dragged far longer necessary aside ...</td>\n      <td>test</td>\n      <td>neg</td>\n    </tr>\n    <tr>\n      <th>1</th>\n      <td>10000_4.txt</td>\n      <td>example majority action films generic boring t...</td>\n      <td>test</td>\n      <td>neg</td>\n    </tr>\n    <tr>\n      <th>2</th>\n      <td>10001_1.txt</td>\n      <td>hate moronic rappers couldnt act gun pressed f...</td>\n      <td>test</td>\n      <td>neg</td>\n    </tr>\n    <tr>\n      <th>3</th>\n      <td>10002_3.txt</td>\n      <td>beatles could write songs everyone liked altho...</td>\n      <td>test</td>\n      <td>neg</td>\n    </tr>\n    <tr>\n      <th>4</th>\n      <td>10003_3.txt</td>\n      <td>brass pictures movies fitting word somewhat br...</td>\n      <td>test</td>\n      <td>neg</td>\n    </tr>\n  </tbody>\n</table>\n</div>"
     },
     "execution_count": 52,
     "metadata": {},
     "output_type": "execute_result"
    }
   ],
   "source": [
    "def remove_emoji(string):\n",
    "    'src: https://gist.github.com/slowkow/7a7f61f495e3dbb7e3d767f97bd7304b'\n",
    "    emoji_pattern = re.compile(\"[\"\n",
    "                           u\"\\U0001F600-\\U0001F64F\"  # emoticons\n",
    "                           u\"\\U0001F300-\\U0001F5FF\"  # symbols & pictographs\n",
    "                           u\"\\U0001F680-\\U0001F6FF\"  # transport & map symbols\n",
    "                           u\"\\U0001F1E0-\\U0001F1FF\"  # flags (iOS)\n",
    "                           u\"\\U00002702-\\U000027B0\"\n",
    "                           u\"\\U000024C2-\\U0001F251\"\n",
    "                           \"]+\", flags=re.UNICODE)\n",
    "    return emoji_pattern.sub(r'', string)\n",
    "df[\"text\"] = df[\"text\"].apply(lambda text: remove_emoji(text))\n",
    "df.head()"
   ],
   "metadata": {
    "collapsed": false,
    "pycharm": {
     "name": "#%%\n"
    }
   }
  },
  {
   "cell_type": "code",
   "execution_count": 53,
   "outputs": [],
   "source": [
    "# src : https://github.com/NeelShah18/emot/blob/master/emot/emo_unicode.py\n",
    "EMOTICONS = {\n",
    "    u\":‑\\)\":\"Happy face or smiley\",\n",
    "    u\":\\)\":\"Happy face or smiley\",\n",
    "    u\":-\\]\":\"Happy face or smiley\",\n",
    "    u\":\\]\":\"Happy face or smiley\",\n",
    "    u\":-3\":\"Happy face smiley\",\n",
    "    u\":3\":\"Happy face smiley\",\n",
    "    u\":->\":\"Happy face smiley\",\n",
    "    u\":>\":\"Happy face smiley\",\n",
    "    u\"8-\\)\":\"Happy face smiley\",\n",
    "    u\":o\\)\":\"Happy face smiley\",\n",
    "    u\":-\\}\":\"Happy face smiley\",\n",
    "    u\":\\}\":\"Happy face smiley\",\n",
    "    u\":-\\)\":\"Happy face smiley\",\n",
    "    u\":c\\)\":\"Happy face smiley\",\n",
    "    u\":\\^\\)\":\"Happy face smiley\",\n",
    "    u\"=\\]\":\"Happy face smiley\",\n",
    "    u\"=\\)\":\"Happy face smiley\"\n",
    "}"
   ],
   "metadata": {
    "collapsed": false,
    "pycharm": {
     "name": "#%%\n"
    }
   }
  },
  {
   "cell_type": "markdown",
   "source": [
    "#### Convert Emoticons to words"
   ],
   "metadata": {
    "collapsed": false,
    "pycharm": {
     "name": "#%% md\n"
    }
   }
  },
  {
   "cell_type": "code",
   "execution_count": 54,
   "outputs": [
    {
     "data": {
      "text/plain": "          name                                               text dataset  \\\n0      0_2.txt  mr costner dragged far longer necessary aside ...    test   \n1  10000_4.txt  example majority action films generic boring t...    test   \n2  10001_1.txt  hate moronic rappers couldnt act gun pressed f...    test   \n3  10002_3.txt  beatles could write songs everyone liked altho...    test   \n4  10003_3.txt  brass pictures movies fitting word somewhat br...    test   \n\n  label  \n0   neg  \n1   neg  \n2   neg  \n3   neg  \n4   neg  ",
      "text/html": "<div>\n<style scoped>\n    .dataframe tbody tr th:only-of-type {\n        vertical-align: middle;\n    }\n\n    .dataframe tbody tr th {\n        vertical-align: top;\n    }\n\n    .dataframe thead th {\n        text-align: right;\n    }\n</style>\n<table border=\"1\" class=\"dataframe\">\n  <thead>\n    <tr style=\"text-align: right;\">\n      <th></th>\n      <th>name</th>\n      <th>text</th>\n      <th>dataset</th>\n      <th>label</th>\n    </tr>\n  </thead>\n  <tbody>\n    <tr>\n      <th>0</th>\n      <td>0_2.txt</td>\n      <td>mr costner dragged far longer necessary aside ...</td>\n      <td>test</td>\n      <td>neg</td>\n    </tr>\n    <tr>\n      <th>1</th>\n      <td>10000_4.txt</td>\n      <td>example majority action films generic boring t...</td>\n      <td>test</td>\n      <td>neg</td>\n    </tr>\n    <tr>\n      <th>2</th>\n      <td>10001_1.txt</td>\n      <td>hate moronic rappers couldnt act gun pressed f...</td>\n      <td>test</td>\n      <td>neg</td>\n    </tr>\n    <tr>\n      <th>3</th>\n      <td>10002_3.txt</td>\n      <td>beatles could write songs everyone liked altho...</td>\n      <td>test</td>\n      <td>neg</td>\n    </tr>\n    <tr>\n      <th>4</th>\n      <td>10003_3.txt</td>\n      <td>brass pictures movies fitting word somewhat br...</td>\n      <td>test</td>\n      <td>neg</td>\n    </tr>\n  </tbody>\n</table>\n</div>"
     },
     "execution_count": 54,
     "metadata": {},
     "output_type": "execute_result"
    }
   ],
   "source": [
    "def convert_emoticons(text):\n",
    "    for emot in EMOTICONS:\n",
    "        text = re.sub(u'('+emot+')', \"_\".join(EMOTICONS[emot].replace(\",\",\"\").split()), text)\n",
    "    return text\n",
    "\n",
    "df[\"text\"] = df[\"text\"].apply(lambda text: convert_emoticons(text))\n",
    "df.head()"
   ],
   "metadata": {
    "collapsed": false,
    "pycharm": {
     "name": "#%%\n"
    }
   }
  },
  {
   "cell_type": "markdown",
   "source": [
    "#### URLs Removal"
   ],
   "metadata": {
    "collapsed": false,
    "pycharm": {
     "name": "#%% md\n"
    }
   }
  },
  {
   "cell_type": "code",
   "execution_count": 55,
   "outputs": [
    {
     "data": {
      "text/plain": "          name                                               text dataset  \\\n0      0_2.txt  mr costner dragged far longer necessary aside ...    test   \n1  10000_4.txt  example majority action films generic boring t...    test   \n2  10001_1.txt  hate moronic rappers couldnt act gun pressed f...    test   \n3  10002_3.txt  beatles could write songs everyone liked altho...    test   \n4  10003_3.txt  brass pictures movies fitting word somewhat br...    test   \n\n  label  \n0   neg  \n1   neg  \n2   neg  \n3   neg  \n4   neg  ",
      "text/html": "<div>\n<style scoped>\n    .dataframe tbody tr th:only-of-type {\n        vertical-align: middle;\n    }\n\n    .dataframe tbody tr th {\n        vertical-align: top;\n    }\n\n    .dataframe thead th {\n        text-align: right;\n    }\n</style>\n<table border=\"1\" class=\"dataframe\">\n  <thead>\n    <tr style=\"text-align: right;\">\n      <th></th>\n      <th>name</th>\n      <th>text</th>\n      <th>dataset</th>\n      <th>label</th>\n    </tr>\n  </thead>\n  <tbody>\n    <tr>\n      <th>0</th>\n      <td>0_2.txt</td>\n      <td>mr costner dragged far longer necessary aside ...</td>\n      <td>test</td>\n      <td>neg</td>\n    </tr>\n    <tr>\n      <th>1</th>\n      <td>10000_4.txt</td>\n      <td>example majority action films generic boring t...</td>\n      <td>test</td>\n      <td>neg</td>\n    </tr>\n    <tr>\n      <th>2</th>\n      <td>10001_1.txt</td>\n      <td>hate moronic rappers couldnt act gun pressed f...</td>\n      <td>test</td>\n      <td>neg</td>\n    </tr>\n    <tr>\n      <th>3</th>\n      <td>10002_3.txt</td>\n      <td>beatles could write songs everyone liked altho...</td>\n      <td>test</td>\n      <td>neg</td>\n    </tr>\n    <tr>\n      <th>4</th>\n      <td>10003_3.txt</td>\n      <td>brass pictures movies fitting word somewhat br...</td>\n      <td>test</td>\n      <td>neg</td>\n    </tr>\n  </tbody>\n</table>\n</div>"
     },
     "execution_count": 55,
     "metadata": {},
     "output_type": "execute_result"
    }
   ],
   "source": [
    "def remove_urls(text):\n",
    "    url_pattern = re.compile(r'https?://\\S+|www\\.\\S+')\n",
    "    return url_pattern.sub(r'', text)\n",
    "df[\"text\"] = df[\"text\"].apply(lambda text: convert_emoticons(text))\n",
    "df.head()"
   ],
   "metadata": {
    "collapsed": false,
    "pycharm": {
     "name": "#%%\n"
    }
   }
  },
  {
   "cell_type": "markdown",
   "source": [
    "# Printing the complete processed dataframe"
   ],
   "metadata": {
    "collapsed": false,
    "pycharm": {
     "name": "#%% md\n"
    }
   }
  },
  {
   "cell_type": "code",
   "execution_count": 56,
   "outputs": [
    {
     "data": {
      "text/plain": "              name                                               text dataset  \\\n0          0_2.txt  mr costner dragged far longer necessary aside ...    test   \n1      10000_4.txt  example majority action films generic boring t...    test   \n2      10001_1.txt  hate moronic rappers couldnt act gun pressed f...    test   \n3      10002_3.txt  beatles could write songs everyone liked altho...    test   \n4      10003_3.txt  brass pictures movies fitting word somewhat br...    test   \n...            ...                                                ...     ...   \n49995   9998_9.txt  seeing vote average pretty low fact clerk vide...   train   \n49996   9999_8.txt  plot wretched unbelievable twists however chem...   train   \n49997   999_10.txt  amazed movieand others average 5 stars lower c...   train   \n49998     99_8.txt  christmas together actually came ive raised jo...   train   \n49999      9_7.txt  workingclass romantic drama director martin ri...   train   \n\n      label  \n0       neg  \n1       neg  \n2       neg  \n3       neg  \n4       neg  \n...     ...  \n49995   pos  \n49996   pos  \n49997   pos  \n49998   pos  \n49999   pos  \n\n[50000 rows x 4 columns]",
      "text/html": "<div>\n<style scoped>\n    .dataframe tbody tr th:only-of-type {\n        vertical-align: middle;\n    }\n\n    .dataframe tbody tr th {\n        vertical-align: top;\n    }\n\n    .dataframe thead th {\n        text-align: right;\n    }\n</style>\n<table border=\"1\" class=\"dataframe\">\n  <thead>\n    <tr style=\"text-align: right;\">\n      <th></th>\n      <th>name</th>\n      <th>text</th>\n      <th>dataset</th>\n      <th>label</th>\n    </tr>\n  </thead>\n  <tbody>\n    <tr>\n      <th>0</th>\n      <td>0_2.txt</td>\n      <td>mr costner dragged far longer necessary aside ...</td>\n      <td>test</td>\n      <td>neg</td>\n    </tr>\n    <tr>\n      <th>1</th>\n      <td>10000_4.txt</td>\n      <td>example majority action films generic boring t...</td>\n      <td>test</td>\n      <td>neg</td>\n    </tr>\n    <tr>\n      <th>2</th>\n      <td>10001_1.txt</td>\n      <td>hate moronic rappers couldnt act gun pressed f...</td>\n      <td>test</td>\n      <td>neg</td>\n    </tr>\n    <tr>\n      <th>3</th>\n      <td>10002_3.txt</td>\n      <td>beatles could write songs everyone liked altho...</td>\n      <td>test</td>\n      <td>neg</td>\n    </tr>\n    <tr>\n      <th>4</th>\n      <td>10003_3.txt</td>\n      <td>brass pictures movies fitting word somewhat br...</td>\n      <td>test</td>\n      <td>neg</td>\n    </tr>\n    <tr>\n      <th>...</th>\n      <td>...</td>\n      <td>...</td>\n      <td>...</td>\n      <td>...</td>\n    </tr>\n    <tr>\n      <th>49995</th>\n      <td>9998_9.txt</td>\n      <td>seeing vote average pretty low fact clerk vide...</td>\n      <td>train</td>\n      <td>pos</td>\n    </tr>\n    <tr>\n      <th>49996</th>\n      <td>9999_8.txt</td>\n      <td>plot wretched unbelievable twists however chem...</td>\n      <td>train</td>\n      <td>pos</td>\n    </tr>\n    <tr>\n      <th>49997</th>\n      <td>999_10.txt</td>\n      <td>amazed movieand others average 5 stars lower c...</td>\n      <td>train</td>\n      <td>pos</td>\n    </tr>\n    <tr>\n      <th>49998</th>\n      <td>99_8.txt</td>\n      <td>christmas together actually came ive raised jo...</td>\n      <td>train</td>\n      <td>pos</td>\n    </tr>\n    <tr>\n      <th>49999</th>\n      <td>9_7.txt</td>\n      <td>workingclass romantic drama director martin ri...</td>\n      <td>train</td>\n      <td>pos</td>\n    </tr>\n  </tbody>\n</table>\n<p>50000 rows × 4 columns</p>\n</div>"
     },
     "execution_count": 56,
     "metadata": {},
     "output_type": "execute_result"
    }
   ],
   "source": [
    "df"
   ],
   "metadata": {
    "collapsed": false,
    "pycharm": {
     "name": "#%%\n"
    }
   }
  },
  {
   "cell_type": "code",
   "execution_count": null,
   "outputs": [],
   "source": [],
   "metadata": {
    "collapsed": false,
    "pycharm": {
     "name": "#%%\n"
    }
   }
  }
 ],
 "metadata": {
  "kernelspec": {
   "display_name": "Python 3",
   "language": "python",
   "name": "python3"
  },
  "language_info": {
   "codemirror_mode": {
    "name": "ipython",
    "version": 2
   },
   "file_extension": ".py",
   "mimetype": "text/x-python",
   "name": "python",
   "nbconvert_exporter": "python",
   "pygments_lexer": "ipython2",
   "version": "2.7.6"
  }
 },
 "nbformat": 4,
 "nbformat_minor": 0
}