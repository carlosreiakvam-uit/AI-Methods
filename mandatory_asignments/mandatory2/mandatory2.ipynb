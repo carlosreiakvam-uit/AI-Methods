{
 "cells": [
  {
   "cell_type": "markdown",
   "source": [
    "# Mandatory assignment 2"
   ],
   "metadata": {
    "collapsed": false,
    "pycharm": {
     "name": "#%% md\n"
    }
   }
  },
  {
   "cell_type": "code",
   "execution_count": 15,
   "metadata": {
    "collapsed": true,
    "pycharm": {
     "name": "#%%\n"
    }
   },
   "outputs": [],
   "source": [
    "import numpy as np\n",
    "from math import sqrt, floor, pow\n",
    "import pandas as pd"
   ]
  },
  {
   "cell_type": "markdown",
   "source": [
    "## Preparing the data\n",
    "The dataset is gathered from a url and converted to a Pandas dataframe"
   ],
   "metadata": {
    "collapsed": false,
    "pycharm": {
     "name": "#%% md\n"
    }
   }
  },
  {
   "cell_type": "code",
   "execution_count": 16,
   "outputs": [],
   "source": [
    "URL = 'https://archive.ics.uci.edu/ml/machine-learning-databases/iris/iris.data'"
   ],
   "metadata": {
    "collapsed": false,
    "pycharm": {
     "name": "#%%\n"
    }
   }
  },
  {
   "cell_type": "code",
   "execution_count": 17,
   "outputs": [
    {
     "data": {
      "text/plain": "     sepal length  sepal width  petal length  petal width           class\n0             5.1          3.5           1.4          0.2     Iris-setosa\n1             4.9          3.0           1.4          0.2     Iris-setosa\n2             4.7          3.2           1.3          0.2     Iris-setosa\n3             4.6          3.1           1.5          0.2     Iris-setosa\n4             5.0          3.6           1.4          0.2     Iris-setosa\n..            ...          ...           ...          ...             ...\n145           6.7          3.0           5.2          2.3  Iris-virginica\n146           6.3          2.5           5.0          1.9  Iris-virginica\n147           6.5          3.0           5.2          2.0  Iris-virginica\n148           6.2          3.4           5.4          2.3  Iris-virginica\n149           5.9          3.0           5.1          1.8  Iris-virginica\n\n[150 rows x 5 columns]",
      "text/html": "<div>\n<style scoped>\n    .dataframe tbody tr th:only-of-type {\n        vertical-align: middle;\n    }\n\n    .dataframe tbody tr th {\n        vertical-align: top;\n    }\n\n    .dataframe thead th {\n        text-align: right;\n    }\n</style>\n<table border=\"1\" class=\"dataframe\">\n  <thead>\n    <tr style=\"text-align: right;\">\n      <th></th>\n      <th>sepal length</th>\n      <th>sepal width</th>\n      <th>petal length</th>\n      <th>petal width</th>\n      <th>class</th>\n    </tr>\n  </thead>\n  <tbody>\n    <tr>\n      <th>0</th>\n      <td>5.1</td>\n      <td>3.5</td>\n      <td>1.4</td>\n      <td>0.2</td>\n      <td>Iris-setosa</td>\n    </tr>\n    <tr>\n      <th>1</th>\n      <td>4.9</td>\n      <td>3.0</td>\n      <td>1.4</td>\n      <td>0.2</td>\n      <td>Iris-setosa</td>\n    </tr>\n    <tr>\n      <th>2</th>\n      <td>4.7</td>\n      <td>3.2</td>\n      <td>1.3</td>\n      <td>0.2</td>\n      <td>Iris-setosa</td>\n    </tr>\n    <tr>\n      <th>3</th>\n      <td>4.6</td>\n      <td>3.1</td>\n      <td>1.5</td>\n      <td>0.2</td>\n      <td>Iris-setosa</td>\n    </tr>\n    <tr>\n      <th>4</th>\n      <td>5.0</td>\n      <td>3.6</td>\n      <td>1.4</td>\n      <td>0.2</td>\n      <td>Iris-setosa</td>\n    </tr>\n    <tr>\n      <th>...</th>\n      <td>...</td>\n      <td>...</td>\n      <td>...</td>\n      <td>...</td>\n      <td>...</td>\n    </tr>\n    <tr>\n      <th>145</th>\n      <td>6.7</td>\n      <td>3.0</td>\n      <td>5.2</td>\n      <td>2.3</td>\n      <td>Iris-virginica</td>\n    </tr>\n    <tr>\n      <th>146</th>\n      <td>6.3</td>\n      <td>2.5</td>\n      <td>5.0</td>\n      <td>1.9</td>\n      <td>Iris-virginica</td>\n    </tr>\n    <tr>\n      <th>147</th>\n      <td>6.5</td>\n      <td>3.0</td>\n      <td>5.2</td>\n      <td>2.0</td>\n      <td>Iris-virginica</td>\n    </tr>\n    <tr>\n      <th>148</th>\n      <td>6.2</td>\n      <td>3.4</td>\n      <td>5.4</td>\n      <td>2.3</td>\n      <td>Iris-virginica</td>\n    </tr>\n    <tr>\n      <th>149</th>\n      <td>5.9</td>\n      <td>3.0</td>\n      <td>5.1</td>\n      <td>1.8</td>\n      <td>Iris-virginica</td>\n    </tr>\n  </tbody>\n</table>\n<p>150 rows × 5 columns</p>\n</div>"
     },
     "execution_count": 17,
     "metadata": {},
     "output_type": "execute_result"
    }
   ],
   "source": [
    "df_iris = pd.read_csv(URL,\n",
    "                      header=None,\n",
    "                      names=['sepal length', 'sepal width',\n",
    "                             'petal length', 'petal width', 'class'])\n",
    "df_iris"
   ],
   "metadata": {
    "collapsed": false,
    "pycharm": {
     "name": "#%%\n"
    }
   }
  },
  {
   "cell_type": "markdown",
   "source": [
    "The labels are strings, so it will be easier and more efficient to convert them to numbers.\n",
    "This is achieved by using the `pd.factorize()` method.\n",
    "The dataframe is then converted to a numpy array"
   ],
   "metadata": {
    "collapsed": false,
    "pycharm": {
     "name": "#%% md\n"
    }
   }
  },
  {
   "cell_type": "code",
   "execution_count": 18,
   "outputs": [
    {
     "data": {
      "text/plain": "array([[5.1, 3.5, 1.4, 0.2, 0. ],\n       [4.9, 3. , 1.4, 0.2, 0. ],\n       [4.7, 3.2, 1.3, 0.2, 0. ],\n       [4.6, 3.1, 1.5, 0.2, 0. ],\n       [5. , 3.6, 1.4, 0.2, 0. ],\n       [5.4, 3.9, 1.7, 0.4, 0. ],\n       [4.6, 3.4, 1.4, 0.3, 0. ],\n       [5. , 3.4, 1.5, 0.2, 0. ],\n       [4.4, 2.9, 1.4, 0.2, 0. ],\n       [4.9, 3.1, 1.5, 0.1, 0. ],\n       [5.4, 3.7, 1.5, 0.2, 0. ],\n       [4.8, 3.4, 1.6, 0.2, 0. ],\n       [4.8, 3. , 1.4, 0.1, 0. ],\n       [4.3, 3. , 1.1, 0.1, 0. ],\n       [5.8, 4. , 1.2, 0.2, 0. ],\n       [5.7, 4.4, 1.5, 0.4, 0. ],\n       [5.4, 3.9, 1.3, 0.4, 0. ],\n       [5.1, 3.5, 1.4, 0.3, 0. ],\n       [5.7, 3.8, 1.7, 0.3, 0. ],\n       [5.1, 3.8, 1.5, 0.3, 0. ],\n       [5.4, 3.4, 1.7, 0.2, 0. ],\n       [5.1, 3.7, 1.5, 0.4, 0. ],\n       [4.6, 3.6, 1. , 0.2, 0. ],\n       [5.1, 3.3, 1.7, 0.5, 0. ],\n       [4.8, 3.4, 1.9, 0.2, 0. ],\n       [5. , 3. , 1.6, 0.2, 0. ],\n       [5. , 3.4, 1.6, 0.4, 0. ],\n       [5.2, 3.5, 1.5, 0.2, 0. ],\n       [5.2, 3.4, 1.4, 0.2, 0. ],\n       [4.7, 3.2, 1.6, 0.2, 0. ],\n       [4.8, 3.1, 1.6, 0.2, 0. ],\n       [5.4, 3.4, 1.5, 0.4, 0. ],\n       [5.2, 4.1, 1.5, 0.1, 0. ],\n       [5.5, 4.2, 1.4, 0.2, 0. ],\n       [4.9, 3.1, 1.5, 0.1, 0. ],\n       [5. , 3.2, 1.2, 0.2, 0. ],\n       [5.5, 3.5, 1.3, 0.2, 0. ],\n       [4.9, 3.1, 1.5, 0.1, 0. ],\n       [4.4, 3. , 1.3, 0.2, 0. ],\n       [5.1, 3.4, 1.5, 0.2, 0. ],\n       [5. , 3.5, 1.3, 0.3, 0. ],\n       [4.5, 2.3, 1.3, 0.3, 0. ],\n       [4.4, 3.2, 1.3, 0.2, 0. ],\n       [5. , 3.5, 1.6, 0.6, 0. ],\n       [5.1, 3.8, 1.9, 0.4, 0. ],\n       [4.8, 3. , 1.4, 0.3, 0. ],\n       [5.1, 3.8, 1.6, 0.2, 0. ],\n       [4.6, 3.2, 1.4, 0.2, 0. ],\n       [5.3, 3.7, 1.5, 0.2, 0. ],\n       [5. , 3.3, 1.4, 0.2, 0. ],\n       [7. , 3.2, 4.7, 1.4, 1. ],\n       [6.4, 3.2, 4.5, 1.5, 1. ],\n       [6.9, 3.1, 4.9, 1.5, 1. ],\n       [5.5, 2.3, 4. , 1.3, 1. ],\n       [6.5, 2.8, 4.6, 1.5, 1. ],\n       [5.7, 2.8, 4.5, 1.3, 1. ],\n       [6.3, 3.3, 4.7, 1.6, 1. ],\n       [4.9, 2.4, 3.3, 1. , 1. ],\n       [6.6, 2.9, 4.6, 1.3, 1. ],\n       [5.2, 2.7, 3.9, 1.4, 1. ],\n       [5. , 2. , 3.5, 1. , 1. ],\n       [5.9, 3. , 4.2, 1.5, 1. ],\n       [6. , 2.2, 4. , 1. , 1. ],\n       [6.1, 2.9, 4.7, 1.4, 1. ],\n       [5.6, 2.9, 3.6, 1.3, 1. ],\n       [6.7, 3.1, 4.4, 1.4, 1. ],\n       [5.6, 3. , 4.5, 1.5, 1. ],\n       [5.8, 2.7, 4.1, 1. , 1. ],\n       [6.2, 2.2, 4.5, 1.5, 1. ],\n       [5.6, 2.5, 3.9, 1.1, 1. ],\n       [5.9, 3.2, 4.8, 1.8, 1. ],\n       [6.1, 2.8, 4. , 1.3, 1. ],\n       [6.3, 2.5, 4.9, 1.5, 1. ],\n       [6.1, 2.8, 4.7, 1.2, 1. ],\n       [6.4, 2.9, 4.3, 1.3, 1. ],\n       [6.6, 3. , 4.4, 1.4, 1. ],\n       [6.8, 2.8, 4.8, 1.4, 1. ],\n       [6.7, 3. , 5. , 1.7, 1. ],\n       [6. , 2.9, 4.5, 1.5, 1. ],\n       [5.7, 2.6, 3.5, 1. , 1. ],\n       [5.5, 2.4, 3.8, 1.1, 1. ],\n       [5.5, 2.4, 3.7, 1. , 1. ],\n       [5.8, 2.7, 3.9, 1.2, 1. ],\n       [6. , 2.7, 5.1, 1.6, 1. ],\n       [5.4, 3. , 4.5, 1.5, 1. ],\n       [6. , 3.4, 4.5, 1.6, 1. ],\n       [6.7, 3.1, 4.7, 1.5, 1. ],\n       [6.3, 2.3, 4.4, 1.3, 1. ],\n       [5.6, 3. , 4.1, 1.3, 1. ],\n       [5.5, 2.5, 4. , 1.3, 1. ],\n       [5.5, 2.6, 4.4, 1.2, 1. ],\n       [6.1, 3. , 4.6, 1.4, 1. ],\n       [5.8, 2.6, 4. , 1.2, 1. ],\n       [5. , 2.3, 3.3, 1. , 1. ],\n       [5.6, 2.7, 4.2, 1.3, 1. ],\n       [5.7, 3. , 4.2, 1.2, 1. ],\n       [5.7, 2.9, 4.2, 1.3, 1. ],\n       [6.2, 2.9, 4.3, 1.3, 1. ],\n       [5.1, 2.5, 3. , 1.1, 1. ],\n       [5.7, 2.8, 4.1, 1.3, 1. ],\n       [6.3, 3.3, 6. , 2.5, 2. ],\n       [5.8, 2.7, 5.1, 1.9, 2. ],\n       [7.1, 3. , 5.9, 2.1, 2. ],\n       [6.3, 2.9, 5.6, 1.8, 2. ],\n       [6.5, 3. , 5.8, 2.2, 2. ],\n       [7.6, 3. , 6.6, 2.1, 2. ],\n       [4.9, 2.5, 4.5, 1.7, 2. ],\n       [7.3, 2.9, 6.3, 1.8, 2. ],\n       [6.7, 2.5, 5.8, 1.8, 2. ],\n       [7.2, 3.6, 6.1, 2.5, 2. ],\n       [6.5, 3.2, 5.1, 2. , 2. ],\n       [6.4, 2.7, 5.3, 1.9, 2. ],\n       [6.8, 3. , 5.5, 2.1, 2. ],\n       [5.7, 2.5, 5. , 2. , 2. ],\n       [5.8, 2.8, 5.1, 2.4, 2. ],\n       [6.4, 3.2, 5.3, 2.3, 2. ],\n       [6.5, 3. , 5.5, 1.8, 2. ],\n       [7.7, 3.8, 6.7, 2.2, 2. ],\n       [7.7, 2.6, 6.9, 2.3, 2. ],\n       [6. , 2.2, 5. , 1.5, 2. ],\n       [6.9, 3.2, 5.7, 2.3, 2. ],\n       [5.6, 2.8, 4.9, 2. , 2. ],\n       [7.7, 2.8, 6.7, 2. , 2. ],\n       [6.3, 2.7, 4.9, 1.8, 2. ],\n       [6.7, 3.3, 5.7, 2.1, 2. ],\n       [7.2, 3.2, 6. , 1.8, 2. ],\n       [6.2, 2.8, 4.8, 1.8, 2. ],\n       [6.1, 3. , 4.9, 1.8, 2. ],\n       [6.4, 2.8, 5.6, 2.1, 2. ],\n       [7.2, 3. , 5.8, 1.6, 2. ],\n       [7.4, 2.8, 6.1, 1.9, 2. ],\n       [7.9, 3.8, 6.4, 2. , 2. ],\n       [6.4, 2.8, 5.6, 2.2, 2. ],\n       [6.3, 2.8, 5.1, 1.5, 2. ],\n       [6.1, 2.6, 5.6, 1.4, 2. ],\n       [7.7, 3. , 6.1, 2.3, 2. ],\n       [6.3, 3.4, 5.6, 2.4, 2. ],\n       [6.4, 3.1, 5.5, 1.8, 2. ],\n       [6. , 3. , 4.8, 1.8, 2. ],\n       [6.9, 3.1, 5.4, 2.1, 2. ],\n       [6.7, 3.1, 5.6, 2.4, 2. ],\n       [6.9, 3.1, 5.1, 2.3, 2. ],\n       [5.8, 2.7, 5.1, 1.9, 2. ],\n       [6.8, 3.2, 5.9, 2.3, 2. ],\n       [6.7, 3.3, 5.7, 2.5, 2. ],\n       [6.7, 3. , 5.2, 2.3, 2. ],\n       [6.3, 2.5, 5. , 1.9, 2. ],\n       [6.5, 3. , 5.2, 2. , 2. ],\n       [6.2, 3.4, 5.4, 2.3, 2. ],\n       [5.9, 3. , 5.1, 1.8, 2. ]])"
     },
     "execution_count": 18,
     "metadata": {},
     "output_type": "execute_result"
    }
   ],
   "source": [
    "df_iris['class'] = pd.factorize(df_iris['class'])[0]\n",
    "np_iris = df_iris.to_numpy()\n",
    "n_columns = np_iris.shape[1] # number of columns\n",
    "np_iris"
   ],
   "metadata": {
    "collapsed": false,
    "pycharm": {
     "name": "#%%\n"
    }
   }
  },
  {
   "cell_type": "markdown",
   "source": [
    "<a id='funcy'></a>\n",
    "## Defining a function for euclidian distance\n",
    "${d(p,q) = \\sqrt{ \\sum_{i=1}^{N} (q_i -p_i)^2}}$\n",
    "\n",
    "The function for euclidian distance can be solved in a crude way using a simple for loop.\n",
    "The loop iterates over the features of the dataset while it compares one vector of data `q` to another vector of data `p`"
   ],
   "metadata": {
    "collapsed": false,
    "pycharm": {
     "name": "#%% md\n"
    }
   }
  },
  {
   "cell_type": "code",
   "execution_count": 19,
   "outputs": [],
   "source": [
    "def euclidian_distance(q, p, N):\n",
    "    sum = 0\n",
    "    for i in range(N):\n",
    "        p_float = np.float64(p[i]).item() # convert numpy float to python float\n",
    "        q_float = np.float64(q[i]).item() # convert numpy float to python float\n",
    "        sum += pow(q_float - p_float, 2) # sum every squared comparison\n",
    "    return sqrt(sum) # return square root of sum"
   ],
   "metadata": {
    "collapsed": false,
    "pycharm": {
     "name": "#%%\n"
    }
   }
  },
  {
   "cell_type": "markdown",
   "source": [
    "## Control calculation of distance between two rows\n",
    "By predicting the distance of two first rows manually, we will make sure that the euclidian_distance() method yields the correct output\n",
    "\n"
   ],
   "metadata": {
    "collapsed": false,
    "pycharm": {
     "name": "#%% md\n"
    }
   }
  },
  {
   "cell_type": "code",
   "execution_count": 20,
   "outputs": [
    {
     "name": "stdout",
     "output_type": "stream",
     "text": [
      "Manual calculation of euclidian distance between first two rows: 0.5385164807134502\n"
     ]
    }
   ],
   "source": [
    "manual_first_distance = sqrt(pow(5.1 - 4.9, 2) + pow(3.5 - 3.0, 2) + pow(0, 2) + pow(0, 2))\n",
    "print(\"Manual calculation of euclidian distance between first two rows:\", manual_first_distance)"
   ],
   "metadata": {
    "collapsed": false,
    "pycharm": {
     "name": "#%%\n"
    }
   }
  },
  {
   "cell_type": "markdown",
   "source": [
    "We shall now calculate the euclidian distance between the first two rows using the python function of cell 12 above.\n",
    "The data is extracted directly from the dataset and run through the function."
   ],
   "metadata": {
    "collapsed": false,
    "pycharm": {
     "name": "#%% md\n"
    }
   }
  },
  {
   "cell_type": "code",
   "execution_count": 21,
   "outputs": [
    {
     "name": "stdout",
     "output_type": "stream",
     "text": [
      "First distance calculated with the euclidian_distance() method yields: 0.5385164807134502\n",
      "The results is the same as the manual calculation: True\n"
     ]
    }
   ],
   "source": [
    "row0 = np_iris[0, 0:4]\n",
    "row1 = np_iris[1, 0:4]\n",
    "first_distance = euclidian_distance(row0, row1, n_columns - 1)\n",
    "print(\"First distance calculated with the euclidian_distance() method yields:\", first_distance)\n",
    "print(\"The results is the same as the manual calculation:\", manual_first_distance == first_distance)"
   ],
   "metadata": {
    "collapsed": false,
    "pycharm": {
     "name": "#%%\n"
    }
   }
  },
  {
   "cell_type": "markdown",
   "source": [
    "## Predicting a new value\n",
    "The task at hand is to classify a flower with the features  `[7.0,3.1,1.3,0.7]`\n",
    "In order to do this we iterate over every row in the dataset\n",
    "For every row we find the euclidian distance to that row of features"
   ],
   "metadata": {
    "collapsed": false,
    "pycharm": {
     "name": "#%% md\n"
    }
   }
  },
  {
   "cell_type": "markdown",
   "source": [
    "### Calculating all euclidian distances"
   ],
   "metadata": {
    "collapsed": false,
    "pycharm": {
     "name": "#%% md\n"
    }
   }
  },
  {
   "cell_type": "code",
   "execution_count": 22,
   "outputs": [
    {
     "data": {
      "text/plain": "[[2.0074859899884734, 0.0],\n [2.1633307652783933, 0.0],\n [2.355843797877949, 0.0],\n [2.459674775249769, 0.0],\n [2.12367605815953, 0.0],\n [1.8574175621006705, 0.0],\n [2.4535688292770597, 0.0],\n [2.092844953645635, 0.0],\n [2.657066051117284, 0.0],\n [2.1931712199461306, 0.0],\n [1.7916472867168916, 0.0],\n [2.2956480566497994, 0.0],\n [2.2847319317591728, 0.0],\n [2.7748873851023217, 0.0],\n [1.584297951775486, 0.0],\n [1.8734993995195195, 0.0],\n [1.813835714721705, 0.0],\n [1.984943324127921, 0.0],\n [1.5811388300841893, 0.0],\n [2.0736441353327724, 0.0],\n [1.7492855684535897, 0.0],\n [2.024845673131659, 0.0],\n [2.519920633670831, 0.0],\n [1.9621416870348587, 0.0],\n [2.353720459187964, 0.0],\n [2.085665361461421, 0.0],\n [2.0663978319771825, 0.0],\n [1.9209372712298545, 0.0],\n [1.8947295321496413, 0.0],\n [2.3748684174075834, 0.0],\n [2.2759613353482084, 0.0],\n [1.6673332000533063, 0.0],\n [2.1540659228538015, 0.0],\n [1.928730152198591, 0.0],\n [2.1931712199461306, 0.0],\n [2.0663978319771825, 0.0],\n [1.6309506430300091, 0.0],\n [2.1931712199461306, 0.0],\n [2.6495282598983536, 0.0],\n [1.9974984355438181, 0.0],\n [2.078460969082653, 0.0],\n [2.6551836094703507, 0.0],\n [2.6495282598983536, 0.0],\n [2.0639767440550294, 0.0],\n [2.1330729007701543, 0.0],\n [2.2405356502408083, 0.0],\n [2.1071307505705477, 0.0],\n [2.4556058315617353, 0.0],\n [1.881488772222678, 0.0],\n [2.073644135332772, 0.0],\n [3.472751070837068, 1.0],\n [3.3541019662496847, 1.0],\n [3.689173349139344, 1.0],\n [3.2465366161495854, 1.0],\n [3.4452866353904428, 1.0],\n [3.518522417151836, 1.0],\n [3.5916569992135945, 1.0],\n [2.9983328701129897, 1.0],\n [3.383784863137726, 1.0],\n [3.2634337744161437, 1.0],\n [3.184336665618132, 1.0],\n [3.204684071792413, 1.0],\n [3.031501278244824, 1.0],\n [3.591656999213595, 1.0],\n [2.7658633371878665, 1.0],\n [3.192177939902474, 1.0],\n [3.5846896657869847, 1.0],\n [3.087069808086626, 1.0],\n [3.511409973215888, 1.0],\n [3.0397368307141326, 1.0],\n [3.8314488121336034, 1.0],\n [2.924038303442689, 1.0],\n [3.801315561749643, 1.0],\n [3.5651086939951777, 1.0],\n [3.1240998703626617, 1.0],\n [3.2046840717924137, 1.0],\n [3.5874782229304194, 1.0],\n [3.845776904605882, 1.0],\n [3.452535300326414, 1.0],\n [2.6210684844162313, 1.0],\n [3.024896692450835, 1.0],\n [2.9308701779505695, 1.0],\n [2.9342801502242417, 1.0],\n [4.050925820105819, 1.0],\n [3.66742416417845, 1.0],\n [3.4842502780368694, 1.0],\n [3.5057096285916214, 1.0],\n [3.331666249791537, 1.0],\n [3.189043743820395, 1.0],\n [3.203123475609394, 1.0],\n [3.5156791662493894, 1.0],\n [3.492849839314596, 1.0],\n [3.0380915061926625, 1.0],\n [2.9546573405388314, 1.0],\n [3.3000000000000003, 1.0],\n [3.2186953878862163, 1.0],\n [3.24037034920393, 1.0],\n [3.1685959035509716, 1.0],\n [2.6495282598983545, 1.0],\n [3.1591137997862626, 1.0],\n [5.0852728540364485, 2.0],\n [4.180908992073374, 2.0],\n [4.810405388322278, 2.0],\n [4.497777228809804, 2.0],\n [4.770744176750625, 2.0],\n [5.5154328932550705, 2.0],\n [4.001249804748512, 2.0],\n [5.132250968142536, 2.0],\n [4.6808118953873805, 2.0],\n [5.154609587543949, 2.0],\n [4.0484564959994325, 2.0],\n [4.237924020083418, 2.0],\n [4.4328320518603, 2.0],\n [4.174925149029621, 2.0],\n [4.342810150121693, 2.0],\n [4.350861983561418, 2.0],\n [4.371498598878879, 2.0],\n [5.691221310052879, 2.0],\n [5.887274411814011, 2.0],\n [4.017461885320134, 2.0],\n [4.684015371452148, 2.0],\n [4.086563348340511, 2.0],\n [5.606246516163913, 2.0],\n [3.8496753109840323, 2.0],\n [4.631414470763764, 2.0],\n [4.832183771339828, 2.0],\n [3.7669616403674726, 2.0],\n [3.8716921365211885, 2.0],\n [4.571651780264984, 2.0],\n [4.594562003064057, 2.0],\n [4.972926703662543, 2.0],\n [5.385164807134505, 2.0],\n [4.603259714593562, 2.0],\n [3.9572717874818757, 2.0],\n [4.4766058571198775, 2.0],\n [5.10881590977792, 2.0],\n [4.686149805543993, 2.0],\n [4.382921400162226, 2.0],\n [3.803945320322047, 2.0],\n [4.333589736004091, 2.0],\n [4.633573135281238, 2.0],\n [4.124318125460256, 2.0],\n [4.180908992073374, 2.0],\n [4.8754486972995625, 2.0],\n [4.767598976424087, 2.0],\n [4.22729227756965, 2.0],\n [3.997499218261337, 2.0],\n [4.1424630354415966, 2.0],\n [4.483302354291979, 2.0],\n [4.107310555582569, 2.0]]"
     },
     "execution_count": 22,
     "metadata": {},
     "output_type": "execute_result"
    }
   ],
   "source": [
    "distances = []\n",
    "new_dp = np.array([7.0,3.1,1.3,0.7])\n",
    "\n",
    "for i in range(len(np_iris)):\n",
    "    p_row = np_iris[i,0:4] # extracting the 4 features of the i'th row from the numpy array\n",
    "    label = np_iris[i, 4] # extracting the label from the i'th row of the numpy array\n",
    "    distances.append([euclidian_distance(new_dp, p_row, n_columns - 1), label])  # append distance of i'th row to list of distances\n",
    "distances"
   ],
   "metadata": {
    "collapsed": false,
    "pycharm": {
     "name": "#%%\n"
    }
   }
  },
  {
   "cell_type": "markdown",
   "source": [
    "### Sorting the distances\n",
    "The next step is to sort the euclidian distances from smalles to biggest\n",
    "Since the label is attached to each distance, we will immediately get an idea of the labels that represent the nearest neighbours"
   ],
   "metadata": {
    "collapsed": false,
    "pycharm": {
     "name": "#%% md\n"
    }
   }
  },
  {
   "cell_type": "code",
   "execution_count": 23,
   "outputs": [
    {
     "data": {
      "text/plain": "[[1.5811388300841893, 0.0],\n [1.584297951775486, 0.0],\n [1.6309506430300091, 0.0],\n [1.6673332000533063, 0.0],\n [1.7492855684535897, 0.0],\n [1.7916472867168916, 0.0],\n [1.813835714721705, 0.0],\n [1.8574175621006705, 0.0],\n [1.8734993995195195, 0.0],\n [1.881488772222678, 0.0],\n [1.8947295321496413, 0.0],\n [1.9209372712298545, 0.0],\n [1.928730152198591, 0.0],\n [1.9621416870348587, 0.0],\n [1.984943324127921, 0.0],\n [1.9974984355438181, 0.0],\n [2.0074859899884734, 0.0],\n [2.024845673131659, 0.0],\n [2.0639767440550294, 0.0],\n [2.0663978319771825, 0.0],\n [2.0663978319771825, 0.0],\n [2.073644135332772, 0.0],\n [2.0736441353327724, 0.0],\n [2.078460969082653, 0.0],\n [2.085665361461421, 0.0],\n [2.092844953645635, 0.0],\n [2.1071307505705477, 0.0],\n [2.12367605815953, 0.0],\n [2.1330729007701543, 0.0],\n [2.1540659228538015, 0.0],\n [2.1633307652783933, 0.0],\n [2.1931712199461306, 0.0],\n [2.1931712199461306, 0.0],\n [2.1931712199461306, 0.0],\n [2.2405356502408083, 0.0],\n [2.2759613353482084, 0.0],\n [2.2847319317591728, 0.0],\n [2.2956480566497994, 0.0],\n [2.353720459187964, 0.0],\n [2.355843797877949, 0.0],\n [2.3748684174075834, 0.0],\n [2.4535688292770597, 0.0],\n [2.4556058315617353, 0.0],\n [2.459674775249769, 0.0],\n [2.519920633670831, 0.0],\n [2.6210684844162313, 1.0],\n [2.6495282598983536, 0.0],\n [2.6495282598983536, 0.0],\n [2.6495282598983545, 1.0],\n [2.6551836094703507, 0.0],\n [2.657066051117284, 0.0],\n [2.7658633371878665, 1.0],\n [2.7748873851023217, 0.0],\n [2.924038303442689, 1.0],\n [2.9308701779505695, 1.0],\n [2.9342801502242417, 1.0],\n [2.9546573405388314, 1.0],\n [2.9983328701129897, 1.0],\n [3.024896692450835, 1.0],\n [3.031501278244824, 1.0],\n [3.0380915061926625, 1.0],\n [3.0397368307141326, 1.0],\n [3.087069808086626, 1.0],\n [3.1240998703626617, 1.0],\n [3.1591137997862626, 1.0],\n [3.1685959035509716, 1.0],\n [3.184336665618132, 1.0],\n [3.189043743820395, 1.0],\n [3.192177939902474, 1.0],\n [3.203123475609394, 1.0],\n [3.204684071792413, 1.0],\n [3.2046840717924137, 1.0],\n [3.2186953878862163, 1.0],\n [3.24037034920393, 1.0],\n [3.2465366161495854, 1.0],\n [3.2634337744161437, 1.0],\n [3.3000000000000003, 1.0],\n [3.331666249791537, 1.0],\n [3.3541019662496847, 1.0],\n [3.383784863137726, 1.0],\n [3.4452866353904428, 1.0],\n [3.452535300326414, 1.0],\n [3.472751070837068, 1.0],\n [3.4842502780368694, 1.0],\n [3.492849839314596, 1.0],\n [3.5057096285916214, 1.0],\n [3.511409973215888, 1.0],\n [3.5156791662493894, 1.0],\n [3.518522417151836, 1.0],\n [3.5651086939951777, 1.0],\n [3.5846896657869847, 1.0],\n [3.5874782229304194, 1.0],\n [3.5916569992135945, 1.0],\n [3.591656999213595, 1.0],\n [3.66742416417845, 1.0],\n [3.689173349139344, 1.0],\n [3.7669616403674726, 2.0],\n [3.801315561749643, 1.0],\n [3.803945320322047, 2.0],\n [3.8314488121336034, 1.0],\n [3.845776904605882, 1.0],\n [3.8496753109840323, 2.0],\n [3.8716921365211885, 2.0],\n [3.9572717874818757, 2.0],\n [3.997499218261337, 2.0],\n [4.001249804748512, 2.0],\n [4.017461885320134, 2.0],\n [4.0484564959994325, 2.0],\n [4.050925820105819, 1.0],\n [4.086563348340511, 2.0],\n [4.107310555582569, 2.0],\n [4.124318125460256, 2.0],\n [4.1424630354415966, 2.0],\n [4.174925149029621, 2.0],\n [4.180908992073374, 2.0],\n [4.180908992073374, 2.0],\n [4.22729227756965, 2.0],\n [4.237924020083418, 2.0],\n [4.333589736004091, 2.0],\n [4.342810150121693, 2.0],\n [4.350861983561418, 2.0],\n [4.371498598878879, 2.0],\n [4.382921400162226, 2.0],\n [4.4328320518603, 2.0],\n [4.4766058571198775, 2.0],\n [4.483302354291979, 2.0],\n [4.497777228809804, 2.0],\n [4.571651780264984, 2.0],\n [4.594562003064057, 2.0],\n [4.603259714593562, 2.0],\n [4.631414470763764, 2.0],\n [4.633573135281238, 2.0],\n [4.6808118953873805, 2.0],\n [4.684015371452148, 2.0],\n [4.686149805543993, 2.0],\n [4.767598976424087, 2.0],\n [4.770744176750625, 2.0],\n [4.810405388322278, 2.0],\n [4.832183771339828, 2.0],\n [4.8754486972995625, 2.0],\n [4.972926703662543, 2.0],\n [5.0852728540364485, 2.0],\n [5.10881590977792, 2.0],\n [5.132250968142536, 2.0],\n [5.154609587543949, 2.0],\n [5.385164807134505, 2.0],\n [5.5154328932550705, 2.0],\n [5.606246516163913, 2.0],\n [5.691221310052879, 2.0],\n [5.887274411814011, 2.0]]"
     },
     "execution_count": 23,
     "metadata": {},
     "output_type": "execute_result"
    }
   ],
   "source": [
    "distances = sorted(distances)\n",
    "distances"
   ],
   "metadata": {
    "collapsed": false,
    "pycharm": {
     "name": "#%%\n"
    }
   }
  },
  {
   "cell_type": "markdown",
   "source": [
    "\n",
    "### Choosing a k value\n",
    "We will now definine the K value as an integer.\n",
    "K defines how many of the closest neighbours we will inspect in order to classify the new flower.\n",
    "Choosing a low value for k means that noise can interfere with the classification, but choosing a high value is computationally expensive.\n",
    "After searching articles and forums on the web I discovered that there is a kind of rule of thumb for choosing k value.\n",
    "The rule of thumb is simply to use k values equal to square root of the length of the dataset you are using for comparisons.\n",
    "This is the reason for my choice of k which then turned out to be 12."
   ],
   "metadata": {
    "collapsed": false,
    "pycharm": {
     "name": "#%% md\n"
    }
   }
  },
  {
   "cell_type": "code",
   "execution_count": 24,
   "outputs": [
    {
     "data": {
      "text/plain": "12"
     },
     "execution_count": 24,
     "metadata": {},
     "output_type": "execute_result"
    }
   ],
   "source": [
    "k = floor(sqrt(len(np_iris)))\n",
    "k"
   ],
   "metadata": {
    "collapsed": false,
    "pycharm": {
     "name": "#%%\n"
    }
   }
  },
  {
   "cell_type": "markdown",
   "source": [
    "### Extracting K nearest neighbours\n",
    "The following code slices the list to get the k nearest neighbours\n",
    "It then extracts the labesl off of these."
   ],
   "metadata": {
    "collapsed": false,
    "pycharm": {
     "name": "#%% md\n"
    }
   }
  },
  {
   "cell_type": "code",
   "execution_count": 25,
   "outputs": [
    {
     "data": {
      "text/plain": "[0.0, 0.0, 0.0, 0.0, 0.0, 0.0, 0.0, 0.0, 0.0, 0.0, 0.0, 0.0]"
     },
     "execution_count": 25,
     "metadata": {},
     "output_type": "execute_result"
    }
   ],
   "source": [
    "k_nearest_neighbours = distances[0:k]\n",
    "k_nearest_labels = []\n",
    "for i in range(k):\n",
    "    k_nearest_labels.append(k_nearest_neighbours[i][1])\n",
    "k_nearest_labels"
   ],
   "metadata": {
    "collapsed": false,
    "pycharm": {
     "name": "#%%\n"
    }
   }
  },
  {
   "cell_type": "markdown",
   "source": [
    "### Defining a function for counting instances\n",
    "In order to decide which class to classify the new flowers as, we will use a function that counts the most frequent elements of a list"
   ],
   "metadata": {
    "collapsed": false,
    "pycharm": {
     "name": "#%% md\n"
    }
   }
  },
  {
   "cell_type": "code",
   "execution_count": 26,
   "outputs": [],
   "source": [
    "from collections import Counter\n",
    "\n",
    "def most_frequent(List):\n",
    "    occurence_count = Counter(List)\n",
    "    print(occurence_count)\n",
    "    return occurence_count.most_common(1)[0][0]"
   ],
   "metadata": {
    "collapsed": false,
    "pycharm": {
     "name": "#%%\n"
    }
   }
  },
  {
   "cell_type": "markdown",
   "source": [
    "### Predicting the class of the new flower\n",
    "By using the most_frequent() function we will end up with a final prediction of classification for the new flower"
   ],
   "metadata": {
    "collapsed": false,
    "pycharm": {
     "name": "#%% md\n"
    }
   }
  },
  {
   "cell_type": "code",
   "execution_count": 27,
   "outputs": [
    {
     "name": "stdout",
     "output_type": "stream",
     "text": [
      "Counter({0.0: 12})\n",
      "prediction is for label:  0.0\n"
     ]
    }
   ],
   "source": [
    "pred = most_frequent(k_nearest_labels)\n",
    "print(\"prediction is for label: \", pred)"
   ],
   "metadata": {
    "collapsed": false,
    "pycharm": {
     "name": "#%%\n"
    }
   }
  },
  {
   "cell_type": "markdown",
   "source": [
    "**The flower with registered features `[7.0,3.1,1.3,0.7]` is predicted to be of class 0, which corresponds to Iris-Setosa**"
   ],
   "metadata": {
    "collapsed": false,
    "pycharm": {
     "name": "#%% md\n"
    }
   }
  },
  {
   "cell_type": "markdown",
   "source": [
    "## Conclusion\n",
    "The results predicted 0 as the class, and looking at the sorted data it comes at no surprise as at a glance about 20 of the nearest neighbours are all 0. However, for a more difficult dataset the sorted outcome would probably be less obvious.\n",
    "\n",
    "Another note is on the computational expense which is a bit greater than necessary due to this being a jupyter notebook file and also due to printing out and inspecting all values at every step. The main idea is nevertheless presented and I feel like I have got a good first insight into the use of KNN in practice."
   ],
   "metadata": {
    "collapsed": false,
    "pycharm": {
     "name": "#%% md\n"
    }
   }
  }
 ],
 "metadata": {
  "kernelspec": {
   "display_name": "Python 3",
   "language": "python",
   "name": "python3"
  },
  "language_info": {
   "codemirror_mode": {
    "name": "ipython",
    "version": 2
   },
   "file_extension": ".py",
   "mimetype": "text/x-python",
   "name": "python",
   "nbconvert_exporter": "python",
   "pygments_lexer": "ipython2",
   "version": "2.7.6"
  }
 },
 "nbformat": 4,
 "nbformat_minor": 0
}