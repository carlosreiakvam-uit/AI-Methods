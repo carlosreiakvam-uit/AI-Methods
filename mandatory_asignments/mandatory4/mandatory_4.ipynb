{
 "cells": [
  {
   "cell_type": "code",
   "execution_count": 23,
   "metadata": {
    "collapsed": true,
    "pycharm": {
     "name": "#%%\n"
    }
   },
   "outputs": [],
   "source": [
    "import pandas as pd\n",
    "import os"
   ]
  },
  {
   "cell_type": "code",
   "execution_count": 24,
   "outputs": [],
   "source": [
    "# checks if file is relevant for dataset\n",
    "def is_relevant_file(name, root):\n",
    "    return name[-3:] == 'txt' and root[-3:] == 'pos' or root[-3:] == 'neg'\n",
    "\n",
    "# returns the dataset type for a given root\n",
    "def get_dataset_type(root):\n",
    "    if 'test' in root:\n",
    "        return 'test'\n",
    "    elif 'train' in root:\n",
    "        return 'train'\n",
    "    else:\n",
    "        print(\"na\")"
   ],
   "metadata": {
    "collapsed": false,
    "pycharm": {
     "name": "#%%\n"
    }
   }
  },
  {
   "cell_type": "code",
   "execution_count": 25,
   "outputs": [],
   "source": [
    "data = []\n",
    "path = 'aclImdb' # insert correct path for folder aclImdb"
   ],
   "metadata": {
    "collapsed": false,
    "pycharm": {
     "name": "#%%\n"
    }
   }
  },
  {
   "cell_type": "code",
   "execution_count": 26,
   "outputs": [],
   "source": [
    "for root, dirs, files in os.walk(path):\n",
    "    for i,name in enumerate(files):\n",
    "        row = {'name': None, 'text': None, 'dataset': None, 'label': None}\n",
    "        if is_relevant_file(name, root):\n",
    "            with open(os.path.join(root, name), encoding='utf8') as f:\n",
    "                row['name'] = name\n",
    "                row['text'] = f.read()\n",
    "                row['dataset'] = get_dataset_type(root)\n",
    "                row['label'] = root[-3:]\n",
    "                data.append(row)"
   ],
   "metadata": {
    "collapsed": false,
    "pycharm": {
     "name": "#%%\n"
    }
   }
  },
  {
   "cell_type": "code",
   "execution_count": 27,
   "outputs": [
    {
     "data": {
      "text/plain": "              name                                               text dataset  \\\n0          0_2.txt  Once again Mr. Costner has dragged out a movie...    test   \n1      10000_4.txt  This is an example of why the majority of acti...    test   \n2      10001_1.txt  First of all I hate those moronic rappers, who...    test   \n3      10002_3.txt  Not even the Beatles could write songs everyon...    test   \n4      10003_3.txt  Brass pictures (movies is not a fitting word f...    test   \n...            ...                                                ...     ...   \n49995   9998_9.txt  Seeing as the vote average was pretty low, and...   train   \n49996   9999_8.txt  The plot had some wretched, unbelievable twist...   train   \n49997   999_10.txt  I am amazed at how this movie(and most others ...   train   \n49998     99_8.txt  A Christmas Together actually came before my t...   train   \n49999      9_7.txt  Working-class romantic drama from director Mar...   train   \n\n      label  \n0       neg  \n1       neg  \n2       neg  \n3       neg  \n4       neg  \n...     ...  \n49995   pos  \n49996   pos  \n49997   pos  \n49998   pos  \n49999   pos  \n\n[50000 rows x 4 columns]",
      "text/html": "<div>\n<style scoped>\n    .dataframe tbody tr th:only-of-type {\n        vertical-align: middle;\n    }\n\n    .dataframe tbody tr th {\n        vertical-align: top;\n    }\n\n    .dataframe thead th {\n        text-align: right;\n    }\n</style>\n<table border=\"1\" class=\"dataframe\">\n  <thead>\n    <tr style=\"text-align: right;\">\n      <th></th>\n      <th>name</th>\n      <th>text</th>\n      <th>dataset</th>\n      <th>label</th>\n    </tr>\n  </thead>\n  <tbody>\n    <tr>\n      <th>0</th>\n      <td>0_2.txt</td>\n      <td>Once again Mr. Costner has dragged out a movie...</td>\n      <td>test</td>\n      <td>neg</td>\n    </tr>\n    <tr>\n      <th>1</th>\n      <td>10000_4.txt</td>\n      <td>This is an example of why the majority of acti...</td>\n      <td>test</td>\n      <td>neg</td>\n    </tr>\n    <tr>\n      <th>2</th>\n      <td>10001_1.txt</td>\n      <td>First of all I hate those moronic rappers, who...</td>\n      <td>test</td>\n      <td>neg</td>\n    </tr>\n    <tr>\n      <th>3</th>\n      <td>10002_3.txt</td>\n      <td>Not even the Beatles could write songs everyon...</td>\n      <td>test</td>\n      <td>neg</td>\n    </tr>\n    <tr>\n      <th>4</th>\n      <td>10003_3.txt</td>\n      <td>Brass pictures (movies is not a fitting word f...</td>\n      <td>test</td>\n      <td>neg</td>\n    </tr>\n    <tr>\n      <th>...</th>\n      <td>...</td>\n      <td>...</td>\n      <td>...</td>\n      <td>...</td>\n    </tr>\n    <tr>\n      <th>49995</th>\n      <td>9998_9.txt</td>\n      <td>Seeing as the vote average was pretty low, and...</td>\n      <td>train</td>\n      <td>pos</td>\n    </tr>\n    <tr>\n      <th>49996</th>\n      <td>9999_8.txt</td>\n      <td>The plot had some wretched, unbelievable twist...</td>\n      <td>train</td>\n      <td>pos</td>\n    </tr>\n    <tr>\n      <th>49997</th>\n      <td>999_10.txt</td>\n      <td>I am amazed at how this movie(and most others ...</td>\n      <td>train</td>\n      <td>pos</td>\n    </tr>\n    <tr>\n      <th>49998</th>\n      <td>99_8.txt</td>\n      <td>A Christmas Together actually came before my t...</td>\n      <td>train</td>\n      <td>pos</td>\n    </tr>\n    <tr>\n      <th>49999</th>\n      <td>9_7.txt</td>\n      <td>Working-class romantic drama from director Mar...</td>\n      <td>train</td>\n      <td>pos</td>\n    </tr>\n  </tbody>\n</table>\n<p>50000 rows × 4 columns</p>\n</div>"
     },
     "execution_count": 27,
     "metadata": {},
     "output_type": "execute_result"
    }
   ],
   "source": [
    "df = pd.DataFrame.from_records(data)\n",
    "df"
   ],
   "metadata": {
    "collapsed": false,
    "pycharm": {
     "name": "#%%\n"
    }
   }
  },
  {
   "cell_type": "code",
   "execution_count": 34,
   "outputs": [],
   "source": [
    "# save to csv file :)\n",
    "df.to_csv('dataset.csv', encoding='utf8')"
   ],
   "metadata": {
    "collapsed": false,
    "pycharm": {
     "name": "#%%\n"
    }
   }
  }
 ],
 "metadata": {
  "kernelspec": {
   "display_name": "Python 3",
   "language": "python",
   "name": "python3"
  },
  "language_info": {
   "codemirror_mode": {
    "name": "ipython",
    "version": 2
   },
   "file_extension": ".py",
   "mimetype": "text/x-python",
   "name": "python",
   "nbconvert_exporter": "python",
   "pygments_lexer": "ipython2",
   "version": "2.7.6"
  }
 },
 "nbformat": 4,
 "nbformat_minor": 0
}