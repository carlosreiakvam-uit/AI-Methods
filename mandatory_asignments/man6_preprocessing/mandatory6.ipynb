{
 "cells": [
  {
   "cell_type": "code",
   "execution_count": 1,
   "outputs": [],
   "source": [
    "import numpy as np\n",
    "import pandas as pd"
   ],
   "metadata": {
    "collapsed": false,
    "pycharm": {
     "name": "#%%\n"
    }
   }
  },
  {
   "cell_type": "markdown",
   "source": [
    "## Setting up and preprocessing data"
   ],
   "metadata": {
    "collapsed": false,
    "pycharm": {
     "name": "#%% md\n"
    }
   }
  },
  {
   "cell_type": "code",
   "execution_count": 2,
   "outputs": [
    {
     "data": {
      "text/plain": "    Vikings  Breaking Bad  The Sopranos  Westworld  Game of Thrones  \\\nu1      5.0           5.0           NaN        3.0              4.0   \nu2      4.0           3.0           3.0        4.0              5.0   \nu3      1.0           3.0           3.0        2.0              2.0   \nu4      NaN           3.0           NaN        NaN              NaN   \nu5      3.0           4.0           NaN        4.0              5.0   \nu6      4.0           5.0           2.0        5.0              3.0   \nu7      1.0           1.0           NaN        NaN              2.0   \n\n    The Witcher  Skam  Les bureau  \nu1          NaN   NaN         NaN  \nu2          2.0   3.0         3.0  \nu3          3.0   4.0         1.0  \nu4          5.0   NaN         NaN  \nu5          5.0   1.0         NaN  \nu6          2.0   2.0         3.0  \nu7          1.0   NaN         NaN  ",
      "text/html": "<div>\n<style scoped>\n    .dataframe tbody tr th:only-of-type {\n        vertical-align: middle;\n    }\n\n    .dataframe tbody tr th {\n        vertical-align: top;\n    }\n\n    .dataframe thead th {\n        text-align: right;\n    }\n</style>\n<table border=\"1\" class=\"dataframe\">\n  <thead>\n    <tr style=\"text-align: right;\">\n      <th></th>\n      <th>Vikings</th>\n      <th>Breaking Bad</th>\n      <th>The Sopranos</th>\n      <th>Westworld</th>\n      <th>Game of Thrones</th>\n      <th>The Witcher</th>\n      <th>Skam</th>\n      <th>Les bureau</th>\n    </tr>\n  </thead>\n  <tbody>\n    <tr>\n      <th>u1</th>\n      <td>5.0</td>\n      <td>5.0</td>\n      <td>NaN</td>\n      <td>3.0</td>\n      <td>4.0</td>\n      <td>NaN</td>\n      <td>NaN</td>\n      <td>NaN</td>\n    </tr>\n    <tr>\n      <th>u2</th>\n      <td>4.0</td>\n      <td>3.0</td>\n      <td>3.0</td>\n      <td>4.0</td>\n      <td>5.0</td>\n      <td>2.0</td>\n      <td>3.0</td>\n      <td>3.0</td>\n    </tr>\n    <tr>\n      <th>u3</th>\n      <td>1.0</td>\n      <td>3.0</td>\n      <td>3.0</td>\n      <td>2.0</td>\n      <td>2.0</td>\n      <td>3.0</td>\n      <td>4.0</td>\n      <td>1.0</td>\n    </tr>\n    <tr>\n      <th>u4</th>\n      <td>NaN</td>\n      <td>3.0</td>\n      <td>NaN</td>\n      <td>NaN</td>\n      <td>NaN</td>\n      <td>5.0</td>\n      <td>NaN</td>\n      <td>NaN</td>\n    </tr>\n    <tr>\n      <th>u5</th>\n      <td>3.0</td>\n      <td>4.0</td>\n      <td>NaN</td>\n      <td>4.0</td>\n      <td>5.0</td>\n      <td>5.0</td>\n      <td>1.0</td>\n      <td>NaN</td>\n    </tr>\n    <tr>\n      <th>u6</th>\n      <td>4.0</td>\n      <td>5.0</td>\n      <td>2.0</td>\n      <td>5.0</td>\n      <td>3.0</td>\n      <td>2.0</td>\n      <td>2.0</td>\n      <td>3.0</td>\n    </tr>\n    <tr>\n      <th>u7</th>\n      <td>1.0</td>\n      <td>1.0</td>\n      <td>NaN</td>\n      <td>NaN</td>\n      <td>2.0</td>\n      <td>1.0</td>\n      <td>NaN</td>\n      <td>NaN</td>\n    </tr>\n  </tbody>\n</table>\n</div>"
     },
     "execution_count": 2,
     "metadata": {},
     "output_type": "execute_result"
    }
   ],
   "source": [
    "n = np.NaN  # setting non scores to np.Nan for better integration with numpy\n",
    "rows_users_ = ['u1', 'u2', 'u3', 'u4', 'u5', 'u6', 'u7']\n",
    "columns_series = ['Vikings', 'Breaking Bad', 'The Sopranos', 'Westworld',\n",
    "                  'Game of Thrones', 'The Witcher', 'Skam', 'Les bureau']\n",
    "all_users = np.array([\n",
    "    [5,5,n,3,4,n,n,n],\n",
    "    [4,3,3,4,5,2,3,3],\n",
    "    [1,3,3,2,2,3,4,1],\n",
    "    [n,3,n,n,n,5,n,n],\n",
    "    [3,4,n,4,5,5,1,n],\n",
    "    [4,5,2,5,3,2,2,3],\n",
    "    [1,1,n,n,2,1,n,n],\n",
    "])\n",
    "df = pd.DataFrame(all_users, columns=columns_series, index=rows_users_)\n",
    "df"
   ],
   "metadata": {
    "collapsed": false,
    "pycharm": {
     "name": "#%%\n"
    }
   }
  },
  {
   "cell_type": "code",
   "execution_count": 3,
   "outputs": [
    {
     "data": {
      "text/plain": "       means\nu1  4.250000\nu2  3.375000\nu3  2.375000\nu4  4.000000\nu5  3.666667\nu6  3.250000\nu7  1.250000",
      "text/html": "<div>\n<style scoped>\n    .dataframe tbody tr th:only-of-type {\n        vertical-align: middle;\n    }\n\n    .dataframe tbody tr th {\n        vertical-align: top;\n    }\n\n    .dataframe thead th {\n        text-align: right;\n    }\n</style>\n<table border=\"1\" class=\"dataframe\">\n  <thead>\n    <tr style=\"text-align: right;\">\n      <th></th>\n      <th>means</th>\n    </tr>\n  </thead>\n  <tbody>\n    <tr>\n      <th>u1</th>\n      <td>4.250000</td>\n    </tr>\n    <tr>\n      <th>u2</th>\n      <td>3.375000</td>\n    </tr>\n    <tr>\n      <th>u3</th>\n      <td>2.375000</td>\n    </tr>\n    <tr>\n      <th>u4</th>\n      <td>4.000000</td>\n    </tr>\n    <tr>\n      <th>u5</th>\n      <td>3.666667</td>\n    </tr>\n    <tr>\n      <th>u6</th>\n      <td>3.250000</td>\n    </tr>\n    <tr>\n      <th>u7</th>\n      <td>1.250000</td>\n    </tr>\n  </tbody>\n</table>\n</div>"
     },
     "execution_count": 3,
     "metadata": {},
     "output_type": "execute_result"
    }
   ],
   "source": [
    "# calculating means for all users\n",
    "users_mean = np.nanmean(all_users, axis=1)\n",
    "df = pd.DataFrame(users_mean, index=rows_users_, columns=['means'])\n",
    "df"
   ],
   "metadata": {
    "collapsed": false,
    "pycharm": {
     "name": "#%%\n"
    }
   }
  },
  {
   "cell_type": "code",
   "execution_count": 4,
   "outputs": [
    {
     "data": {
      "text/plain": "     Vikings  Breaking Bad  The Sopranos  Westworld  Game of Thrones  \\\nu1  0.750000      0.750000           NaN  -1.250000        -0.250000   \nu2  0.625000     -0.375000        -0.375   0.625000         1.625000   \nu3 -1.375000      0.625000         0.625  -0.375000        -0.375000   \nu4       NaN     -1.000000           NaN        NaN              NaN   \nu5 -0.666667      0.333333           NaN   0.333333         1.333333   \nu6  0.750000      1.750000        -1.250   1.750000        -0.250000   \nu7 -0.250000     -0.250000           NaN        NaN         0.750000   \n\n    The Witcher      Skam  Les bureau  \nu1          NaN       NaN         NaN  \nu2    -1.375000 -0.375000      -0.375  \nu3     0.625000  1.625000      -1.375  \nu4     1.000000       NaN         NaN  \nu5     1.333333 -2.666667         NaN  \nu6    -1.250000 -1.250000      -0.250  \nu7    -0.250000       NaN         NaN  ",
      "text/html": "<div>\n<style scoped>\n    .dataframe tbody tr th:only-of-type {\n        vertical-align: middle;\n    }\n\n    .dataframe tbody tr th {\n        vertical-align: top;\n    }\n\n    .dataframe thead th {\n        text-align: right;\n    }\n</style>\n<table border=\"1\" class=\"dataframe\">\n  <thead>\n    <tr style=\"text-align: right;\">\n      <th></th>\n      <th>Vikings</th>\n      <th>Breaking Bad</th>\n      <th>The Sopranos</th>\n      <th>Westworld</th>\n      <th>Game of Thrones</th>\n      <th>The Witcher</th>\n      <th>Skam</th>\n      <th>Les bureau</th>\n    </tr>\n  </thead>\n  <tbody>\n    <tr>\n      <th>u1</th>\n      <td>0.750000</td>\n      <td>0.750000</td>\n      <td>NaN</td>\n      <td>-1.250000</td>\n      <td>-0.250000</td>\n      <td>NaN</td>\n      <td>NaN</td>\n      <td>NaN</td>\n    </tr>\n    <tr>\n      <th>u2</th>\n      <td>0.625000</td>\n      <td>-0.375000</td>\n      <td>-0.375</td>\n      <td>0.625000</td>\n      <td>1.625000</td>\n      <td>-1.375000</td>\n      <td>-0.375000</td>\n      <td>-0.375</td>\n    </tr>\n    <tr>\n      <th>u3</th>\n      <td>-1.375000</td>\n      <td>0.625000</td>\n      <td>0.625</td>\n      <td>-0.375000</td>\n      <td>-0.375000</td>\n      <td>0.625000</td>\n      <td>1.625000</td>\n      <td>-1.375</td>\n    </tr>\n    <tr>\n      <th>u4</th>\n      <td>NaN</td>\n      <td>-1.000000</td>\n      <td>NaN</td>\n      <td>NaN</td>\n      <td>NaN</td>\n      <td>1.000000</td>\n      <td>NaN</td>\n      <td>NaN</td>\n    </tr>\n    <tr>\n      <th>u5</th>\n      <td>-0.666667</td>\n      <td>0.333333</td>\n      <td>NaN</td>\n      <td>0.333333</td>\n      <td>1.333333</td>\n      <td>1.333333</td>\n      <td>-2.666667</td>\n      <td>NaN</td>\n    </tr>\n    <tr>\n      <th>u6</th>\n      <td>0.750000</td>\n      <td>1.750000</td>\n      <td>-1.250</td>\n      <td>1.750000</td>\n      <td>-0.250000</td>\n      <td>-1.250000</td>\n      <td>-1.250000</td>\n      <td>-0.250</td>\n    </tr>\n    <tr>\n      <th>u7</th>\n      <td>-0.250000</td>\n      <td>-0.250000</td>\n      <td>NaN</td>\n      <td>NaN</td>\n      <td>0.750000</td>\n      <td>-0.250000</td>\n      <td>NaN</td>\n      <td>NaN</td>\n    </tr>\n  </tbody>\n</table>\n</div>"
     },
     "execution_count": 4,
     "metadata": {},
     "output_type": "execute_result"
    }
   ],
   "source": [
    "# calculating variance for all users\n",
    "all_users_variance = np.empty(all_users.shape)\n",
    "for i, user_scores in enumerate(all_users):\n",
    "    all_users_variance[i] = user_scores - users_mean[i]\n",
    "df = pd.DataFrame(all_users_variance, columns=columns_series, index=rows_users_)\n",
    "df"
   ],
   "metadata": {
    "collapsed": false,
    "pycharm": {
     "name": "#%%\n"
    }
   }
  },
  {
   "cell_type": "markdown",
   "source": [
    "## Initializing active user"
   ],
   "metadata": {
    "collapsed": false,
    "pycharm": {
     "name": "#%% md\n"
    }
   }
  },
  {
   "cell_type": "code",
   "execution_count": 5,
   "outputs": [],
   "source": [
    "active_user = np.array([3, 2, 3, np.NaN, 4, 1, np.NaN, 5])\n",
    "active_user_mean = np.nanmean(active_user)"
   ],
   "metadata": {
    "collapsed": false,
    "pycharm": {
     "name": "#%%\n"
    }
   }
  },
  {
   "cell_type": "code",
   "execution_count": 6,
   "outputs": [
    {
     "data": {
      "text/plain": "     0    1    2   3    4    5   6    7\n0  0.0 -1.0  0.0 NaN  1.0 -2.0 NaN  2.0",
      "text/html": "<div>\n<style scoped>\n    .dataframe tbody tr th:only-of-type {\n        vertical-align: middle;\n    }\n\n    .dataframe tbody tr th {\n        vertical-align: top;\n    }\n\n    .dataframe thead th {\n        text-align: right;\n    }\n</style>\n<table border=\"1\" class=\"dataframe\">\n  <thead>\n    <tr style=\"text-align: right;\">\n      <th></th>\n      <th>0</th>\n      <th>1</th>\n      <th>2</th>\n      <th>3</th>\n      <th>4</th>\n      <th>5</th>\n      <th>6</th>\n      <th>7</th>\n    </tr>\n  </thead>\n  <tbody>\n    <tr>\n      <th>0</th>\n      <td>0.0</td>\n      <td>-1.0</td>\n      <td>0.0</td>\n      <td>NaN</td>\n      <td>1.0</td>\n      <td>-2.0</td>\n      <td>NaN</td>\n      <td>2.0</td>\n    </tr>\n  </tbody>\n</table>\n</div>"
     },
     "execution_count": 6,
     "metadata": {},
     "output_type": "execute_result"
    }
   ],
   "source": [
    "# calculating variance for active user\n",
    "active_users_variance = np.empty((1, 8))\n",
    "for i, score in enumerate(active_user):\n",
    "    active_users_variance[0, i] = score - active_user_mean\n",
    "df = pd.DataFrame(active_users_variance)\n",
    "df"
   ],
   "metadata": {
    "collapsed": false,
    "pycharm": {
     "name": "#%%\n"
    }
   }
  },
  {
   "cell_type": "markdown",
   "source": [
    "# Estimating new scores for active user\n",
    "- Estimate the score this person is likely to give Westworld and Skam\n",
    "- Solve the problem using Python and the corrcoef-function from Numpy"
   ],
   "metadata": {
    "collapsed": false,
    "pycharm": {
     "name": "#%% md\n"
    }
   }
  },
  {
   "cell_type": "code",
   "execution_count": 7,
   "outputs": [
    {
     "data": {
      "text/plain": "              0\n0 -8.660254e-01\n1  5.477226e-01\n2 -7.191950e-01\n3 -1.000000e+00\n4 -1.348400e-01\n5  1.343055e-17\n6  7.745967e-01",
      "text/html": "<div>\n<style scoped>\n    .dataframe tbody tr th:only-of-type {\n        vertical-align: middle;\n    }\n\n    .dataframe tbody tr th {\n        vertical-align: top;\n    }\n\n    .dataframe thead th {\n        text-align: right;\n    }\n</style>\n<table border=\"1\" class=\"dataframe\">\n  <thead>\n    <tr style=\"text-align: right;\">\n      <th></th>\n      <th>0</th>\n    </tr>\n  </thead>\n  <tbody>\n    <tr>\n      <th>0</th>\n      <td>-8.660254e-01</td>\n    </tr>\n    <tr>\n      <th>1</th>\n      <td>5.477226e-01</td>\n    </tr>\n    <tr>\n      <th>2</th>\n      <td>-7.191950e-01</td>\n    </tr>\n    <tr>\n      <th>3</th>\n      <td>-1.000000e+00</td>\n    </tr>\n    <tr>\n      <th>4</th>\n      <td>-1.348400e-01</td>\n    </tr>\n    <tr>\n      <th>5</th>\n      <td>1.343055e-17</td>\n    </tr>\n    <tr>\n      <th>6</th>\n      <td>7.745967e-01</td>\n    </tr>\n  </tbody>\n</table>\n</div>"
     },
     "execution_count": 7,
     "metadata": {},
     "output_type": "execute_result"
    }
   ],
   "source": [
    "# calculating correlations between active user and all users\n",
    "correlations = []\n",
    "for other_users_variance in all_users_variance:\n",
    "    temp_active = []\n",
    "    temp_other = []\n",
    "    for i in range(len(active_users_variance[0])):\n",
    "        if not np.isnan(active_users_variance[0, i]) and not np.isnan(other_users_variance[i]):\n",
    "            temp_active.append(active_users_variance[0, i])\n",
    "            temp_other.append(other_users_variance[i])\n",
    "    correlations_matrix = np.corrcoef(np.array(temp_active), np.array(temp_other))\n",
    "    correlation = correlations_matrix[0][1]\n",
    "    correlations.append(correlation)\n",
    "df = pd.DataFrame(correlations)\n",
    "df"
   ],
   "metadata": {
    "collapsed": false,
    "pycharm": {
     "name": "#%%\n"
    }
   }
  },
  {
   "cell_type": "code",
   "execution_count": 8,
   "outputs": [],
   "source": [
    "# function for estimating score of series for active user\n",
    "def estimate_score(kappa, average_vote_a, product_index):\n",
    "    sum_correlation_variance = 0\n",
    "    j = product_index  # index of product we want to predict the vote for\n",
    "    for i in range(len(all_users_variance)):\n",
    "        if not np.isnan(all_users_variance[i][j]):\n",
    "            print(all_users_variance[i][j],'\\t\\t\\t\\t', correlations[i])\n",
    "            sum_correlation_variance += all_users_variance[i][j] * correlations[i]\n",
    "    p_a_j = average_vote_a + kappa * sum_correlation_variance\n",
    "    return round(p_a_j,2)"
   ],
   "metadata": {
    "collapsed": false,
    "pycharm": {
     "name": "#%%\n"
    }
   }
  },
  {
   "cell_type": "code",
   "execution_count": 9,
   "outputs": [
    {
     "name": "stdout",
     "output_type": "stream",
     "text": [
      "-1.25 \t\t\t\t -0.8660254037844385\n",
      "0.625 \t\t\t\t 0.5477225575051661\n",
      "-0.375 \t\t\t\t -0.7191949522280761\n",
      "0.3333333333333335 \t\t\t\t -0.1348399724926484\n",
      "1.75 \t\t\t\t 1.3430553978047352e-17\n",
      "Active users estimated score for westworld: 4.65\n"
     ]
    }
   ],
   "source": [
    "westworld = 3\n",
    "est_west = estimate_score(1,active_user_mean,westworld)\n",
    "print('Active users estimated score for westworld:', est_west)"
   ],
   "metadata": {
    "collapsed": false,
    "pycharm": {
     "name": "#%%\n"
    }
   }
  },
  {
   "cell_type": "code",
   "execution_count": 10,
   "outputs": [
    {
     "name": "stdout",
     "output_type": "stream",
     "text": [
      "-0.375 \t\t\t\t 0.5477225575051661\n",
      "1.625 \t\t\t\t -0.7191949522280761\n",
      "-2.6666666666666665 \t\t\t\t -0.1348399724926484\n",
      "-1.25 \t\t\t\t 1.3430553978047352e-17\n",
      "Active users estimated score for skam: 1.99\n"
     ]
    }
   ],
   "source": [
    "skam = 6\n",
    "est_skam = estimate_score(1,active_user_mean,skam)\n",
    "print('Active users estimated score for skam:', est_skam)"
   ],
   "metadata": {
    "collapsed": false,
    "pycharm": {
     "name": "#%%\n"
    }
   }
  },
  {
   "cell_type": "code",
   "execution_count": 10,
   "outputs": [],
   "source": [],
   "metadata": {
    "collapsed": false,
    "pycharm": {
     "name": "#%%\n"
    }
   }
  }
 ],
 "metadata": {
  "kernelspec": {
   "display_name": "Python 3",
   "language": "python",
   "name": "python3"
  },
  "language_info": {
   "codemirror_mode": {
    "name": "ipython",
    "version": 2
   },
   "file_extension": ".py",
   "mimetype": "text/x-python",
   "name": "python",
   "nbconvert_exporter": "python",
   "pygments_lexer": "ipython2",
   "version": "2.7.6"
  }
 },
 "nbformat": 4,
 "nbformat_minor": 0
}