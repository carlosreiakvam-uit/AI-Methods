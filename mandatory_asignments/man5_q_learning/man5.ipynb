{
 "cells": [
  {
   "cell_type": "code",
   "execution_count": 1,
   "metadata": {
    "collapsed": true,
    "pycharm": {
     "name": "#%%\n"
    }
   },
   "outputs": [],
   "source": [
    "import numpy as np\n",
    "import pandas as pd"
   ]
  },
  {
   "cell_type": "code",
   "execution_count": 11,
   "outputs": [
    {
     "data": {
      "text/plain": "      up   down  left  right\ns0  -inf    0.0  -inf    0.0\ns1  -inf    0.0   0.0  -10.0\ns2  -inf  100.0   0.0   -inf\ns3   0.0   -inf  -inf    0.0\ns4   0.0   -inf   0.0  100.0\ns5 -10.0   -inf   0.0   -inf",
      "text/html": "<div>\n<style scoped>\n    .dataframe tbody tr th:only-of-type {\n        vertical-align: middle;\n    }\n\n    .dataframe tbody tr th {\n        vertical-align: top;\n    }\n\n    .dataframe thead th {\n        text-align: right;\n    }\n</style>\n<table border=\"1\" class=\"dataframe\">\n  <thead>\n    <tr style=\"text-align: right;\">\n      <th></th>\n      <th>up</th>\n      <th>down</th>\n      <th>left</th>\n      <th>right</th>\n    </tr>\n  </thead>\n  <tbody>\n    <tr>\n      <th>s0</th>\n      <td>-inf</td>\n      <td>0.0</td>\n      <td>-inf</td>\n      <td>0.0</td>\n    </tr>\n    <tr>\n      <th>s1</th>\n      <td>-inf</td>\n      <td>0.0</td>\n      <td>0.0</td>\n      <td>-10.0</td>\n    </tr>\n    <tr>\n      <th>s2</th>\n      <td>-inf</td>\n      <td>100.0</td>\n      <td>0.0</td>\n      <td>-inf</td>\n    </tr>\n    <tr>\n      <th>s3</th>\n      <td>0.0</td>\n      <td>-inf</td>\n      <td>-inf</td>\n      <td>0.0</td>\n    </tr>\n    <tr>\n      <th>s4</th>\n      <td>0.0</td>\n      <td>-inf</td>\n      <td>0.0</td>\n      <td>100.0</td>\n    </tr>\n    <tr>\n      <th>s5</th>\n      <td>-10.0</td>\n      <td>-inf</td>\n      <td>0.0</td>\n      <td>-inf</td>\n    </tr>\n  </tbody>\n</table>\n</div>"
     },
     "execution_count": 11,
     "metadata": {},
     "output_type": "execute_result"
    }
   ],
   "source": [
    "x = float('-inf')  # wall punish\n",
    "r = np.matrix([\n",
    "    [x, 0, x, 0],  # 1\n",
    "    [x, 0, 0, -10],  # 2\n",
    "    [x, 100, 0, x],  # 3\n",
    "    [0, x, x, 0],  # 4\n",
    "    [0, x, 0, 100],  # 5\n",
    "    [-10, x, 0, x],  # 6\n",
    "])"
   ],
   "metadata": {
    "collapsed": false,
    "pycharm": {
     "name": "#%%\n"
    }
   }
  },
  {
   "cell_type": "code",
   "execution_count": 39,
   "outputs": [],
   "source": [
    "def get_df(data):\n",
    "    return pd.DataFrame(\n",
    "        data,\n",
    "        columns=[\"up\", \"down\", \"left\", \"right\"],\n",
    "        index=[\"s\" + str(i) for i in range(1, data.shape[0] + 1)])"
   ],
   "metadata": {
    "collapsed": false,
    "pycharm": {
     "name": "#%%\n"
    }
   }
  },
  {
   "cell_type": "code",
   "execution_count": 40,
   "outputs": [
    {
     "data": {
      "text/plain": "      up   down  left  right\ns1  -inf    0.0  -inf    0.0\ns2  -inf    0.0   0.0  -10.0\ns3  -inf  100.0   0.0   -inf\ns4   0.0   -inf  -inf    0.0\ns5   0.0   -inf   0.0  100.0\ns6 -10.0   -inf   0.0   -inf",
      "text/html": "<div>\n<style scoped>\n    .dataframe tbody tr th:only-of-type {\n        vertical-align: middle;\n    }\n\n    .dataframe tbody tr th {\n        vertical-align: top;\n    }\n\n    .dataframe thead th {\n        text-align: right;\n    }\n</style>\n<table border=\"1\" class=\"dataframe\">\n  <thead>\n    <tr style=\"text-align: right;\">\n      <th></th>\n      <th>up</th>\n      <th>down</th>\n      <th>left</th>\n      <th>right</th>\n    </tr>\n  </thead>\n  <tbody>\n    <tr>\n      <th>s1</th>\n      <td>-inf</td>\n      <td>0.0</td>\n      <td>-inf</td>\n      <td>0.0</td>\n    </tr>\n    <tr>\n      <th>s2</th>\n      <td>-inf</td>\n      <td>0.0</td>\n      <td>0.0</td>\n      <td>-10.0</td>\n    </tr>\n    <tr>\n      <th>s3</th>\n      <td>-inf</td>\n      <td>100.0</td>\n      <td>0.0</td>\n      <td>-inf</td>\n    </tr>\n    <tr>\n      <th>s4</th>\n      <td>0.0</td>\n      <td>-inf</td>\n      <td>-inf</td>\n      <td>0.0</td>\n    </tr>\n    <tr>\n      <th>s5</th>\n      <td>0.0</td>\n      <td>-inf</td>\n      <td>0.0</td>\n      <td>100.0</td>\n    </tr>\n    <tr>\n      <th>s6</th>\n      <td>-10.0</td>\n      <td>-inf</td>\n      <td>0.0</td>\n      <td>-inf</td>\n    </tr>\n  </tbody>\n</table>\n</div>"
     },
     "execution_count": 40,
     "metadata": {},
     "output_type": "execute_result"
    }
   ],
   "source": [
    "# let's see what the reward table r looks like\n",
    "df_r = get_df(r)\n",
    "df_r"
   ],
   "metadata": {
    "collapsed": false,
    "pycharm": {
     "name": "#%%\n"
    }
   }
  },
  {
   "cell_type": "code",
   "execution_count": 41,
   "outputs": [
    {
     "data": {
      "text/plain": "     up  down  left  right\ns1  0.0   0.0   0.0    0.0\ns2  0.0   0.0   0.0    0.0\ns3  0.0   0.0   0.0    0.0\ns4  0.0   0.0   0.0    0.0\ns5  0.0   0.0   0.0    0.0\ns6  0.0   0.0   0.0    0.0",
      "text/html": "<div>\n<style scoped>\n    .dataframe tbody tr th:only-of-type {\n        vertical-align: middle;\n    }\n\n    .dataframe tbody tr th {\n        vertical-align: top;\n    }\n\n    .dataframe thead th {\n        text-align: right;\n    }\n</style>\n<table border=\"1\" class=\"dataframe\">\n  <thead>\n    <tr style=\"text-align: right;\">\n      <th></th>\n      <th>up</th>\n      <th>down</th>\n      <th>left</th>\n      <th>right</th>\n    </tr>\n  </thead>\n  <tbody>\n    <tr>\n      <th>s1</th>\n      <td>0.0</td>\n      <td>0.0</td>\n      <td>0.0</td>\n      <td>0.0</td>\n    </tr>\n    <tr>\n      <th>s2</th>\n      <td>0.0</td>\n      <td>0.0</td>\n      <td>0.0</td>\n      <td>0.0</td>\n    </tr>\n    <tr>\n      <th>s3</th>\n      <td>0.0</td>\n      <td>0.0</td>\n      <td>0.0</td>\n      <td>0.0</td>\n    </tr>\n    <tr>\n      <th>s4</th>\n      <td>0.0</td>\n      <td>0.0</td>\n      <td>0.0</td>\n      <td>0.0</td>\n    </tr>\n    <tr>\n      <th>s5</th>\n      <td>0.0</td>\n      <td>0.0</td>\n      <td>0.0</td>\n      <td>0.0</td>\n    </tr>\n    <tr>\n      <th>s6</th>\n      <td>0.0</td>\n      <td>0.0</td>\n      <td>0.0</td>\n      <td>0.0</td>\n    </tr>\n  </tbody>\n</table>\n</div>"
     },
     "execution_count": 41,
     "metadata": {},
     "output_type": "execute_result"
    }
   ],
   "source": [
    "# and here is the initialized q-table\n",
    "q_table = np.zeros((6, 4))\n",
    "df_q_table = get_df(q_table)\n",
    "df_q_table"
   ],
   "metadata": {
    "collapsed": false,
    "pycharm": {
     "name": "#%%\n"
    }
   }
  },
  {
   "cell_type": "code",
   "execution_count": 42,
   "outputs": [],
   "source": [
    "discount_factor = 0.9\n",
    "learning_rate = 1"
   ],
   "metadata": {
    "collapsed": false,
    "pycharm": {
     "name": "#%%\n"
    }
   }
  },
  {
   "cell_type": "code",
   "execution_count": 43,
   "outputs": [],
   "source": [
    "s1, s2, s3, s4, s5, s6 = 0, 1, 2, 3, 4, 5\n",
    "up, down, left, right = 0, 1, 2, 3"
   ],
   "metadata": {
    "collapsed": false,
    "pycharm": {
     "name": "#%%\n"
    }
   }
  },
  {
   "cell_type": "code",
   "execution_count": 69,
   "outputs": [],
   "source": [
    "def get_new_q(state, action, next_state, print_out=True):\n",
    "    reward = r[state, action]  # reward for current state\n",
    "    max_next = np.max(q_table[next_state, :])  # max for all actions of next state\n",
    "    new_q = reward + discount_factor * max_next  # new q for q-table\n",
    "    if print_out:\n",
    "        print('reward: ', reward)\n",
    "        print('max_next: ', max_next)\n",
    "        print('new_q: ', new_q)\n",
    "    return new_q"
   ],
   "metadata": {
    "collapsed": false,
    "pycharm": {
     "name": "#%%\n"
    }
   }
  },
  {
   "cell_type": "markdown",
   "source": [
    "The robot is placed in state 4 first and consider a move to 5. Calculate the new Q-value for this state-action pair and update the Q matrix.\n"
   ],
   "metadata": {
    "collapsed": false,
    "pycharm": {
     "name": "#%% md\n"
    }
   }
  },
  {
   "cell_type": "code",
   "execution_count": 56,
   "outputs": [
    {
     "name": "stdout",
     "output_type": "stream",
     "text": [
      "reward:  0.0\n",
      "max_next:  100.0\n",
      "new_q:  90.0\n"
     ]
    },
    {
     "data": {
      "text/plain": "     up  down  left  right\ns1  0.0  81.0   0.0    0.0\ns2  0.0   0.0   0.0    0.0\ns3  0.0   0.0   0.0    0.0\ns4  0.0   0.0   0.0   90.0\ns5  0.0   0.0   0.0  100.0\ns6  0.0   0.0   0.0    0.0",
      "text/html": "<div>\n<style scoped>\n    .dataframe tbody tr th:only-of-type {\n        vertical-align: middle;\n    }\n\n    .dataframe tbody tr th {\n        vertical-align: top;\n    }\n\n    .dataframe thead th {\n        text-align: right;\n    }\n</style>\n<table border=\"1\" class=\"dataframe\">\n  <thead>\n    <tr style=\"text-align: right;\">\n      <th></th>\n      <th>up</th>\n      <th>down</th>\n      <th>left</th>\n      <th>right</th>\n    </tr>\n  </thead>\n  <tbody>\n    <tr>\n      <th>s1</th>\n      <td>0.0</td>\n      <td>81.0</td>\n      <td>0.0</td>\n      <td>0.0</td>\n    </tr>\n    <tr>\n      <th>s2</th>\n      <td>0.0</td>\n      <td>0.0</td>\n      <td>0.0</td>\n      <td>0.0</td>\n    </tr>\n    <tr>\n      <th>s3</th>\n      <td>0.0</td>\n      <td>0.0</td>\n      <td>0.0</td>\n      <td>0.0</td>\n    </tr>\n    <tr>\n      <th>s4</th>\n      <td>0.0</td>\n      <td>0.0</td>\n      <td>0.0</td>\n      <td>90.0</td>\n    </tr>\n    <tr>\n      <th>s5</th>\n      <td>0.0</td>\n      <td>0.0</td>\n      <td>0.0</td>\n      <td>100.0</td>\n    </tr>\n    <tr>\n      <th>s6</th>\n      <td>0.0</td>\n      <td>0.0</td>\n      <td>0.0</td>\n      <td>0.0</td>\n    </tr>\n  </tbody>\n</table>\n</div>"
     },
     "execution_count": 56,
     "metadata": {},
     "output_type": "execute_result"
    }
   ],
   "source": [
    "state = s4\n",
    "action = right\n",
    "next_state = s5\n",
    "\n",
    "q_table[state, action] = get_new_q(state, action, next_state)\n",
    "df_q_table = get_df(q_table)\n",
    "df_q_table"
   ],
   "metadata": {
    "collapsed": false,
    "pycharm": {
     "name": "#%%\n"
    }
   }
  },
  {
   "cell_type": "markdown",
   "source": [
    "The robot is placed in state 5 and consider the move to 6. Calculate the new Q-value for this state-action pair and update the Q matrix."
   ],
   "metadata": {
    "collapsed": false,
    "pycharm": {
     "name": "#%% md\n"
    }
   }
  },
  {
   "cell_type": "code",
   "execution_count": 57,
   "outputs": [
    {
     "name": "stdout",
     "output_type": "stream",
     "text": [
      "reward:  100.0\n",
      "max_next:  0.0\n",
      "new_q:  100.0\n"
     ]
    },
    {
     "data": {
      "text/plain": "     up  down  left  right\ns1  0.0  81.0   0.0    0.0\ns2  0.0   0.0   0.0    0.0\ns3  0.0   0.0   0.0    0.0\ns4  0.0   0.0   0.0   90.0\ns5  0.0   0.0   0.0  100.0\ns6  0.0   0.0   0.0    0.0",
      "text/html": "<div>\n<style scoped>\n    .dataframe tbody tr th:only-of-type {\n        vertical-align: middle;\n    }\n\n    .dataframe tbody tr th {\n        vertical-align: top;\n    }\n\n    .dataframe thead th {\n        text-align: right;\n    }\n</style>\n<table border=\"1\" class=\"dataframe\">\n  <thead>\n    <tr style=\"text-align: right;\">\n      <th></th>\n      <th>up</th>\n      <th>down</th>\n      <th>left</th>\n      <th>right</th>\n    </tr>\n  </thead>\n  <tbody>\n    <tr>\n      <th>s1</th>\n      <td>0.0</td>\n      <td>81.0</td>\n      <td>0.0</td>\n      <td>0.0</td>\n    </tr>\n    <tr>\n      <th>s2</th>\n      <td>0.0</td>\n      <td>0.0</td>\n      <td>0.0</td>\n      <td>0.0</td>\n    </tr>\n    <tr>\n      <th>s3</th>\n      <td>0.0</td>\n      <td>0.0</td>\n      <td>0.0</td>\n      <td>0.0</td>\n    </tr>\n    <tr>\n      <th>s4</th>\n      <td>0.0</td>\n      <td>0.0</td>\n      <td>0.0</td>\n      <td>90.0</td>\n    </tr>\n    <tr>\n      <th>s5</th>\n      <td>0.0</td>\n      <td>0.0</td>\n      <td>0.0</td>\n      <td>100.0</td>\n    </tr>\n    <tr>\n      <th>s6</th>\n      <td>0.0</td>\n      <td>0.0</td>\n      <td>0.0</td>\n      <td>0.0</td>\n    </tr>\n  </tbody>\n</table>\n</div>"
     },
     "execution_count": 57,
     "metadata": {},
     "output_type": "execute_result"
    }
   ],
   "source": [
    "state = s5\n",
    "action = right\n",
    "next_state = s6\n",
    "\n",
    "q_table[state, action] = get_new_q(state, action, next_state)\n",
    "df_q_table = get_df(q_table)\n",
    "df_q_table"
   ],
   "metadata": {
    "collapsed": false,
    "pycharm": {
     "name": "#%%\n"
    }
   }
  },
  {
   "cell_type": "markdown",
   "source": [
    "The robot is placed in state 4 again and considers the move to 5. Calculate the new Q-value for this state-action pair and update the Q matrix.\n"
   ],
   "metadata": {
    "collapsed": false,
    "pycharm": {
     "name": "#%% md\n"
    }
   }
  },
  {
   "cell_type": "code",
   "execution_count": 58,
   "outputs": [
    {
     "name": "stdout",
     "output_type": "stream",
     "text": [
      "reward:  0.0\n",
      "max_next:  100.0\n",
      "new_q:  90.0\n"
     ]
    },
    {
     "data": {
      "text/plain": "     up  down  left  right\ns1  0.0  81.0   0.0    0.0\ns2  0.0   0.0   0.0    0.0\ns3  0.0   0.0   0.0    0.0\ns4  0.0   0.0   0.0   90.0\ns5  0.0   0.0   0.0  100.0\ns6  0.0   0.0   0.0    0.0",
      "text/html": "<div>\n<style scoped>\n    .dataframe tbody tr th:only-of-type {\n        vertical-align: middle;\n    }\n\n    .dataframe tbody tr th {\n        vertical-align: top;\n    }\n\n    .dataframe thead th {\n        text-align: right;\n    }\n</style>\n<table border=\"1\" class=\"dataframe\">\n  <thead>\n    <tr style=\"text-align: right;\">\n      <th></th>\n      <th>up</th>\n      <th>down</th>\n      <th>left</th>\n      <th>right</th>\n    </tr>\n  </thead>\n  <tbody>\n    <tr>\n      <th>s1</th>\n      <td>0.0</td>\n      <td>81.0</td>\n      <td>0.0</td>\n      <td>0.0</td>\n    </tr>\n    <tr>\n      <th>s2</th>\n      <td>0.0</td>\n      <td>0.0</td>\n      <td>0.0</td>\n      <td>0.0</td>\n    </tr>\n    <tr>\n      <th>s3</th>\n      <td>0.0</td>\n      <td>0.0</td>\n      <td>0.0</td>\n      <td>0.0</td>\n    </tr>\n    <tr>\n      <th>s4</th>\n      <td>0.0</td>\n      <td>0.0</td>\n      <td>0.0</td>\n      <td>90.0</td>\n    </tr>\n    <tr>\n      <th>s5</th>\n      <td>0.0</td>\n      <td>0.0</td>\n      <td>0.0</td>\n      <td>100.0</td>\n    </tr>\n    <tr>\n      <th>s6</th>\n      <td>0.0</td>\n      <td>0.0</td>\n      <td>0.0</td>\n      <td>0.0</td>\n    </tr>\n  </tbody>\n</table>\n</div>"
     },
     "execution_count": 58,
     "metadata": {},
     "output_type": "execute_result"
    }
   ],
   "source": [
    "state = s4\n",
    "action = right\n",
    "next_state = s5\n",
    "\n",
    "q_table[state, action] = get_new_q(state, action, next_state)\n",
    "df_q_table = get_df(q_table)\n",
    "df_q_table"
   ],
   "metadata": {
    "collapsed": false,
    "pycharm": {
     "name": "#%%\n"
    }
   }
  },
  {
   "cell_type": "markdown",
   "source": [
    "The robot is placed in state 1 and consider the move to 4. Calculate the new Q-value for this state-action pair and update the Q matrix."
   ],
   "metadata": {
    "collapsed": false,
    "pycharm": {
     "name": "#%% md\n"
    }
   }
  },
  {
   "cell_type": "code",
   "execution_count": 63,
   "outputs": [
    {
     "name": "stdout",
     "output_type": "stream",
     "text": [
      "reward:  0.0\n",
      "max_next:  90.0\n",
      "new_q:  81.0\n"
     ]
    },
    {
     "data": {
      "text/plain": "     up  down  left  right\ns1  0.0  81.0   0.0    0.0\ns2  0.0   0.0   0.0    0.0\ns3  0.0   0.0   0.0    0.0\ns4  0.0   0.0   0.0   90.0\ns5  0.0   0.0   0.0  100.0\ns6  0.0   0.0   0.0    0.0",
      "text/html": "<div>\n<style scoped>\n    .dataframe tbody tr th:only-of-type {\n        vertical-align: middle;\n    }\n\n    .dataframe tbody tr th {\n        vertical-align: top;\n    }\n\n    .dataframe thead th {\n        text-align: right;\n    }\n</style>\n<table border=\"1\" class=\"dataframe\">\n  <thead>\n    <tr style=\"text-align: right;\">\n      <th></th>\n      <th>up</th>\n      <th>down</th>\n      <th>left</th>\n      <th>right</th>\n    </tr>\n  </thead>\n  <tbody>\n    <tr>\n      <th>s1</th>\n      <td>0.0</td>\n      <td>81.0</td>\n      <td>0.0</td>\n      <td>0.0</td>\n    </tr>\n    <tr>\n      <th>s2</th>\n      <td>0.0</td>\n      <td>0.0</td>\n      <td>0.0</td>\n      <td>0.0</td>\n    </tr>\n    <tr>\n      <th>s3</th>\n      <td>0.0</td>\n      <td>0.0</td>\n      <td>0.0</td>\n      <td>0.0</td>\n    </tr>\n    <tr>\n      <th>s4</th>\n      <td>0.0</td>\n      <td>0.0</td>\n      <td>0.0</td>\n      <td>90.0</td>\n    </tr>\n    <tr>\n      <th>s5</th>\n      <td>0.0</td>\n      <td>0.0</td>\n      <td>0.0</td>\n      <td>100.0</td>\n    </tr>\n    <tr>\n      <th>s6</th>\n      <td>0.0</td>\n      <td>0.0</td>\n      <td>0.0</td>\n      <td>0.0</td>\n    </tr>\n  </tbody>\n</table>\n</div>"
     },
     "execution_count": 63,
     "metadata": {},
     "output_type": "execute_result"
    }
   ],
   "source": [
    "state = s1\n",
    "action = down\n",
    "next_state = s4\n",
    "\n",
    "q_table[state, action] = get_new_q(state, action, next_state)\n",
    "df_q_table = get_df(q_table)\n",
    "df_q_table"
   ],
   "metadata": {
    "collapsed": false,
    "pycharm": {
     "name": "#%%\n"
    }
   }
  },
  {
   "cell_type": "markdown",
   "source": [
    "Based on the information entered, which path is the most likely choice of the robot at this stage when dropped in zone 2?\n",
    "\n",
    "Checking new q's for different actions"
   ],
   "metadata": {
    "collapsed": false,
    "pycharm": {
     "name": "#%% md\n"
    }
   }
  },
  {
   "cell_type": "code",
   "execution_count": 76,
   "outputs": [
    {
     "data": {
      "text/plain": "          Q\ndown   90.0\nleft   72.9\nright -10.0",
      "text/html": "<div>\n<style scoped>\n    .dataframe tbody tr th:only-of-type {\n        vertical-align: middle;\n    }\n\n    .dataframe tbody tr th {\n        vertical-align: top;\n    }\n\n    .dataframe thead th {\n        text-align: right;\n    }\n</style>\n<table border=\"1\" class=\"dataframe\">\n  <thead>\n    <tr style=\"text-align: right;\">\n      <th></th>\n      <th>Q</th>\n    </tr>\n  </thead>\n  <tbody>\n    <tr>\n      <th>down</th>\n      <td>90.0</td>\n    </tr>\n    <tr>\n      <th>left</th>\n      <td>72.9</td>\n    </tr>\n    <tr>\n      <th>right</th>\n      <td>-10.0</td>\n    </tr>\n  </tbody>\n</table>\n</div>"
     },
     "execution_count": 76,
     "metadata": {},
     "output_type": "execute_result"
    }
   ],
   "source": [
    "from_s2_to = {\n",
    "    \"down\": get_new_q(s2, down, s5, False),\n",
    "    \"left\": get_new_q(s2, left, s1, False),\n",
    "    \"right\": get_new_q(s2, right, s3, False),\n",
    "}\n",
    "df_from_s2 = pd.DataFrame.from_dict(from_s2_to, orient='index', columns=['Q'])\n",
    "df_from_s2"
   ],
   "metadata": {
    "collapsed": false,
    "pycharm": {
     "name": "#%%\n"
    }
   }
  },
  {
   "cell_type": "markdown",
   "source": [
    "The highest q is action **down** so this is the most likely choice"
   ],
   "metadata": {
    "collapsed": false,
    "pycharm": {
     "name": "#%% md\n"
    }
   }
  },
  {
   "cell_type": "code",
   "execution_count": null,
   "outputs": [],
   "source": [],
   "metadata": {
    "collapsed": false,
    "pycharm": {
     "name": "#%%\n"
    }
   }
  }
 ],
 "metadata": {
  "kernelspec": {
   "display_name": "Python 3",
   "language": "python",
   "name": "python3"
  },
  "language_info": {
   "codemirror_mode": {
    "name": "ipython",
    "version": 2
   },
   "file_extension": ".py",
   "mimetype": "text/x-python",
   "name": "python",
   "nbconvert_exporter": "python",
   "pygments_lexer": "ipython2",
   "version": "2.7.6"
  }
 },
 "nbformat": 4,
 "nbformat_minor": 0
}