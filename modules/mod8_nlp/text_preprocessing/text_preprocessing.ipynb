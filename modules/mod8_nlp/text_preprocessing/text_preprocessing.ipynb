{
 "cells": [
  {
   "cell_type": "code",
   "execution_count": 5,
   "id": "458798fa",
   "metadata": {
    "collapsed": true,
    "pycharm": {
     "name": "#%%\n"
    }
   },
   "outputs": [
    {
     "name": "stdout",
     "output_type": "stream",
     "text": [
      "Requirement already satisfied: nltk in c:\\uit_repos\\methods\\ai_methods\\venv\\lib\\site-packages (3.7)"
     ]
    },
    {
     "name": "stderr",
     "output_type": "stream",
     "text": [
      "WARNING: You are using pip version 21.3.1; however, version 22.3.1 is available.\n",
      "You should consider upgrading via the 'C:\\UIT_repos\\methods\\ai_methods\\venv\\Scripts\\python.exe -m pip install --upgrade pip' command.\n"
     ]
    },
    {
     "name": "stdout",
     "output_type": "stream",
     "text": [
      "\n",
      "Requirement already satisfied: click in c:\\uit_repos\\methods\\ai_methods\\venv\\lib\\site-packages (from nltk) (8.1.3)\n",
      "Requirement already satisfied: joblib in c:\\uit_repos\\methods\\ai_methods\\venv\\lib\\site-packages (from nltk) (1.1.0)\n",
      "Requirement already satisfied: regex>=2021.8.3 in c:\\uit_repos\\methods\\ai_methods\\venv\\lib\\site-packages (from nltk) (2022.9.13)\n",
      "Requirement already satisfied: tqdm in c:\\uit_repos\\methods\\ai_methods\\venv\\lib\\site-packages (from nltk) (4.64.1)\n",
      "Requirement already satisfied: colorama in c:\\uit_repos\\methods\\ai_methods\\venv\\lib\\site-packages (from click->nltk) (0.4.5)\n"
     ]
    }
   ],
   "source": [
    "!pip install nltk"
   ]
  },
  {
   "cell_type": "code",
   "execution_count": 6,
   "id": "ae00a980",
   "metadata": {
    "pycharm": {
     "name": "#%%\n"
    }
   },
   "outputs": [
    {
     "data": {
      "text/plain": "   tweet_id     author_id  inbound                      created_at  \\\n0    119237        105834     True  Wed Oct 11 06:55:44 +0000 2017   \n1    119238  ChaseSupport    False  Wed Oct 11 13:25:49 +0000 2017   \n2    119239        105835     True  Wed Oct 11 13:00:09 +0000 2017   \n3    119240  VirginTrains    False  Tue Oct 10 15:16:08 +0000 2017   \n4    119241        105836     True  Tue Oct 10 15:17:21 +0000 2017   \n\n                                                text response_tweet_id  \\\n0  @AppleSupport causing the reply to be disregar...            119236   \n1  @105835 Your business means a lot to us. Pleas...               NaN   \n2  @76328 I really hope you all change but I'm su...            119238   \n3  @105836 LiveChat is online at the moment - htt...            119241   \n4  @VirginTrains see attached error message. I've...            119243   \n\n   in_response_to_tweet_id  \n0                      NaN  \n1                 119239.0  \n2                      NaN  \n3                 119242.0  \n4                 119240.0  ",
      "text/html": "<div>\n<style scoped>\n    .dataframe tbody tr th:only-of-type {\n        vertical-align: middle;\n    }\n\n    .dataframe tbody tr th {\n        vertical-align: top;\n    }\n\n    .dataframe thead th {\n        text-align: right;\n    }\n</style>\n<table border=\"1\" class=\"dataframe\">\n  <thead>\n    <tr style=\"text-align: right;\">\n      <th></th>\n      <th>tweet_id</th>\n      <th>author_id</th>\n      <th>inbound</th>\n      <th>created_at</th>\n      <th>text</th>\n      <th>response_tweet_id</th>\n      <th>in_response_to_tweet_id</th>\n    </tr>\n  </thead>\n  <tbody>\n    <tr>\n      <th>0</th>\n      <td>119237</td>\n      <td>105834</td>\n      <td>True</td>\n      <td>Wed Oct 11 06:55:44 +0000 2017</td>\n      <td>@AppleSupport causing the reply to be disregar...</td>\n      <td>119236</td>\n      <td>NaN</td>\n    </tr>\n    <tr>\n      <th>1</th>\n      <td>119238</td>\n      <td>ChaseSupport</td>\n      <td>False</td>\n      <td>Wed Oct 11 13:25:49 +0000 2017</td>\n      <td>@105835 Your business means a lot to us. Pleas...</td>\n      <td>NaN</td>\n      <td>119239.0</td>\n    </tr>\n    <tr>\n      <th>2</th>\n      <td>119239</td>\n      <td>105835</td>\n      <td>True</td>\n      <td>Wed Oct 11 13:00:09 +0000 2017</td>\n      <td>@76328 I really hope you all change but I'm su...</td>\n      <td>119238</td>\n      <td>NaN</td>\n    </tr>\n    <tr>\n      <th>3</th>\n      <td>119240</td>\n      <td>VirginTrains</td>\n      <td>False</td>\n      <td>Tue Oct 10 15:16:08 +0000 2017</td>\n      <td>@105836 LiveChat is online at the moment - htt...</td>\n      <td>119241</td>\n      <td>119242.0</td>\n    </tr>\n    <tr>\n      <th>4</th>\n      <td>119241</td>\n      <td>105836</td>\n      <td>True</td>\n      <td>Tue Oct 10 15:17:21 +0000 2017</td>\n      <td>@VirginTrains see attached error message. I've...</td>\n      <td>119243</td>\n      <td>119240.0</td>\n    </tr>\n  </tbody>\n</table>\n</div>"
     },
     "execution_count": 6,
     "metadata": {},
     "output_type": "execute_result"
    }
   ],
   "source": [
    "import numpy as np\n",
    "import pandas as pd\n",
    "import nltk\n",
    "import string\n",
    "import re\n",
    "\n",
    "full_df = pd.read_csv(\"twitter.csv\", nrows=5000)\n",
    "df = full_df[[\"text\"]].copy()\n",
    "df[\"text\"] = df[\"text\"].astype(str)\n",
    "full_df.head()"
   ]
  },
  {
   "cell_type": "markdown",
   "id": "91e6f6c4",
   "metadata": {
    "pycharm": {
     "name": "#%% md\n"
    }
   },
   "source": [
    "## Lower Casing"
   ]
  },
  {
   "cell_type": "code",
   "execution_count": 7,
   "id": "f0488ad0",
   "metadata": {
    "pycharm": {
     "name": "#%%\n"
    }
   },
   "outputs": [
    {
     "data": {
      "text/plain": "                                                text  \\\n0  @AppleSupport causing the reply to be disregar...   \n1  @105835 Your business means a lot to us. Pleas...   \n2  @76328 I really hope you all change but I'm su...   \n3  @105836 LiveChat is online at the moment - htt...   \n4  @VirginTrains see attached error message. I've...   \n\n                                          text_lower  \n0  @applesupport causing the reply to be disregar...  \n1  @105835 your business means a lot to us. pleas...  \n2  @76328 i really hope you all change but i'm su...  \n3  @105836 livechat is online at the moment - htt...  \n4  @virgintrains see attached error message. i've...  ",
      "text/html": "<div>\n<style scoped>\n    .dataframe tbody tr th:only-of-type {\n        vertical-align: middle;\n    }\n\n    .dataframe tbody tr th {\n        vertical-align: top;\n    }\n\n    .dataframe thead th {\n        text-align: right;\n    }\n</style>\n<table border=\"1\" class=\"dataframe\">\n  <thead>\n    <tr style=\"text-align: right;\">\n      <th></th>\n      <th>text</th>\n      <th>text_lower</th>\n    </tr>\n  </thead>\n  <tbody>\n    <tr>\n      <th>0</th>\n      <td>@AppleSupport causing the reply to be disregar...</td>\n      <td>@applesupport causing the reply to be disregar...</td>\n    </tr>\n    <tr>\n      <th>1</th>\n      <td>@105835 Your business means a lot to us. Pleas...</td>\n      <td>@105835 your business means a lot to us. pleas...</td>\n    </tr>\n    <tr>\n      <th>2</th>\n      <td>@76328 I really hope you all change but I'm su...</td>\n      <td>@76328 i really hope you all change but i'm su...</td>\n    </tr>\n    <tr>\n      <th>3</th>\n      <td>@105836 LiveChat is online at the moment - htt...</td>\n      <td>@105836 livechat is online at the moment - htt...</td>\n    </tr>\n    <tr>\n      <th>4</th>\n      <td>@VirginTrains see attached error message. I've...</td>\n      <td>@virgintrains see attached error message. i've...</td>\n    </tr>\n  </tbody>\n</table>\n</div>"
     },
     "execution_count": 7,
     "metadata": {},
     "output_type": "execute_result"
    }
   ],
   "source": [
    "df[\"text_lower\"] = df[\"text\"].str.lower()\n",
    "df.head()"
   ]
  },
  {
   "cell_type": "markdown",
   "id": "4bf1bd89",
   "metadata": {
    "pycharm": {
     "name": "#%% md\n"
    }
   },
   "source": [
    "## Punctuations Removal"
   ]
  },
  {
   "cell_type": "code",
   "execution_count": 8,
   "id": "c2c07360",
   "metadata": {
    "pycharm": {
     "name": "#%%\n"
    }
   },
   "outputs": [
    {
     "data": {
      "text/plain": "                                                text  \\\n0  @AppleSupport causing the reply to be disregar...   \n1  @105835 Your business means a lot to us. Pleas...   \n2  @76328 I really hope you all change but I'm su...   \n3  @105836 LiveChat is online at the moment - htt...   \n4  @VirginTrains see attached error message. I've...   \n\n                                       text_wo_punct  \n0  AppleSupport causing the reply to be disregard...  \n1  105835 Your business means a lot to us Please ...  \n2  76328 I really hope you all change but Im sure...  \n3  105836 LiveChat is online at the moment  https...  \n4  VirginTrains see attached error message Ive tr...  ",
      "text/html": "<div>\n<style scoped>\n    .dataframe tbody tr th:only-of-type {\n        vertical-align: middle;\n    }\n\n    .dataframe tbody tr th {\n        vertical-align: top;\n    }\n\n    .dataframe thead th {\n        text-align: right;\n    }\n</style>\n<table border=\"1\" class=\"dataframe\">\n  <thead>\n    <tr style=\"text-align: right;\">\n      <th></th>\n      <th>text</th>\n      <th>text_wo_punct</th>\n    </tr>\n  </thead>\n  <tbody>\n    <tr>\n      <th>0</th>\n      <td>@AppleSupport causing the reply to be disregar...</td>\n      <td>AppleSupport causing the reply to be disregard...</td>\n    </tr>\n    <tr>\n      <th>1</th>\n      <td>@105835 Your business means a lot to us. Pleas...</td>\n      <td>105835 Your business means a lot to us Please ...</td>\n    </tr>\n    <tr>\n      <th>2</th>\n      <td>@76328 I really hope you all change but I'm su...</td>\n      <td>76328 I really hope you all change but Im sure...</td>\n    </tr>\n    <tr>\n      <th>3</th>\n      <td>@105836 LiveChat is online at the moment - htt...</td>\n      <td>105836 LiveChat is online at the moment  https...</td>\n    </tr>\n    <tr>\n      <th>4</th>\n      <td>@VirginTrains see attached error message. I've...</td>\n      <td>VirginTrains see attached error message Ive tr...</td>\n    </tr>\n  </tbody>\n</table>\n</div>"
     },
     "execution_count": 8,
     "metadata": {},
     "output_type": "execute_result"
    }
   ],
   "source": [
    "df.drop([\"text_lower\"], axis=1, inplace=True)\n",
    "\n",
    "PUNCT_TO_REMOVE = string.punctuation\n",
    "def remove_punctuation(text):\n",
    "    \"\"\"custom function to remove the punctuation\"\"\"\n",
    "    return text.translate(str.maketrans('', '', PUNCT_TO_REMOVE))\n",
    "\n",
    "df[\"text_wo_punct\"] = df[\"text\"].apply(lambda text: remove_punctuation(text))\n",
    "df.head()"
   ]
  },
  {
   "cell_type": "markdown",
   "id": "6d0fa196",
   "metadata": {
    "pycharm": {
     "name": "#%% md\n"
    }
   },
   "source": [
    "## Stopwords Removal"
   ]
  },
  {
   "cell_type": "code",
   "execution_count": 9,
   "id": "8e757550",
   "metadata": {
    "pycharm": {
     "name": "#%%\n"
    }
   },
   "outputs": [
    {
     "name": "stderr",
     "output_type": "stream",
     "text": [
      "[nltk_data] Downloading package stopwords to\n",
      "[nltk_data]     C:\\Users\\carlo\\AppData\\Roaming\\nltk_data...\n",
      "[nltk_data]   Package stopwords is already up-to-date!\n"
     ]
    },
    {
     "data": {
      "text/plain": "                                                text  \\\n0  @AppleSupport causing the reply to be disregar...   \n1  @105835 Your business means a lot to us. Pleas...   \n2  @76328 I really hope you all change but I'm su...   \n3  @105836 LiveChat is online at the moment - htt...   \n4  @VirginTrains see attached error message. I've...   \n\n                                       text_wo_punct  \\\n0  AppleSupport causing the reply to be disregard...   \n1  105835 Your business means a lot to us Please ...   \n2  76328 I really hope you all change but Im sure...   \n3  105836 LiveChat is online at the moment  https...   \n4  VirginTrains see attached error message Ive tr...   \n\n                                        text_wo_stop  \n0  AppleSupport causing reply disregarded tapped ...  \n1  105835 Your business means lot us Please DM na...  \n2  76328 I really hope change Im sure wont Becaus...  \n3  105836 LiveChat online moment httpstcoSY94VtU8...  \n4  VirginTrains see attached error message Ive tr...  ",
      "text/html": "<div>\n<style scoped>\n    .dataframe tbody tr th:only-of-type {\n        vertical-align: middle;\n    }\n\n    .dataframe tbody tr th {\n        vertical-align: top;\n    }\n\n    .dataframe thead th {\n        text-align: right;\n    }\n</style>\n<table border=\"1\" class=\"dataframe\">\n  <thead>\n    <tr style=\"text-align: right;\">\n      <th></th>\n      <th>text</th>\n      <th>text_wo_punct</th>\n      <th>text_wo_stop</th>\n    </tr>\n  </thead>\n  <tbody>\n    <tr>\n      <th>0</th>\n      <td>@AppleSupport causing the reply to be disregar...</td>\n      <td>AppleSupport causing the reply to be disregard...</td>\n      <td>AppleSupport causing reply disregarded tapped ...</td>\n    </tr>\n    <tr>\n      <th>1</th>\n      <td>@105835 Your business means a lot to us. Pleas...</td>\n      <td>105835 Your business means a lot to us Please ...</td>\n      <td>105835 Your business means lot us Please DM na...</td>\n    </tr>\n    <tr>\n      <th>2</th>\n      <td>@76328 I really hope you all change but I'm su...</td>\n      <td>76328 I really hope you all change but Im sure...</td>\n      <td>76328 I really hope change Im sure wont Becaus...</td>\n    </tr>\n    <tr>\n      <th>3</th>\n      <td>@105836 LiveChat is online at the moment - htt...</td>\n      <td>105836 LiveChat is online at the moment  https...</td>\n      <td>105836 LiveChat online moment httpstcoSY94VtU8...</td>\n    </tr>\n    <tr>\n      <th>4</th>\n      <td>@VirginTrains see attached error message. I've...</td>\n      <td>VirginTrains see attached error message Ive tr...</td>\n      <td>VirginTrains see attached error message Ive tr...</td>\n    </tr>\n  </tbody>\n</table>\n</div>"
     },
     "execution_count": 9,
     "metadata": {},
     "output_type": "execute_result"
    }
   ],
   "source": [
    "nltk.download('stopwords')\n",
    "from nltk.corpus import stopwords\n",
    "\", \".join(stopwords.words('english'))\n",
    "\n",
    "STOPWORDS = set(stopwords.words('english'))\n",
    "def remove_stopwords(text):\n",
    "    \"\"\"custom function to remove the stopwords\"\"\"\n",
    "    return \" \".join([word for word in str(text).split() if word not in STOPWORDS])\n",
    "\n",
    "df[\"text_wo_stop\"] = df[\"text_wo_punct\"].apply(lambda text: remove_stopwords(text))\n",
    "df.head()"
   ]
  },
  {
   "cell_type": "markdown",
   "id": "473edf7c",
   "metadata": {
    "pycharm": {
     "name": "#%% md\n"
    }
   },
   "source": [
    "## Frequent Words Removal"
   ]
  },
  {
   "cell_type": "code",
   "execution_count": 10,
   "id": "b8fbcd56",
   "metadata": {
    "pycharm": {
     "name": "#%%\n"
    }
   },
   "outputs": [
    {
     "data": {
      "text/plain": "[('I', 34),\n ('us', 25),\n ('DM', 19),\n ('help', 17),\n ('httpstcoGDrqU22YpT', 12),\n ('AppleSupport', 11),\n ('Thanks', 11),\n ('phone', 9),\n ('Hi', 8),\n ('get', 8)]"
     },
     "execution_count": 10,
     "metadata": {},
     "output_type": "execute_result"
    }
   ],
   "source": [
    "from collections import Counter\n",
    "cnt = Counter()\n",
    "for text in df[\"text_wo_stop\"].values:\n",
    "    for word in text.split():\n",
    "        cnt[word] += 1\n",
    "        \n",
    "cnt.most_common(10)"
   ]
  },
  {
   "cell_type": "code",
   "execution_count": 11,
   "id": "33b867ff",
   "metadata": {
    "pycharm": {
     "name": "#%%\n"
    }
   },
   "outputs": [
    {
     "data": {
      "text/plain": "                                                text  \\\n0  @AppleSupport causing the reply to be disregar...   \n1  @105835 Your business means a lot to us. Pleas...   \n2  @76328 I really hope you all change but I'm su...   \n3  @105836 LiveChat is online at the moment - htt...   \n4  @VirginTrains see attached error message. I've...   \n\n                                       text_wo_punct  \\\n0  AppleSupport causing the reply to be disregard...   \n1  105835 Your business means a lot to us Please ...   \n2  76328 I really hope you all change but Im sure...   \n3  105836 LiveChat is online at the moment  https...   \n4  VirginTrains see attached error message Ive tr...   \n\n                                        text_wo_stop  \\\n0  AppleSupport causing reply disregarded tapped ...   \n1  105835 Your business means lot us Please DM na...   \n2  76328 I really hope change Im sure wont Becaus...   \n3  105836 LiveChat online moment httpstcoSY94VtU8...   \n4  VirginTrains see attached error message Ive tr...   \n\n                                    text_wo_stopfreq  \n0  causing reply disregarded tapped notification ...  \n1  105835 Your business means lot Please name zip...  \n2  76328 really hope change Im sure wont Because ...  \n3  105836 LiveChat online moment httpstcoSY94VtU8...  \n4  VirginTrains see attached error message Ive tr...  ",
      "text/html": "<div>\n<style scoped>\n    .dataframe tbody tr th:only-of-type {\n        vertical-align: middle;\n    }\n\n    .dataframe tbody tr th {\n        vertical-align: top;\n    }\n\n    .dataframe thead th {\n        text-align: right;\n    }\n</style>\n<table border=\"1\" class=\"dataframe\">\n  <thead>\n    <tr style=\"text-align: right;\">\n      <th></th>\n      <th>text</th>\n      <th>text_wo_punct</th>\n      <th>text_wo_stop</th>\n      <th>text_wo_stopfreq</th>\n    </tr>\n  </thead>\n  <tbody>\n    <tr>\n      <th>0</th>\n      <td>@AppleSupport causing the reply to be disregar...</td>\n      <td>AppleSupport causing the reply to be disregard...</td>\n      <td>AppleSupport causing reply disregarded tapped ...</td>\n      <td>causing reply disregarded tapped notification ...</td>\n    </tr>\n    <tr>\n      <th>1</th>\n      <td>@105835 Your business means a lot to us. Pleas...</td>\n      <td>105835 Your business means a lot to us Please ...</td>\n      <td>105835 Your business means lot us Please DM na...</td>\n      <td>105835 Your business means lot Please name zip...</td>\n    </tr>\n    <tr>\n      <th>2</th>\n      <td>@76328 I really hope you all change but I'm su...</td>\n      <td>76328 I really hope you all change but Im sure...</td>\n      <td>76328 I really hope change Im sure wont Becaus...</td>\n      <td>76328 really hope change Im sure wont Because ...</td>\n    </tr>\n    <tr>\n      <th>3</th>\n      <td>@105836 LiveChat is online at the moment - htt...</td>\n      <td>105836 LiveChat is online at the moment  https...</td>\n      <td>105836 LiveChat online moment httpstcoSY94VtU8...</td>\n      <td>105836 LiveChat online moment httpstcoSY94VtU8...</td>\n    </tr>\n    <tr>\n      <th>4</th>\n      <td>@VirginTrains see attached error message. I've...</td>\n      <td>VirginTrains see attached error message Ive tr...</td>\n      <td>VirginTrains see attached error message Ive tr...</td>\n      <td>VirginTrains see attached error message Ive tr...</td>\n    </tr>\n  </tbody>\n</table>\n</div>"
     },
     "execution_count": 11,
     "metadata": {},
     "output_type": "execute_result"
    }
   ],
   "source": [
    "FREQWORDS = set([w for (w, wc) in cnt.most_common(10)])\n",
    "def remove_freqwords(text):\n",
    "    \"\"\"custom function to remove the frequent words\"\"\"\n",
    "    return \" \".join([word for word in str(text).split() if word not in FREQWORDS])\n",
    "\n",
    "df[\"text_wo_stopfreq\"] = df[\"text_wo_stop\"].apply(lambda text: remove_freqwords(text))\n",
    "df.head()"
   ]
  },
  {
   "cell_type": "markdown",
   "id": "953f78f6",
   "metadata": {
    "pycharm": {
     "name": "#%% md\n"
    }
   },
   "source": [
    "## Rare Words Removal"
   ]
  },
  {
   "cell_type": "code",
   "execution_count": 12,
   "id": "dcefc3fd",
   "metadata": {
    "pycharm": {
     "name": "#%%\n"
    }
   },
   "outputs": [
    {
     "data": {
      "text/plain": "                                                text  \\\n0  @AppleSupport causing the reply to be disregar...   \n1  @105835 Your business means a lot to us. Pleas...   \n2  @76328 I really hope you all change but I'm su...   \n3  @105836 LiveChat is online at the moment - htt...   \n4  @VirginTrains see attached error message. I've...   \n\n                                    text_wo_stopfreq  \\\n0  causing reply disregarded tapped notification ...   \n1  105835 Your business means lot Please name zip...   \n2  76328 really hope change Im sure wont Because ...   \n3  105836 LiveChat online moment httpstcoSY94VtU8...   \n4  VirginTrains see attached error message Ive tr...   \n\n                                text_wo_stopfreqrare  \n0  causing reply disregarded tapped notification ...  \n1  105835 Your business means lot Please name zip...  \n2  76328 really hope change Im sure wont Because ...  \n3  105836 LiveChat online moment httpstcoSY94VtU8...  \n4  VirginTrains see attached error message Ive tr...  ",
      "text/html": "<div>\n<style scoped>\n    .dataframe tbody tr th:only-of-type {\n        vertical-align: middle;\n    }\n\n    .dataframe tbody tr th {\n        vertical-align: top;\n    }\n\n    .dataframe thead th {\n        text-align: right;\n    }\n</style>\n<table border=\"1\" class=\"dataframe\">\n  <thead>\n    <tr style=\"text-align: right;\">\n      <th></th>\n      <th>text</th>\n      <th>text_wo_stopfreq</th>\n      <th>text_wo_stopfreqrare</th>\n    </tr>\n  </thead>\n  <tbody>\n    <tr>\n      <th>0</th>\n      <td>@AppleSupport causing the reply to be disregar...</td>\n      <td>causing reply disregarded tapped notification ...</td>\n      <td>causing reply disregarded tapped notification ...</td>\n    </tr>\n    <tr>\n      <th>1</th>\n      <td>@105835 Your business means a lot to us. Pleas...</td>\n      <td>105835 Your business means lot Please name zip...</td>\n      <td>105835 Your business means lot Please name zip...</td>\n    </tr>\n    <tr>\n      <th>2</th>\n      <td>@76328 I really hope you all change but I'm su...</td>\n      <td>76328 really hope change Im sure wont Because ...</td>\n      <td>76328 really hope change Im sure wont Because ...</td>\n    </tr>\n    <tr>\n      <th>3</th>\n      <td>@105836 LiveChat is online at the moment - htt...</td>\n      <td>105836 LiveChat online moment httpstcoSY94VtU8...</td>\n      <td>105836 LiveChat online moment httpstcoSY94VtU8...</td>\n    </tr>\n    <tr>\n      <th>4</th>\n      <td>@VirginTrains see attached error message. I've...</td>\n      <td>VirginTrains see attached error message Ive tr...</td>\n      <td>VirginTrains see attached error message Ive tr...</td>\n    </tr>\n  </tbody>\n</table>\n</div>"
     },
     "execution_count": 12,
     "metadata": {},
     "output_type": "execute_result"
    }
   ],
   "source": [
    "df.drop([\"text_wo_punct\", \"text_wo_stop\"], axis=1, inplace=True)\n",
    "\n",
    "n_rare_words = 10\n",
    "RAREWORDS = set([w for (w, wc) in cnt.most_common()[:-n_rare_words-1:-1]])\n",
    "def remove_rarewords(text):\n",
    "    \"\"\"custom function to remove the rare words\"\"\"\n",
    "    return \" \".join([word for word in str(text).split() if word not in RAREWORDS])\n",
    "\n",
    "df[\"text_wo_stopfreqrare\"] = df[\"text_wo_stopfreq\"].apply(lambda text: remove_rarewords(text))\n",
    "df.head()"
   ]
  },
  {
   "cell_type": "markdown",
   "id": "3966d212",
   "metadata": {
    "pycharm": {
     "name": "#%% md\n"
    }
   },
   "source": [
    "## Emojis Removal"
   ]
  },
  {
   "cell_type": "code",
   "execution_count": 13,
   "id": "37067196",
   "metadata": {
    "pycharm": {
     "name": "#%%\n"
    }
   },
   "outputs": [
    {
     "data": {
      "text/plain": "'game is on '"
     },
     "execution_count": 13,
     "metadata": {},
     "output_type": "execute_result"
    }
   ],
   "source": [
    "def remove_emoji(string):\n",
    "    'src: https://gist.github.com/slowkow/7a7f61f495e3dbb7e3d767f97bd7304b'\n",
    "    emoji_pattern = re.compile(\"[\"\n",
    "                           u\"\\U0001F600-\\U0001F64F\"  # emoticons\n",
    "                           u\"\\U0001F300-\\U0001F5FF\"  # symbols & pictographs\n",
    "                           u\"\\U0001F680-\\U0001F6FF\"  # transport & map symbols\n",
    "                           u\"\\U0001F1E0-\\U0001F1FF\"  # flags (iOS)\n",
    "                           u\"\\U00002702-\\U000027B0\"\n",
    "                           u\"\\U000024C2-\\U0001F251\"\n",
    "                           \"]+\", flags=re.UNICODE)\n",
    "    return emoji_pattern.sub(r'', string)\n",
    "\n",
    "remove_emoji(\"game is on 🔥🔥\")"
   ]
  },
  {
   "cell_type": "markdown",
   "id": "9dfa1819",
   "metadata": {
    "pycharm": {
     "name": "#%% md\n"
    }
   },
   "source": [
    "## Emoticons Removal"
   ]
  },
  {
   "cell_type": "code",
   "execution_count": 14,
   "id": "55d4723c",
   "metadata": {
    "pycharm": {
     "name": "#%%\n"
    }
   },
   "outputs": [],
   "source": [
    "# src : https://github.com/NeelShah18/emot/blob/master/emot/emo_unicode.py\n",
    "EMOTICONS = {\n",
    "    u\":‑\\)\":\"Happy face or smiley\",\n",
    "    u\":\\)\":\"Happy face or smiley\",\n",
    "    u\":-\\]\":\"Happy face or smiley\",\n",
    "    u\":\\]\":\"Happy face or smiley\",\n",
    "    u\":-3\":\"Happy face smiley\",\n",
    "    u\":3\":\"Happy face smiley\",\n",
    "    u\":->\":\"Happy face smiley\",\n",
    "    u\":>\":\"Happy face smiley\",\n",
    "    u\"8-\\)\":\"Happy face smiley\",\n",
    "    u\":o\\)\":\"Happy face smiley\",\n",
    "    u\":-\\}\":\"Happy face smiley\",\n",
    "    u\":\\}\":\"Happy face smiley\",\n",
    "    u\":-\\)\":\"Happy face smiley\",\n",
    "    u\":c\\)\":\"Happy face smiley\",\n",
    "    u\":\\^\\)\":\"Happy face smiley\",\n",
    "    u\"=\\]\":\"Happy face smiley\",\n",
    "    u\"=\\)\":\"Happy face smiley\"\n",
    "}"
   ]
  },
  {
   "cell_type": "code",
   "execution_count": 15,
   "id": "4eeca2fc",
   "metadata": {
    "pycharm": {
     "name": "#%%\n"
    }
   },
   "outputs": [
    {
     "data": {
      "text/plain": "'Hello '"
     },
     "execution_count": 15,
     "metadata": {},
     "output_type": "execute_result"
    }
   ],
   "source": [
    "def remove_emoticons(text):\n",
    "    emoticon_pattern = re.compile(u'(' + u'|'.join(k for k in EMOTICONS) + u')')\n",
    "    return emoticon_pattern.sub(r'', text)\n",
    "\n",
    "remove_emoticons(\"Hello :-)\")"
   ]
  },
  {
   "cell_type": "markdown",
   "id": "e5d0c8c2",
   "metadata": {
    "pycharm": {
     "name": "#%% md\n"
    }
   },
   "source": [
    "## Conversion of Emoticons/Emojis to Words"
   ]
  },
  {
   "cell_type": "code",
   "execution_count": 16,
   "id": "dfd87fd9",
   "metadata": {
    "pycharm": {
     "name": "#%%\n"
    }
   },
   "outputs": [
    {
     "data": {
      "text/plain": "'Hello Happy_face_smiley Happy_face_smiley'"
     },
     "execution_count": 16,
     "metadata": {},
     "output_type": "execute_result"
    }
   ],
   "source": [
    "def convert_emoticons(text):\n",
    "    for emot in EMOTICONS:\n",
    "        text = re.sub(u'('+emot+')', \"_\".join(EMOTICONS[emot].replace(\",\",\"\").split()), text)\n",
    "    return text\n",
    "\n",
    "text = \"Hello :-) :-)\"\n",
    "convert_emoticons(text)"
   ]
  },
  {
   "cell_type": "markdown",
   "id": "5f007d8f",
   "metadata": {
    "pycharm": {
     "name": "#%% md\n"
    }
   },
   "source": [
    "## URLs Removal"
   ]
  },
  {
   "cell_type": "code",
   "execution_count": 17,
   "id": "8fc61720",
   "metadata": {
    "pycharm": {
     "name": "#%%\n"
    }
   },
   "outputs": [],
   "source": [
    "def remove_urls(text):\n",
    "    url_pattern = re.compile(r'https?://\\S+|www\\.\\S+')\n",
    "    return url_pattern.sub(r'', text)"
   ]
  },
  {
   "cell_type": "code",
   "execution_count": 18,
   "id": "a32cfd57",
   "metadata": {
    "pycharm": {
     "name": "#%%\n"
    }
   },
   "outputs": [
    {
     "data": {
      "text/plain": "'Check the documentation at '"
     },
     "execution_count": 18,
     "metadata": {},
     "output_type": "execute_result"
    }
   ],
   "source": [
    "text = \"Check the documentation at https://docs.python.org/3/\"\n",
    "remove_urls(text)"
   ]
  }
 ],
 "metadata": {
  "kernelspec": {
   "display_name": "Python 3",
   "language": "python",
   "name": "python3"
  },
  "language_info": {
   "codemirror_mode": {
    "name": "ipython",
    "version": 3
   },
   "file_extension": ".py",
   "mimetype": "text/x-python",
   "name": "python",
   "nbconvert_exporter": "python",
   "pygments_lexer": "ipython3",
   "version": "3.6.9"
  }
 },
 "nbformat": 4,
 "nbformat_minor": 5
}