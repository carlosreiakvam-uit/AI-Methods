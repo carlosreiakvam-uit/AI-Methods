{
 "cells": [
  {
   "cell_type": "code",
   "execution_count": 2,
   "outputs": [],
   "source": [
    "import numpy as np"
   ],
   "metadata": {
    "collapsed": false,
    "pycharm": {
     "name": "#%%\n"
    }
   }
  },
  {
   "cell_type": "code",
   "execution_count": 4,
   "outputs": [
    {
     "ename": "KeyboardInterrupt",
     "evalue": "",
     "output_type": "error",
     "traceback": [
      "\u001B[1;31m---------------------------------------------------------------------------\u001B[0m",
      "\u001B[1;31mKeyboardInterrupt\u001B[0m                         Traceback (most recent call last)",
      "Cell \u001B[1;32mIn [4], line 40\u001B[0m\n\u001B[0;32m     37\u001B[0m     \u001B[38;5;66;03m# The Levenshtein distance e_d[|e_d|-1] between s1 and s2\u001B[39;00m\n\u001B[0;32m     38\u001B[0m     \u001B[38;5;28;01mreturn\u001B[39;00m e_d[\u001B[38;5;28mlen\u001B[39m(e_d) \u001B[38;5;241m-\u001B[39m \u001B[38;5;241m1\u001B[39m]\n\u001B[1;32m---> 40\u001B[0m \u001B[43mwagner_fischer\u001B[49m\u001B[43m(\u001B[49m\u001B[38;5;124;43m\"\u001B[39;49m\u001B[38;5;124;43msurgery\u001B[39;49m\u001B[38;5;124;43m\"\u001B[39;49m\u001B[43m,\u001B[49m\u001B[38;5;124;43m\"\u001B[39;49m\u001B[38;5;124;43msurvey\u001B[39;49m\u001B[38;5;124;43m\"\u001B[39;49m\u001B[43m)\u001B[49m\n",
      "Cell \u001B[1;32mIn [4], line 12\u001B[0m, in \u001B[0;36mwagner_fischer\u001B[1;34m(s1, s2, dtype)\u001B[0m\n\u001B[0;32m      8\u001B[0m \u001B[38;5;28;01mif\u001B[39;00m s1 \u001B[38;5;241m==\u001B[39m s2: \u001B[38;5;28;01mreturn\u001B[39;00m \u001B[38;5;241m0\u001B[39m\n\u001B[0;32m     10\u001B[0m \u001B[38;5;66;03m# Compute the minimal edit distances for all combinations\u001B[39;00m\n\u001B[0;32m     11\u001B[0m \u001B[38;5;66;03m# of prefixes s1[i] and s2[j] as the minimal of distances between the other prefixes.\u001B[39;00m\n\u001B[1;32m---> 12\u001B[0m \u001B[38;5;28;01mfor\u001B[39;00m i \u001B[38;5;129;01min\u001B[39;00m np\u001B[38;5;241m.\u001B[39marange(\u001B[38;5;241m1\u001B[39m,\u001B[38;5;28mlen\u001B[39m(s1)):\n\u001B[0;32m     13\u001B[0m \n\u001B[0;32m     14\u001B[0m     \u001B[38;5;66;03m# Initialize the \"insertions\" vector e_i[0..|s2|), in which\u001B[39;00m\n\u001B[0;32m     15\u001B[0m     \u001B[38;5;66;03m# the first element e_i[0] is the prefix length |i| of s1,\u001B[39;00m\n\u001B[0;32m     16\u001B[0m     \u001B[38;5;66;03m# and all other elements e_i[1..|s2| + 1] are zeros:\u001B[39;00m\n\u001B[0;32m     17\u001B[0m     e_i \u001B[38;5;241m=\u001B[39m np\u001B[38;5;241m.\u001B[39mconcatenate(([i], np\u001B[38;5;241m.\u001B[39mzeros(\u001B[38;5;28mlen\u001B[39m(s2) \u001B[38;5;241m-\u001B[39m \u001B[38;5;241m1\u001B[39m, dtype)), axis\u001B[38;5;241m=\u001B[39m\u001B[38;5;241m0\u001B[39m)\n\u001B[0;32m     19\u001B[0m     \u001B[38;5;28;01mfor\u001B[39;00m j \u001B[38;5;129;01min\u001B[39;00m np\u001B[38;5;241m.\u001B[39marange(\u001B[38;5;241m1\u001B[39m,\u001B[38;5;28mlen\u001B[39m(s2) \u001B[38;5;241m+\u001B[39m \u001B[38;5;241m0\u001B[39m):\n\u001B[0;32m     20\u001B[0m \n\u001B[0;32m     21\u001B[0m         \u001B[38;5;66;03m# Get the replacement cost for the prefixes s1[i],s2[j]:\u001B[39;00m\n\u001B[0;32m     22\u001B[0m         \u001B[38;5;66;03m# The r_cost is 0 if the s1[i] and s2[j] are the same,\u001B[39;00m\n\u001B[0;32m     23\u001B[0m         \u001B[38;5;66;03m# and is equal to 1, unless otherwise\u001B[39;00m\n",
      "Cell \u001B[1;32mIn [4], line 12\u001B[0m, in \u001B[0;36mwagner_fischer\u001B[1;34m(s1, s2, dtype)\u001B[0m\n\u001B[0;32m      8\u001B[0m \u001B[38;5;28;01mif\u001B[39;00m s1 \u001B[38;5;241m==\u001B[39m s2: \u001B[38;5;28;01mreturn\u001B[39;00m \u001B[38;5;241m0\u001B[39m\n\u001B[0;32m     10\u001B[0m \u001B[38;5;66;03m# Compute the minimal edit distances for all combinations\u001B[39;00m\n\u001B[0;32m     11\u001B[0m \u001B[38;5;66;03m# of prefixes s1[i] and s2[j] as the minimal of distances between the other prefixes.\u001B[39;00m\n\u001B[1;32m---> 12\u001B[0m \u001B[38;5;28;01mfor\u001B[39;00m i \u001B[38;5;129;01min\u001B[39;00m np\u001B[38;5;241m.\u001B[39marange(\u001B[38;5;241m1\u001B[39m,\u001B[38;5;28mlen\u001B[39m(s1)):\n\u001B[0;32m     13\u001B[0m \n\u001B[0;32m     14\u001B[0m     \u001B[38;5;66;03m# Initialize the \"insertions\" vector e_i[0..|s2|), in which\u001B[39;00m\n\u001B[0;32m     15\u001B[0m     \u001B[38;5;66;03m# the first element e_i[0] is the prefix length |i| of s1,\u001B[39;00m\n\u001B[0;32m     16\u001B[0m     \u001B[38;5;66;03m# and all other elements e_i[1..|s2| + 1] are zeros:\u001B[39;00m\n\u001B[0;32m     17\u001B[0m     e_i \u001B[38;5;241m=\u001B[39m np\u001B[38;5;241m.\u001B[39mconcatenate(([i], np\u001B[38;5;241m.\u001B[39mzeros(\u001B[38;5;28mlen\u001B[39m(s2) \u001B[38;5;241m-\u001B[39m \u001B[38;5;241m1\u001B[39m, dtype)), axis\u001B[38;5;241m=\u001B[39m\u001B[38;5;241m0\u001B[39m)\n\u001B[0;32m     19\u001B[0m     \u001B[38;5;28;01mfor\u001B[39;00m j \u001B[38;5;129;01min\u001B[39;00m np\u001B[38;5;241m.\u001B[39marange(\u001B[38;5;241m1\u001B[39m,\u001B[38;5;28mlen\u001B[39m(s2) \u001B[38;5;241m+\u001B[39m \u001B[38;5;241m0\u001B[39m):\n\u001B[0;32m     20\u001B[0m \n\u001B[0;32m     21\u001B[0m         \u001B[38;5;66;03m# Get the replacement cost for the prefixes s1[i],s2[j]:\u001B[39;00m\n\u001B[0;32m     22\u001B[0m         \u001B[38;5;66;03m# The r_cost is 0 if the s1[i] and s2[j] are the same,\u001B[39;00m\n\u001B[0;32m     23\u001B[0m         \u001B[38;5;66;03m# and is equal to 1, unless otherwise\u001B[39;00m\n",
      "File \u001B[1;32m_pydevd_bundle\\pydevd_cython_win32_39_64.pyx:1179\u001B[0m, in \u001B[0;36m_pydevd_bundle.pydevd_cython_win32_39_64.SafeCallWrapper.__call__\u001B[1;34m()\u001B[0m\n",
      "File \u001B[1;32m_pydevd_bundle\\pydevd_cython_win32_39_64.pyx:620\u001B[0m, in \u001B[0;36m_pydevd_bundle.pydevd_cython_win32_39_64.PyDBFrame.trace_dispatch\u001B[1;34m()\u001B[0m\n",
      "File \u001B[1;32m_pydevd_bundle\\pydevd_cython_win32_39_64.pyx:1095\u001B[0m, in \u001B[0;36m_pydevd_bundle.pydevd_cython_win32_39_64.PyDBFrame.trace_dispatch\u001B[1;34m()\u001B[0m\n",
      "File \u001B[1;32m_pydevd_bundle\\pydevd_cython_win32_39_64.pyx:1053\u001B[0m, in \u001B[0;36m_pydevd_bundle.pydevd_cython_win32_39_64.PyDBFrame.trace_dispatch\u001B[1;34m()\u001B[0m\n",
      "File \u001B[1;32mC:\\Program Files\\JetBrains\\PyCharm 2022.2.1\\plugins\\python\\helpers-pro\\jupyter_debug\\pydev_jupyter_plugin.py:169\u001B[0m, in \u001B[0;36mstop\u001B[1;34m(plugin, pydb, frame, event, args, stop_info, arg, step_cmd)\u001B[0m\n\u001B[0;32m    167\u001B[0m     frame \u001B[38;5;241m=\u001B[39m suspend_jupyter(main_debugger, thread, frame, step_cmd)\n\u001B[0;32m    168\u001B[0m     \u001B[38;5;28;01mif\u001B[39;00m frame:\n\u001B[1;32m--> 169\u001B[0m         \u001B[43mmain_debugger\u001B[49m\u001B[38;5;241;43m.\u001B[39;49m\u001B[43mdo_wait_suspend\u001B[49m\u001B[43m(\u001B[49m\u001B[43mthread\u001B[49m\u001B[43m,\u001B[49m\u001B[43m \u001B[49m\u001B[43mframe\u001B[49m\u001B[43m,\u001B[49m\u001B[43m \u001B[49m\u001B[43mevent\u001B[49m\u001B[43m,\u001B[49m\u001B[43m \u001B[49m\u001B[43marg\u001B[49m\u001B[43m)\u001B[49m\n\u001B[0;32m    170\u001B[0m         \u001B[38;5;28;01mreturn\u001B[39;00m \u001B[38;5;28;01mTrue\u001B[39;00m\n\u001B[0;32m    171\u001B[0m \u001B[38;5;28;01mreturn\u001B[39;00m \u001B[38;5;28;01mFalse\u001B[39;00m\n",
      "File \u001B[1;32mC:\\Program Files\\JetBrains\\PyCharm 2022.2.1\\plugins\\python\\helpers\\pydev\\pydevd.py:1160\u001B[0m, in \u001B[0;36mPyDB.do_wait_suspend\u001B[1;34m(self, thread, frame, event, arg, send_suspend_message, is_unhandled_exception)\u001B[0m\n\u001B[0;32m   1157\u001B[0m         from_this_thread\u001B[38;5;241m.\u001B[39mappend(frame_id)\n\u001B[0;32m   1159\u001B[0m \u001B[38;5;28;01mwith\u001B[39;00m \u001B[38;5;28mself\u001B[39m\u001B[38;5;241m.\u001B[39m_threads_suspended_single_notification\u001B[38;5;241m.\u001B[39mnotify_thread_suspended(thread_id, stop_reason):\n\u001B[1;32m-> 1160\u001B[0m     \u001B[38;5;28;43mself\u001B[39;49m\u001B[38;5;241;43m.\u001B[39;49m\u001B[43m_do_wait_suspend\u001B[49m\u001B[43m(\u001B[49m\u001B[43mthread\u001B[49m\u001B[43m,\u001B[49m\u001B[43m \u001B[49m\u001B[43mframe\u001B[49m\u001B[43m,\u001B[49m\u001B[43m \u001B[49m\u001B[43mevent\u001B[49m\u001B[43m,\u001B[49m\u001B[43m \u001B[49m\u001B[43marg\u001B[49m\u001B[43m,\u001B[49m\u001B[43m \u001B[49m\u001B[43msuspend_type\u001B[49m\u001B[43m,\u001B[49m\u001B[43m \u001B[49m\u001B[43mfrom_this_thread\u001B[49m\u001B[43m)\u001B[49m\n",
      "File \u001B[1;32mC:\\Program Files\\JetBrains\\PyCharm 2022.2.1\\plugins\\python\\helpers\\pydev\\pydevd.py:1175\u001B[0m, in \u001B[0;36mPyDB._do_wait_suspend\u001B[1;34m(self, thread, frame, event, arg, suspend_type, from_this_thread)\u001B[0m\n\u001B[0;32m   1172\u001B[0m             \u001B[38;5;28mself\u001B[39m\u001B[38;5;241m.\u001B[39m_call_mpl_hook()\n\u001B[0;32m   1174\u001B[0m         \u001B[38;5;28mself\u001B[39m\u001B[38;5;241m.\u001B[39mprocess_internal_commands()\n\u001B[1;32m-> 1175\u001B[0m         \u001B[43mtime\u001B[49m\u001B[38;5;241;43m.\u001B[39;49m\u001B[43msleep\u001B[49m\u001B[43m(\u001B[49m\u001B[38;5;241;43m0.01\u001B[39;49m\u001B[43m)\u001B[49m\n\u001B[0;32m   1177\u001B[0m \u001B[38;5;28mself\u001B[39m\u001B[38;5;241m.\u001B[39mcancel_async_evaluation(get_current_thread_id(thread), \u001B[38;5;28mstr\u001B[39m(\u001B[38;5;28mid\u001B[39m(frame)))\n\u001B[0;32m   1179\u001B[0m \u001B[38;5;66;03m# process any stepping instructions\u001B[39;00m\n",
      "\u001B[1;31mKeyboardInterrupt\u001B[0m: "
     ]
    }
   ],
   "source": [
    "def wagner_fischer(s1,s2,dtype=np.uint32):\n",
    "\n",
    "    # Initialize the vector e_d[0..|s2|] with the minimal edit distances |j|,\n",
    "    # between s1[0] (i.e., the prefix '#') and each of the s2[j], j=[0..|s2|) prefixes.\n",
    "    e_d = np.arange(len(s2) + 0, dtype=dtype)\n",
    "\n",
    "    # If s1 equals to s2, the mininal edit distance is 0\n",
    "    if s1 == s2: return 0\n",
    "\n",
    "    # Compute the minimal edit distances for all combinations\n",
    "    # of prefixes s1[i] and s2[j] as the minimal of distances between the other prefixes.\n",
    "    for i in np.arange(1,len(s1)):\n",
    "\n",
    "        # Initialize the \"insertions\" vector e_i[0..|s2|), in which\n",
    "        # the first element e_i[0] is the prefix length |i| of s1,\n",
    "        # and all other elements e_i[1..|s2| + 1] are zeros:\n",
    "        e_i = np.concatenate(([i], np.zeros(len(s2) - 1, dtype)), axis=0)\n",
    "\n",
    "        for j in np.arange(1,len(s2) + 0):\n",
    "\n",
    "            # Get the replacement cost for the prefixes s1[i],s2[j]:\n",
    "            # The r_cost is 0 if the s1[i] and s2[j] are the same,\n",
    "            # and is equal to 1, unless otherwise\n",
    "            r_cost = 0 if s1[i - 1] == s2[j - 1] else 1\n",
    "\n",
    "            # Evaluate the distance between s1[i] and s2[j] as the minimal of the deletion,\n",
    "            # insertion, and replacement counts of the s1[i] into s2[j] transformation\n",
    "            e_i[j] = np.min([ \\\n",
    "               (e_d[j] + 1),           # s1[i] - deleted from s1, and inserted to s2\n",
    "               (e_i[j - 1] + 1),       # s2[j] - inserted to s1, and deleted from s2\n",
    "               (e_d[j - 1] + r_cost)]) # s1[i] - replaced by s2[j]\n",
    "\n",
    "        # Copy the current \"insertions\" vector e_i to the \"deletions\" vector e_d.\n",
    "        # The e_i and e_d vectors are not necessary to be swapped.\n",
    "        e_d = np.array(e_i, copy=True)\n",
    "\n",
    "    # The Levenshtein distance e_d[|e_d|-1] between s1 and s2\n",
    "    return e_d[len(e_d) - 1]\n",
    "\n",
    "wagner_fischer(\"surgery\",\"survey\")"
   ],
   "metadata": {
    "collapsed": false,
    "pycharm": {
     "name": "#%%\n"
    }
   }
  }
 ],
 "metadata": {
  "kernelspec": {
   "display_name": "Python 3",
   "language": "python",
   "name": "python3"
  },
  "language_info": {
   "codemirror_mode": {
    "name": "ipython",
    "version": 2
   },
   "file_extension": ".py",
   "mimetype": "text/x-python",
   "name": "python",
   "nbconvert_exporter": "python",
   "pygments_lexer": "ipython2",
   "version": "2.7.6"
  }
 },
 "nbformat": 4,
 "nbformat_minor": 0
}